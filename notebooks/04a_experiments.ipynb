{
 "cells": [
  {
   "cell_type": "code",
   "execution_count": null,
   "metadata": {},
   "outputs": [],
   "source": [
    "# dimensionality reduction\n",
    "from sklearn.decomposition import PCA\n",
    "\n",
    "\n",
    "# unsupervised\n",
    "from sklearn.cluster import KMeans, DBSCAN\n",
    "\n",
    "from sklearn.metrics import silhouette_score"
   ]
  },
  {
   "cell_type": "code",
   "execution_count": null,
   "metadata": {},
   "outputs": [],
   "source": [
    "tfidf = TfidfVectorizer(max_df = 0.8, max_features = 4000, stop_words = 'english')\n",
    "X_vec = tfidf.fit_transform(X)\n",
    "km = KMeans(n_clusters = 2, random_state = 42)\n",
    "km.fit(X_vec)\n",
    "silhouette_score(X_vec, km.labels_)"
   ]
  },
  {
   "cell_type": "code",
   "execution_count": null,
   "metadata": {},
   "outputs": [],
   "source": [
    "tfidf = TfidfVectorizer(max_df = 0.8, max_features = 4000, stop_words = 'english')\n",
    "X_vec = tfidf.fit_transform(X)\n",
    "db = DBSCAN(eps = 0.5, min_samples = 5)\n",
    "db.fit(X_vec)\n",
    "silhouette_score(X_vec, db.labels_)"
   ]
  },
  {
   "cell_type": "code",
   "execution_count": null,
   "metadata": {},
   "outputs": [],
   "source": [
    "# trying our logreg with PCA\n",
    "\n",
    "# https://stackoverflow.com/questions/28384680/scikit-learns-pipeline-a-sparse-matrix-was-passed-but-dense-data-is-required\n",
    "from sklearn.pipeline import TransformerMixin\n",
    "class DenseTransformer(TransformerMixin):\n",
    "    def fit(self, X, y=None, **fit_params):\n",
    "        return self\n",
    "\n",
    "    def transform(self, X, y=None, **fit_params):\n",
    "        return np.asarray(X.todense())\n",
    "\n",
    "tfidf = TfidfVectorizer(max_df = 0.8, max_features = 4000, stop_words = 'english')\n",
    "dense = DenseTransformer()\n",
    "pca = PCA(n_components = 500, random_state = 42)\n",
    "logreg = LogisticRegression(max_iter = 10_000)\n",
    "\n",
    "pipe = Pipeline([('tfidf', tfidf), ('dense', dense), ('pca', pca), ('logreg', logreg)])\n",
    "pipe.fit(X_train, y_train)\n",
    "pipe.score(X_train, y_train), pipe.score(X_test, y_test)\n"
   ]
  }
 ],
 "metadata": {
  "kernelspec": {
   "display_name": "Python 3.9.12 ('base')",
   "language": "python",
   "name": "python3"
  },
  "language_info": {
   "name": "python",
   "version": "3.9.12"
  },
  "orig_nbformat": 4,
  "vscode": {
   "interpreter": {
    "hash": "5c5d815f4904d5c36e1cb6a23cb867a61c9881b6acdb1b6d63422ceae43ed5d6"
   }
  }
 },
 "nbformat": 4,
 "nbformat_minor": 2
}
