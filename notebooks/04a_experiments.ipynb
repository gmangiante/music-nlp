{
 "cells": [
  {
   "cell_type": "markdown",
   "metadata": {},
   "source": [
    "### GenreBot : Using Natural Language Processing in Music Marketing\n",
    "\n",
    "For background on this project, please see the [README](../README.md).\n",
    "\n",
    "**Notebooks**\n",
    "- [Data Acquisition](./01_data_acquisition.ipynb)\n",
    "- [Data Cleaning](./02_data_cleaning.ipynb)\n",
    "- [Exploratory Data Analysis](./03_eda.ipynb)\n",
    "- [Modeling](./04_modeling.ipynb)\n",
    "- Experiments (this notebook)\n",
    "- [Results and Recommendations](./05_results.ipynb)\n",
    "\n",
    "**In this notebook, you'll find a few experiments for future directions, including:**\n",
    "- Unsupervised clustering with KMeans and DBSCAN (where clusters are ideally genres)\n",
    "- Dimensionality reduction using a high-performance model and principal component analysis (PCA)\n",
    "- Attempt to generalize our selected production model to a multi-class problem"
   ]
  },
  {
   "cell_type": "code",
   "execution_count": 7,
   "metadata": {},
   "outputs": [],
   "source": [
    "# usual imports\n",
    "\n",
    "import pandas as pd\n",
    "import numpy as np\n",
    "import time\n",
    "\n",
    "# infrastructure\n",
    "from sklearn.model_selection import train_test_split, GridSearchCV\n",
    "from sklearn.pipeline import Pipeline, TransformerMixin\n",
    "\n",
    "# transformers\n",
    "from sklearn.feature_extraction.text import CountVectorizer, TfidfVectorizer\n",
    "\n",
    "# supervised\n",
    "from sklearn.linear_model import LogisticRegression\n",
    "from sklearn.naive_bayes import MultinomialNB\n",
    "\n",
    "# unsupervised\n",
    "from sklearn.cluster import KMeans, DBSCAN\n",
    "\n",
    "# dimensionality reduction\n",
    "from sklearn.decomposition import PCA\n",
    "\n",
    "# heterogeneous-model supervised\n",
    "from sklearn.ensemble import StackingClassifier\n",
    "\n",
    "# evaluation\n",
    "from sklearn.metrics import confusion_matrix, ConfusionMatrixDisplay, recall_score, precision_score, f1_score\n",
    "from sklearn.metrics import silhouette_score"
   ]
  },
  {
   "cell_type": "code",
   "execution_count": 2,
   "metadata": {},
   "outputs": [],
   "source": [
    "# Redoing our couple of transformations on our clean posts to recreate our X and y and train-test split\n",
    "df = pd.read_csv('../data/clean_posts.csv')\n",
    "\n",
    "# We're focusing on just 2 classes, so let's drop the others\n",
    "df = df[(df['subreddit'] == 'classicalmusic') | (df['subreddit'] == 'jazz')]\n",
    "\n",
    "# let's encode our classes for efficiency\n",
    "df['subreddit_code'] = df['subreddit'].astype('category').cat.codes\n",
    "\n",
    "X = df['all_text']\n",
    "y = df['subreddit_code']\n",
    "\n",
    "X_train, X_test, y_train, y_test = train_test_split(X, y, random_state = 42, stratify = y)"
   ]
  },
  {
   "cell_type": "markdown",
   "metadata": {},
   "source": [
    "**Unsupervised learning**:\n",
    "- The idea here is to try to use KMeans or DBSCAN to see if the vectorized text will tend to cluster according to genre.\n",
    "- We will use TFIDF with the same parameters as our production model to vectorize.\n",
    "- We will use silhouette score to evaluate whether clustering is even occurring.\n",
    "- Frankly, hopes are not particularly high for this!"
   ]
  },
  {
   "cell_type": "code",
   "execution_count": 3,
   "metadata": {},
   "outputs": [
    {
     "data": {
      "text/plain": [
       "0.006216706372890577"
      ]
     },
     "execution_count": 3,
     "metadata": {},
     "output_type": "execute_result"
    }
   ],
   "source": [
    "# KMeans\n",
    "tfidf = TfidfVectorizer(max_df = 0.8, max_features = 4000, stop_words = 'english')\n",
    "X_vec = tfidf.fit_transform(X)\n",
    "\n",
    "# 2 clusters, since we have 2 genres\n",
    "km = KMeans(n_clusters = 2, random_state = 42)\n",
    "km.fit(X_vec)\n",
    "\n",
    "silhouette_score(X_vec, km.labels_)"
   ]
  },
  {
   "cell_type": "code",
   "execution_count": 4,
   "metadata": {},
   "outputs": [
    {
     "data": {
      "text/plain": [
       "-0.26688675931080846"
      ]
     },
     "execution_count": 4,
     "metadata": {},
     "output_type": "execute_result"
    }
   ],
   "source": [
    "# DBSCAN\n",
    "tfidf = TfidfVectorizer(max_df = 0.8, max_features = 4000, stop_words = 'english')\n",
    "X_vec = tfidf.fit_transform(X)\n",
    "\n",
    "# Just some fairly neutral choices for parameters\n",
    "db = DBSCAN(eps = 0.5, min_samples = 5)\n",
    "db.fit(X_vec)\n",
    "\n",
    "silhouette_score(X_vec, db.labels_)"
   ]
  },
  {
   "cell_type": "markdown",
   "metadata": {},
   "source": [
    "**Conclusions:**\n",
    "- As expected, clustering vectorized text isn't easy - the silhouette scores are quite low.\n",
    "- Not worth pursuing at this time without further research."
   ]
  },
  {
   "cell_type": "markdown",
   "metadata": {},
   "source": [
    "- Now we'll give PCA a shot with a high-performance model. Note that we can't use our production model because it includes MultinomialNB, which can't handle the negative values coming in from PCA, so we'll go with the 2nd best model - TFIDF + LogisticRegression."
   ]
  },
  {
   "cell_type": "code",
   "execution_count": 9,
   "metadata": {},
   "outputs": [],
   "source": [
    "# recover our model\n",
    "\n",
    "tfidf = TfidfVectorizer(max_df = 0.8, max_features = 4000, stop_words = 'english')\n",
    "X_vec_train = tfidf.fit_transform(X_train)\n",
    "X_vec_test = tfidf.transform(X_test)\n",
    "\n",
    "logreg = LogisticRegression(max_iter = 10_000)"
   ]
  },
  {
   "cell_type": "code",
   "execution_count": 10,
   "metadata": {},
   "outputs": [
    {
     "data": {
      "text/plain": [
       "(0.9359951845906902, 0.9277833500501504)"
      ]
     },
     "execution_count": 10,
     "metadata": {},
     "output_type": "execute_result"
    }
   ],
   "source": [
    "# set up PCA\n",
    "\n",
    "# https://stackoverflow.com/questions/28384680/scikit-learns-pipeline-a-sparse-matrix-was-passed-but-dense-data-is-required\n",
    "# We need to transform the vectorized CSR matrix back into its dense version for PCA to use in pipeline\n",
    "\n",
    "class DenseTransformer(TransformerMixin):\n",
    "    '''\n",
    "    Conforms to pipeline requirements and transforms CSR matrix to dense\n",
    "    '''\n",
    "    def fit(self, X, y=None, **fit_params):\n",
    "        return self\n",
    "\n",
    "    def transform(self, X, y=None, **fit_params):\n",
    "        return np.asarray(X.todense())\n",
    "\n",
    "# Same TFIDF as before\n",
    "tfidf = TfidfVectorizer(max_df = 0.8, max_features = 4000, stop_words = 'english')\n",
    "dense = DenseTransformer()\n",
    "\n",
    "# Fairly neutral choice here, just want to see if it will even complete\n",
    "pca = PCA(n_components = 500, random_state = 42)\n",
    "\n",
    "pipe = Pipeline([('tfidf', tfidf), ('dense', dense), ('pca', pca), ('logreg', logreg)])\n",
    "pipe.fit(X_train, y_train)\n",
    "pipe.score(X_train, y_train), pipe.score(X_test, y_test)"
   ]
  },
  {
   "cell_type": "markdown",
   "metadata": {},
   "source": [
    "**Conclusions:**\n",
    "- This actually led to a slight decrease in our scores from the original model.\n",
    "- Note that I also tried with a higher number of components, but it became prohibitively slow to fit and was infeasible.\n",
    "- Not worth pursuing at this time without further research."
   ]
  },
  {
   "cell_type": "markdown",
   "metadata": {},
   "source": [
    "Now, let's give the multi-class version of our problem a shot. This should look very similar to our final results, except we will not drop the 2 additional classes (**electronicmusic** and **popheads**)."
   ]
  },
  {
   "cell_type": "code",
   "execution_count": 11,
   "metadata": {},
   "outputs": [],
   "source": [
    "# Redoing our couple of transformations on our clean posts to recreate our X and y and train-test split\n",
    "df = pd.read_csv('../data/clean_posts.csv')\n",
    "\n",
    "# let's encode our classes for efficiency\n",
    "df['subreddit_code'] = df['subreddit'].astype('category').cat.codes\n",
    "\n",
    "X = df['all_text']\n",
    "y = df['subreddit_code']\n",
    "\n",
    "X_train, X_test, y_train, y_test = train_test_split(X, y, random_state = 42, stratify = y)"
   ]
  },
  {
   "cell_type": "code",
   "execution_count": 13,
   "metadata": {},
   "outputs": [
    {
     "data": {
      "text/plain": [
       "0    0.250821\n",
       "3    0.250419\n",
       "2    0.250318\n",
       "1    0.248442\n",
       "Name: subreddit_code, dtype: float64"
      ]
     },
     "execution_count": 13,
     "metadata": {},
     "output_type": "execute_result"
    }
   ],
   "source": [
    "# Let's check out the value counts\n",
    "y_train.value_counts(normalize = True)"
   ]
  },
  {
   "cell_type": "code",
   "execution_count": 14,
   "metadata": {},
   "outputs": [
    {
     "data": {
      "text/plain": [
       "0    0.250754\n",
       "3    0.250452\n",
       "2    0.250352\n",
       "1    0.248442\n",
       "Name: subreddit_code, dtype: float64"
      ]
     },
     "execution_count": 14,
     "metadata": {},
     "output_type": "execute_result"
    }
   ],
   "source": [
    "y_test.value_counts(normalize = True)"
   ]
  },
  {
   "cell_type": "markdown",
   "metadata": {},
   "source": [
    "- As expected, we have even distributions of 4 classes now instead of 2. We can give our model a shot!"
   ]
  },
  {
   "cell_type": "code",
   "execution_count": 12,
   "metadata": {},
   "outputs": [
    {
     "data": {
      "text/plain": [
       "(0.9015684697365776, 0.860949125276493)"
      ]
     },
     "execution_count": 12,
     "metadata": {},
     "output_type": "execute_result"
    }
   ],
   "source": [
    "# recover our model\n",
    "\n",
    "tfidf = TfidfVectorizer(max_df = 0.8, max_features = 4000, stop_words = 'english')\n",
    "X_vec_train = tfidf.fit_transform(X_train)\n",
    "X_vec_test = tfidf.transform(X_test)\n",
    "\n",
    "logreg = LogisticRegression(C=1, l1_ratio=0.1, max_iter=10000, penalty='elasticnet',\n",
    "                   solver='saga')\n",
    "mnb = MultinomialNB()\n",
    "\n",
    "l1_estimators = [('logreg', logreg), ('mnb', mnb)]\n",
    "\n",
    "stack = StackingClassifier(l1_estimators)\n",
    "stack.fit(X_vec_train, y_train)\n",
    "stack.score(X_vec_train, y_train), stack.score(X_vec_test, y_test)"
   ]
  },
  {
   "cell_type": "code",
   "execution_count": 16,
   "metadata": {},
   "outputs": [
    {
     "data": {
      "image/png": "[encoded data removed]",
      "text/plain": [
       "<Figure size 432x288 with 2 Axes>"
      ]
     },
     "metadata": {
      "needs_background": "light"
     },
     "output_type": "display_data"
    }
   ],
   "source": [
    "# Check out the raw confusion matrix\n",
    "\n",
    "preds = stack.predict(X_vec_test)\n",
    "ConfusionMatrixDisplay.from_estimator(stack, X_vec_test, y_test, cmap='Blues');"
   ]
  },
  {
   "cell_type": "code",
   "execution_count": 18,
   "metadata": {},
   "outputs": [
    {
     "data": {
      "image/png": "[encoded data removed]",
      "text/plain": [
       "<Figure size 432x288 with 2 Axes>"
      ]
     },
     "metadata": {
      "needs_background": "light"
     },
     "output_type": "display_data"
    }
   ],
   "source": [
    "# Check out the prediction-normalized confusion matrix\n",
    "\n",
    "preds = stack.predict(X_vec_test)\n",
    "ConfusionMatrixDisplay.from_estimator(stack, X_vec_test, y_test, cmap='Blues', normalize = 'pred');"
   ]
  },
  {
   "cell_type": "markdown",
   "metadata": {},
   "source": [
    "**Conclusions:**\n",
    "- Our train/test scores didn't drop too much with the 4-class model, and nothing in the confusion matrix particularly sticks out as problematic.\n",
    "- This is a good sign for generalizing our model to more than 2 genres!"
   ]
  },
  {
   "cell_type": "markdown",
   "metadata": {},
   "source": [
    "**FINAL NOTES**:\n",
    "- Our experiments in unsupervised learning and dimensionality reduction produced unsatisfactory results - more research needed to see if either might be useful.\n",
    "- Generalizing our model to 4 genres instead of 2 produced fairly positive results - some work may be needed to optimize the model for this more complex case.\n",
    "- To view the production model results, go [here](./05_results.ipynb)."
   ]
  }
 ],
 "metadata": {
  "kernelspec": {
   "display_name": "Python 3.9.12 ('base')",
   "language": "python",
   "name": "python3"
  },
  "language_info": {
   "codemirror_mode": {
    "name": "ipython",
    "version": 3
   },
   "file_extension": ".py",
   "mimetype": "text/x-python",
   "name": "python",
   "nbconvert_exporter": "python",
   "pygments_lexer": "ipython3",
   "version": "3.9.12"
  },
  "orig_nbformat": 4,
  "vscode": {
   "interpreter": {
    "hash": "5c5d815f4904d5c36e1cb6a23cb867a61c9881b6acdb1b6d63422ceae43ed5d6"
   }
  }
 },
 "nbformat": 4,
 "nbformat_minor": 2
}
