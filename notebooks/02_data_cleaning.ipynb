{
 "cells": [
  {
   "cell_type": "code",
   "execution_count": 207,
   "metadata": {},
   "outputs": [],
   "source": [
    "import pandas as pd\n",
    "import re\n",
    "\n",
    "# https://stackoverflow.com/questions/2087370/decode-html-entities-in-python-string\n",
    "from w3lib.html import replace_entities"
   ]
  },
  {
   "cell_type": "code",
   "execution_count": 208,
   "metadata": {},
   "outputs": [],
   "source": [
    "df = pd.read_csv('../data/raw_posts.csv')"
   ]
  },
  {
   "cell_type": "code",
   "execution_count": 209,
   "metadata": {},
   "outputs": [
    {
     "name": "stdout",
     "output_type": "stream",
     "text": [
      "<class 'pandas.core.frame.DataFrame'>\n",
      "RangeIndex: 19977 entries, 0 to 19976\n",
      "Data columns (total 9 columns):\n",
      " #   Column        Non-Null Count  Dtype \n",
      "---  ------        --------------  ----- \n",
      " 0   author        19977 non-null  object\n",
      " 1   created_utc   19977 non-null  int64 \n",
      " 2   id            19977 non-null  object\n",
      " 3   num_comments  19977 non-null  int64 \n",
      " 4   score         19977 non-null  int64 \n",
      " 5   selftext      18489 non-null  object\n",
      " 6   subreddit     19977 non-null  object\n",
      " 7   title         19977 non-null  object\n",
      " 8   period        19977 non-null  int64 \n",
      "dtypes: int64(4), object(5)\n",
      "memory usage: 1.4+ MB\n"
     ]
    }
   ],
   "source": [
    "# let's get some cool info\n",
    "df.info()"
   ]
  },
  {
   "cell_type": "code",
   "execution_count": 210,
   "metadata": {},
   "outputs": [],
   "source": [
    "# well the null selftexts aren't great, but as long as there's at least a title there, we have something (maybe)\n",
    "# so probably best to fill NaNs with empty string and then concatenate\n",
    "df.fillna(value = '', inplace = True)"
   ]
  },
  {
   "cell_type": "code",
   "execution_count": 211,
   "metadata": {},
   "outputs": [
    {
     "data": {
      "text/html": [
       "<div>\n",
       "<style scoped>\n",
       "    .dataframe tbody tr th:only-of-type {\n",
       "        vertical-align: middle;\n",
       "    }\n",
       "\n",
       "    .dataframe tbody tr th {\n",
       "        vertical-align: top;\n",
       "    }\n",
       "\n",
       "    .dataframe thead th {\n",
       "        text-align: right;\n",
       "    }\n",
       "</style>\n",
       "<table border=\"1\" class=\"dataframe\">\n",
       "  <thead>\n",
       "    <tr style=\"text-align: right;\">\n",
       "      <th></th>\n",
       "      <th>author</th>\n",
       "      <th>created_utc</th>\n",
       "      <th>id</th>\n",
       "      <th>num_comments</th>\n",
       "      <th>score</th>\n",
       "      <th>selftext</th>\n",
       "      <th>subreddit</th>\n",
       "      <th>title</th>\n",
       "      <th>period</th>\n",
       "    </tr>\n",
       "  </thead>\n",
       "  <tbody>\n",
       "    <tr>\n",
       "      <th>2</th>\n",
       "      <td>[deleted]</td>\n",
       "      <td>1223963408</td>\n",
       "      <td>76zmj</td>\n",
       "      <td>2</td>\n",
       "      <td>2</td>\n",
       "      <td>[deleted]</td>\n",
       "      <td>Jazz</td>\n",
       "      <td>anybody have that record of Charlie Christian ...</td>\n",
       "      <td>1</td>\n",
       "    </tr>\n",
       "    <tr>\n",
       "      <th>6</th>\n",
       "      <td>[deleted]</td>\n",
       "      <td>1244717722</td>\n",
       "      <td>8rmly</td>\n",
       "      <td>2</td>\n",
       "      <td>2</td>\n",
       "      <td>[deleted]</td>\n",
       "      <td>Jazz</td>\n",
       "      <td>What happened to urge2burge.wordpress.com? :(</td>\n",
       "      <td>2</td>\n",
       "    </tr>\n",
       "    <tr>\n",
       "      <th>7</th>\n",
       "      <td>[deleted]</td>\n",
       "      <td>1250145588</td>\n",
       "      <td>9a6xy</td>\n",
       "      <td>34</td>\n",
       "      <td>11</td>\n",
       "      <td>[deleted]</td>\n",
       "      <td>Jazz</td>\n",
       "      <td>Just starting to listen to Jazz.  Recommendati...</td>\n",
       "      <td>2</td>\n",
       "    </tr>\n",
       "    <tr>\n",
       "      <th>8</th>\n",
       "      <td>[deleted]</td>\n",
       "      <td>1250176578</td>\n",
       "      <td>9ab7s</td>\n",
       "      <td>0</td>\n",
       "      <td>1</td>\n",
       "      <td>[deleted]</td>\n",
       "      <td>Jazz</td>\n",
       "      <td>Jazz pioneer Rashied Ali Has died.</td>\n",
       "      <td>2</td>\n",
       "    </tr>\n",
       "    <tr>\n",
       "      <th>9</th>\n",
       "      <td>[deleted]</td>\n",
       "      <td>1252880400</td>\n",
       "      <td>9k6pw</td>\n",
       "      <td>0</td>\n",
       "      <td>0</td>\n",
       "      <td>[deleted]</td>\n",
       "      <td>Jazz</td>\n",
       "      <td>The Bad Plus - Cheney Pinata ...  groundbreaki...</td>\n",
       "      <td>2</td>\n",
       "    </tr>\n",
       "    <tr>\n",
       "      <th>...</th>\n",
       "      <td>...</td>\n",
       "      <td>...</td>\n",
       "      <td>...</td>\n",
       "      <td>...</td>\n",
       "      <td>...</td>\n",
       "      <td>...</td>\n",
       "      <td>...</td>\n",
       "      <td>...</td>\n",
       "      <td>...</td>\n",
       "    </tr>\n",
       "    <tr>\n",
       "      <th>19960</th>\n",
       "      <td>Heavy_Possibility_18</td>\n",
       "      <td>1650717493</td>\n",
       "      <td>ua4jee</td>\n",
       "      <td>1</td>\n",
       "      <td>1</td>\n",
       "      <td>[removed]</td>\n",
       "      <td>classicalmusic</td>\n",
       "      <td>Need help!</td>\n",
       "      <td>20</td>\n",
       "    </tr>\n",
       "    <tr>\n",
       "      <th>19966</th>\n",
       "      <td>Well_Made_Legacy</td>\n",
       "      <td>1650747440</td>\n",
       "      <td>uaennx</td>\n",
       "      <td>1</td>\n",
       "      <td>1</td>\n",
       "      <td>[removed]</td>\n",
       "      <td>classicalmusic</td>\n",
       "      <td>Clarinet and French horn duet pieces?</td>\n",
       "      <td>20</td>\n",
       "    </tr>\n",
       "    <tr>\n",
       "      <th>19967</th>\n",
       "      <td>LazyMaster42</td>\n",
       "      <td>1650748083</td>\n",
       "      <td>uaevrn</td>\n",
       "      <td>1</td>\n",
       "      <td>1</td>\n",
       "      <td>[removed]</td>\n",
       "      <td>classicalmusic</td>\n",
       "      <td>I have a piece stuck in my head and I was wond...</td>\n",
       "      <td>20</td>\n",
       "    </tr>\n",
       "    <tr>\n",
       "      <th>19968</th>\n",
       "      <td>BananaZealousideal23</td>\n",
       "      <td>1650750783</td>\n",
       "      <td>uafrjw</td>\n",
       "      <td>1</td>\n",
       "      <td>1</td>\n",
       "      <td>[removed]</td>\n",
       "      <td>classicalmusic</td>\n",
       "      <td>Music that sounds like Shame by Mitski</td>\n",
       "      <td>20</td>\n",
       "    </tr>\n",
       "    <tr>\n",
       "      <th>19974</th>\n",
       "      <td>KnivesAndNeedless</td>\n",
       "      <td>1650776206</td>\n",
       "      <td>uan5rt</td>\n",
       "      <td>1</td>\n",
       "      <td>1</td>\n",
       "      <td>[removed]</td>\n",
       "      <td>classicalmusic</td>\n",
       "      <td>looking for a free playlist</td>\n",
       "      <td>20</td>\n",
       "    </tr>\n",
       "  </tbody>\n",
       "</table>\n",
       "<p>2483 rows × 9 columns</p>\n",
       "</div>"
      ],
      "text/plain": [
       "                     author  created_utc      id  num_comments  score   selftext       subreddit                                              title  period\n",
       "2                 [deleted]   1223963408   76zmj             2      2  [deleted]            Jazz  anybody have that record of Charlie Christian ...       1\n",
       "6                 [deleted]   1244717722   8rmly             2      2  [deleted]            Jazz      What happened to urge2burge.wordpress.com? :(       2\n",
       "7                 [deleted]   1250145588   9a6xy            34     11  [deleted]            Jazz  Just starting to listen to Jazz.  Recommendati...       2\n",
       "8                 [deleted]   1250176578   9ab7s             0      1  [deleted]            Jazz                Jazz pioneer Rashied Ali Has died.        2\n",
       "9                 [deleted]   1252880400   9k6pw             0      0  [deleted]            Jazz  The Bad Plus - Cheney Pinata ...  groundbreaki...       2\n",
       "...                     ...          ...     ...           ...    ...        ...             ...                                                ...     ...\n",
       "19960  Heavy_Possibility_18   1650717493  ua4jee             1      1  [removed]  classicalmusic                                         Need help!      20\n",
       "19966      Well_Made_Legacy   1650747440  uaennx             1      1  [removed]  classicalmusic              Clarinet and French horn duet pieces?      20\n",
       "19967          LazyMaster42   1650748083  uaevrn             1      1  [removed]  classicalmusic  I have a piece stuck in my head and I was wond...      20\n",
       "19968  BananaZealousideal23   1650750783  uafrjw             1      1  [removed]  classicalmusic             Music that sounds like Shame by Mitski      20\n",
       "19974     KnivesAndNeedless   1650776206  uan5rt             1      1  [removed]  classicalmusic                        looking for a free playlist      20\n",
       "\n",
       "[2483 rows x 9 columns]"
      ]
     },
     "execution_count": 211,
     "metadata": {},
     "output_type": "execute_result"
    }
   ],
   "source": [
    "# Also - we know we saw some [deleted] and [removed] in there - let's see if they at least have titles\n",
    "df[(df['selftext'] == '[deleted]') | (df['selftext'] == '[removed]')]\n",
    "\n",
    "# looks like they do - so we should change those to empty strings too"
   ]
  },
  {
   "cell_type": "code",
   "execution_count": 212,
   "metadata": {},
   "outputs": [],
   "source": [
    "df.loc[(df['selftext'] == '[deleted]') | (df['selftext'] == '[removed]'), 'selftext'] = ''"
   ]
  },
  {
   "cell_type": "code",
   "execution_count": 213,
   "metadata": {},
   "outputs": [
    {
     "data": {
      "text/html": [
       "<div>\n",
       "<style scoped>\n",
       "    .dataframe tbody tr th:only-of-type {\n",
       "        vertical-align: middle;\n",
       "    }\n",
       "\n",
       "    .dataframe tbody tr th {\n",
       "        vertical-align: top;\n",
       "    }\n",
       "\n",
       "    .dataframe thead th {\n",
       "        text-align: right;\n",
       "    }\n",
       "</style>\n",
       "<table border=\"1\" class=\"dataframe\">\n",
       "  <thead>\n",
       "    <tr style=\"text-align: right;\">\n",
       "      <th></th>\n",
       "      <th>author</th>\n",
       "      <th>created_utc</th>\n",
       "      <th>id</th>\n",
       "      <th>num_comments</th>\n",
       "      <th>score</th>\n",
       "      <th>selftext</th>\n",
       "      <th>subreddit</th>\n",
       "      <th>title</th>\n",
       "      <th>period</th>\n",
       "    </tr>\n",
       "  </thead>\n",
       "  <tbody>\n",
       "  </tbody>\n",
       "</table>\n",
       "</div>"
      ],
      "text/plain": [
       "Empty DataFrame\n",
       "Columns: [author, created_utc, id, num_comments, score, selftext, subreddit, title, period]\n",
       "Index: []"
      ]
     },
     "execution_count": 213,
     "metadata": {},
     "output_type": "execute_result"
    }
   ],
   "source": [
    "# double-check\n",
    "df[(df['selftext'] == '[deleted]') | (df['selftext'] == '[removed]')]\n",
    "\n",
    "# good"
   ]
  },
  {
   "cell_type": "code",
   "execution_count": 214,
   "metadata": {},
   "outputs": [],
   "source": [
    "# let's concatenate now\n",
    "df['all_text'] = df['title'] + ' ' + df['selftext']"
   ]
  },
  {
   "cell_type": "code",
   "execution_count": 215,
   "metadata": {},
   "outputs": [],
   "source": [
    "# let's get rid of unicode/emojis\n",
    "# https://stackoverflow.com/questions/44010727/remove-unicode-code-uxxx-in-string-python\n",
    "df['all_text'] = df['all_text'].map(lambda x: re.sub(r'[^\\x00-\\x7F]+', ' ', x))"
   ]
  },
  {
   "cell_type": "code",
   "execution_count": 216,
   "metadata": {},
   "outputs": [],
   "source": [
    "# let's fix up the HTML entities - running this 2x because some of them are double-encoded\n",
    "df['all_text'] = df['all_text'].map(lambda x: replace_entities(x))\n",
    "df['all_text'] = df['all_text'].map(lambda x: replace_entities(x))"
   ]
  },
  {
   "cell_type": "code",
   "execution_count": 217,
   "metadata": {},
   "outputs": [],
   "source": [
    "# and the literal escape characters\n",
    "df['all_text'] = df['all_text'].map(lambda x: re.sub(r'\\n|\\r|\\t', ' ', x))"
   ]
  },
  {
   "cell_type": "code",
   "execution_count": 218,
   "metadata": {},
   "outputs": [],
   "source": [
    "# and the URLs\n",
    "df['all_text'] = df['all_text'].map(lambda x: re.sub(r'\\bhttp(s?)://.+\\b', ' ', x))"
   ]
  },
  {
   "cell_type": "code",
   "execution_count": 219,
   "metadata": {},
   "outputs": [],
   "source": [
    "# and the punctuation that isn't apostrophes\n",
    "df['all_text'] = df['all_text'].map(lambda x: re.sub(r'[.,/;:!?~@#$%^&*()_+=\\[\\]|<>\"-]', ' ', x))"
   ]
  },
  {
   "cell_type": "code",
   "execution_count": 220,
   "metadata": {},
   "outputs": [],
   "source": [
    "# and numbers\n",
    "df['all_text'] = df['all_text'].map(lambda x: re.sub(r'[0-9]', ' ', x))"
   ]
  },
  {
   "cell_type": "code",
   "execution_count": 221,
   "metadata": {},
   "outputs": [],
   "source": [
    "# and double spaces\n",
    "df['all_text'] = df['all_text'].map(lambda x: re.sub(r'\\s+', ' ', x))"
   ]
  },
  {
   "cell_type": "code",
   "execution_count": 222,
   "metadata": {},
   "outputs": [],
   "source": [
    "# and strip it\n",
    "df['all_text'] = df['all_text'].map(lambda x: x.strip())"
   ]
  },
  {
   "cell_type": "code",
   "execution_count": 223,
   "metadata": {},
   "outputs": [],
   "source": [
    "# let's get the character lengths - generally useful and also will let us know if we have any zeros now\n",
    "df['all_text_len'] = df['all_text'].map(lambda x: len(str(x)))"
   ]
  },
  {
   "cell_type": "code",
   "execution_count": 224,
   "metadata": {},
   "outputs": [
    {
     "data": {
      "text/plain": [
       "9451         0\n",
       "2113         0\n",
       "7150         0\n",
       "2100         0\n",
       "10527        0\n",
       "         ...  \n",
       "12308     9441\n",
       "8358      9507\n",
       "17160     9552\n",
       "17570    13228\n",
       "17361    13533\n",
       "Name: all_text_len, Length: 19977, dtype: int64"
      ]
     },
     "execution_count": 224,
     "metadata": {},
     "output_type": "execute_result"
    }
   ],
   "source": [
    "df['all_text_len'].sort_values()\n",
    "# yep we got zeros - they need to go"
   ]
  },
  {
   "cell_type": "code",
   "execution_count": 225,
   "metadata": {},
   "outputs": [
    {
     "data": {
      "text/plain": [
       "subreddit\n",
       "Jazz              25\n",
       "classicalmusic    13\n",
       "Name: all_text_len, dtype: int64"
      ]
     },
     "execution_count": 225,
     "metadata": {},
     "output_type": "execute_result"
    }
   ],
   "source": [
    "# maybe let's see how much dropping the zero-length rows is gonna affect the respective classes\n",
    "df[df['all_text_len'] == 0].groupby('subreddit').count()['all_text_len']\n",
    "\n",
    "# not bad at all, we can stand to lose these"
   ]
  },
  {
   "cell_type": "code",
   "execution_count": 226,
   "metadata": {},
   "outputs": [
    {
     "data": {
      "text/plain": [
       "(19939, 11)"
      ]
     },
     "execution_count": 226,
     "metadata": {},
     "output_type": "execute_result"
    }
   ],
   "source": [
    "df = df[df['all_text_len'] > 0]\n",
    "df.shape\n",
    "\n",
    "# looks good"
   ]
  },
  {
   "cell_type": "code",
   "execution_count": 227,
   "metadata": {},
   "outputs": [],
   "source": [
    "# we should fix up the subreddits so they're all lowercase\n",
    "df['subreddit'] = df['subreddit'].str.lower()"
   ]
  },
  {
   "cell_type": "code",
   "execution_count": 228,
   "metadata": {},
   "outputs": [],
   "source": [
    "# let's dump out the results so we can do some EDAing!\n",
    "df.to_csv('../data/clean_posts.csv', index = False)"
   ]
  },
  {
   "cell_type": "code",
   "execution_count": null,
   "metadata": {},
   "outputs": [],
   "source": []
  }
 ],
 "metadata": {
  "kernelspec": {
   "display_name": "Python 3.9.12 ('base')",
   "language": "python",
   "name": "python3"
  },
  "language_info": {
   "codemirror_mode": {
    "name": "ipython",
    "version": 3
   },
   "file_extension": ".py",
   "mimetype": "text/x-python",
   "name": "python",
   "nbconvert_exporter": "python",
   "pygments_lexer": "ipython3",
   "version": "3.9.12"
  },
  "orig_nbformat": 4,
  "vscode": {
   "interpreter": {
    "hash": "5c5d815f4904d5c36e1cb6a23cb867a61c9881b6acdb1b6d63422ceae43ed5d6"
   }
  }
 },
 "nbformat": 4,
 "nbformat_minor": 2
}
