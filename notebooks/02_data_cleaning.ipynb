{
 "cells": [
  {
   "cell_type": "markdown",
   "metadata": {},
   "source": [
    "### GenreBot : Using Natural Language Processing in Music Marketing\n",
    "\n",
    "For background on this project, please see the [README](../README.md).\n",
    "\n",
    "**Notebooks**\n",
    "- [Data Acquisition](./01_data_acquisition.ipynb)\n",
    "- Data Cleaning (this notebook)\n",
    "- [Exploratory Data Analysis](./03_eda.ipynb)\n",
    "- [Modeling](./04_modeling.ipynb)\n",
    "- [Experiments](./04a_experiments.ipynb)\n",
    "- [Results and Recommendations](./05_results.ipynb)\n",
    "\n",
    "**In this notebook, you'll find:**\n",
    "- Analysis and handling of null values in our raw posts dataset\n",
    "- Regular expressions and other text transformations to make our columns more useful"
   ]
  },
  {
   "cell_type": "code",
   "execution_count": 74,
   "metadata": {},
   "outputs": [],
   "source": [
    "# usual imports, plus re for regular expressions\n",
    "\n",
    "import pandas as pd\n",
    "import re\n",
    "\n",
    "# https://stackoverflow.com/questions/2087370/decode-html-entities-in-python-string\n",
    "# need this to transform HTML entities into their actual character strings easily\n",
    "from w3lib.html import replace_entities"
   ]
  },
  {
   "cell_type": "markdown",
   "metadata": {},
   "source": [
    "**Assumptions/parameters for cleaning**:\n",
    "- We'll use the concatenated **title** and **selftext** for our training material.\n",
    "- Even if the **selftext** of a post has **[deleted]** or **[removed]** as its content, it still potentially contains useful information in its **title**.\n",
    "- Within our text, we will get rid of:\n",
    "    - Unicode characters and emojis\n",
    "    - HTML entities\n",
    "    - literal escape characters such as **\\n** or **\\t**\n",
    "    - URLs\n",
    "    - Punctuation other than apostrophes\n",
    "    - Numbers\n",
    "    - Double spaces within the text, and unnecessary leading/trailing spaces\n",
    "- **NOTE:** The items above regarding punctuation and numbers could definitely be controversial. Given more time, I would like to reconsider the decision to strip these and find a more sophisticated cleaning strategy.\n",
    "- We will keep capitalization for now and let the vectorizers deal with lower-casing, so that we can get accurate trending terms at the end."
   ]
  },
  {
   "cell_type": "code",
   "execution_count": 75,
   "metadata": {},
   "outputs": [],
   "source": [
    "# Read in our raw posts from notebook 01\n",
    "\n",
    "df = pd.read_csv('../data/raw_posts.csv')"
   ]
  },
  {
   "cell_type": "code",
   "execution_count": 76,
   "metadata": {},
   "outputs": [
    {
     "name": "stdout",
     "output_type": "stream",
     "text": [
      "<class 'pandas.core.frame.DataFrame'>\n",
      "RangeIndex: 39956 entries, 0 to 39955\n",
      "Data columns (total 9 columns):\n",
      " #   Column        Non-Null Count  Dtype \n",
      "---  ------        --------------  ----- \n",
      " 0   author        39956 non-null  object\n",
      " 1   created_utc   39956 non-null  int64 \n",
      " 2   id            39956 non-null  object\n",
      " 3   num_comments  39956 non-null  int64 \n",
      " 4   score         39956 non-null  int64 \n",
      " 5   selftext      37647 non-null  object\n",
      " 6   subreddit     39956 non-null  object\n",
      " 7   title         39956 non-null  object\n",
      " 8   period        39956 non-null  int64 \n",
      "dtypes: int64(4), object(5)\n",
      "memory usage: 2.7+ MB\n"
     ]
    }
   ],
   "source": [
    "# Take a look at some useful info\n",
    "\n",
    "df.info()"
   ]
  },
  {
   "cell_type": "markdown",
   "metadata": {},
   "source": [
    "**Conclusions**:\n",
    "- The number of rows looks good - we want around 40,000.\n",
    "- The only actual nulls we have are in the **selftext** column.\n",
    "- None of the data types seem problematic right now - most of these we're just going to cart along to EDA anyway!"
   ]
  },
  {
   "cell_type": "code",
   "execution_count": 77,
   "metadata": {},
   "outputs": [],
   "source": [
    "# Since we want to keep at least the title for posts that have no useful selftext,\n",
    "# let's fill NaNs with empty string in preparation for concatenation (we don't want to concatenate with NaN!)\n",
    "df.fillna(value = '', inplace = True)"
   ]
  },
  {
   "cell_type": "code",
   "execution_count": 78,
   "metadata": {},
   "outputs": [
    {
     "data": {
      "text/html": [
       "<div>\n",
       "<style scoped>\n",
       "    .dataframe tbody tr th:only-of-type {\n",
       "        vertical-align: middle;\n",
       "    }\n",
       "\n",
       "    .dataframe tbody tr th {\n",
       "        vertical-align: top;\n",
       "    }\n",
       "\n",
       "    .dataframe thead th {\n",
       "        text-align: right;\n",
       "    }\n",
       "</style>\n",
       "<table border=\"1\" class=\"dataframe\">\n",
       "  <thead>\n",
       "    <tr style=\"text-align: right;\">\n",
       "      <th></th>\n",
       "      <th>author</th>\n",
       "      <th>created_utc</th>\n",
       "      <th>id</th>\n",
       "      <th>num_comments</th>\n",
       "      <th>score</th>\n",
       "      <th>selftext</th>\n",
       "      <th>subreddit</th>\n",
       "      <th>title</th>\n",
       "      <th>period</th>\n",
       "    </tr>\n",
       "  </thead>\n",
       "  <tbody>\n",
       "    <tr>\n",
       "      <th>2</th>\n",
       "      <td>[deleted]</td>\n",
       "      <td>1223963408</td>\n",
       "      <td>76zmj</td>\n",
       "      <td>2</td>\n",
       "      <td>2</td>\n",
       "      <td>[deleted]</td>\n",
       "      <td>Jazz</td>\n",
       "      <td>anybody have that record of Charlie Christian ...</td>\n",
       "      <td>1</td>\n",
       "    </tr>\n",
       "    <tr>\n",
       "      <th>6</th>\n",
       "      <td>[deleted]</td>\n",
       "      <td>1244717722</td>\n",
       "      <td>8rmly</td>\n",
       "      <td>2</td>\n",
       "      <td>2</td>\n",
       "      <td>[deleted]</td>\n",
       "      <td>Jazz</td>\n",
       "      <td>What happened to urge2burge.wordpress.com? :(</td>\n",
       "      <td>2</td>\n",
       "    </tr>\n",
       "    <tr>\n",
       "      <th>7</th>\n",
       "      <td>[deleted]</td>\n",
       "      <td>1250145588</td>\n",
       "      <td>9a6xy</td>\n",
       "      <td>34</td>\n",
       "      <td>11</td>\n",
       "      <td>[deleted]</td>\n",
       "      <td>Jazz</td>\n",
       "      <td>Just starting to listen to Jazz.  Recommendati...</td>\n",
       "      <td>2</td>\n",
       "    </tr>\n",
       "    <tr>\n",
       "      <th>8</th>\n",
       "      <td>[deleted]</td>\n",
       "      <td>1250176578</td>\n",
       "      <td>9ab7s</td>\n",
       "      <td>0</td>\n",
       "      <td>1</td>\n",
       "      <td>[deleted]</td>\n",
       "      <td>Jazz</td>\n",
       "      <td>Jazz pioneer Rashied Ali Has died.</td>\n",
       "      <td>2</td>\n",
       "    </tr>\n",
       "    <tr>\n",
       "      <th>9</th>\n",
       "      <td>[deleted]</td>\n",
       "      <td>1252880400</td>\n",
       "      <td>9k6pw</td>\n",
       "      <td>0</td>\n",
       "      <td>0</td>\n",
       "      <td>[deleted]</td>\n",
       "      <td>Jazz</td>\n",
       "      <td>The Bad Plus - Cheney Pinata ...  groundbreaki...</td>\n",
       "      <td>2</td>\n",
       "    </tr>\n",
       "    <tr>\n",
       "      <th>...</th>\n",
       "      <td>...</td>\n",
       "      <td>...</td>\n",
       "      <td>...</td>\n",
       "      <td>...</td>\n",
       "      <td>...</td>\n",
       "      <td>...</td>\n",
       "      <td>...</td>\n",
       "      <td>...</td>\n",
       "      <td>...</td>\n",
       "    </tr>\n",
       "    <tr>\n",
       "      <th>39951</th>\n",
       "      <td>zSyke99</td>\n",
       "      <td>1653782286</td>\n",
       "      <td>uzzbpg</td>\n",
       "      <td>1</td>\n",
       "      <td>1</td>\n",
       "      <td>[removed]</td>\n",
       "      <td>electronicmusic</td>\n",
       "      <td>I made this playlist with my favorite Bitbird ...</td>\n",
       "      <td>20</td>\n",
       "    </tr>\n",
       "    <tr>\n",
       "      <th>39952</th>\n",
       "      <td>the_fire_tornado</td>\n",
       "      <td>1653795773</td>\n",
       "      <td>v02xjo</td>\n",
       "      <td>1</td>\n",
       "      <td>1</td>\n",
       "      <td>[removed]</td>\n",
       "      <td>electronicmusic</td>\n",
       "      <td>Fire Tornado - Unknown</td>\n",
       "      <td>20</td>\n",
       "    </tr>\n",
       "    <tr>\n",
       "      <th>39953</th>\n",
       "      <td>the_fire_tornado</td>\n",
       "      <td>1653796729</td>\n",
       "      <td>v0360s</td>\n",
       "      <td>1</td>\n",
       "      <td>1</td>\n",
       "      <td>[removed]</td>\n",
       "      <td>electronicmusic</td>\n",
       "      <td>Fire Tornado - Unknown (edm/dance)</td>\n",
       "      <td>20</td>\n",
       "    </tr>\n",
       "    <tr>\n",
       "      <th>39954</th>\n",
       "      <td>Prestigious-Park9301</td>\n",
       "      <td>1653803513</td>\n",
       "      <td>v04saa</td>\n",
       "      <td>1</td>\n",
       "      <td>1</td>\n",
       "      <td>[removed]</td>\n",
       "      <td>electronicmusic</td>\n",
       "      <td>I'm looking for pop EDM songs that give you \"s...</td>\n",
       "      <td>20</td>\n",
       "    </tr>\n",
       "    <tr>\n",
       "      <th>39955</th>\n",
       "      <td>VitalityRM</td>\n",
       "      <td>1653827114</td>\n",
       "      <td>v0a41e</td>\n",
       "      <td>1</td>\n",
       "      <td>1</td>\n",
       "      <td>[removed]</td>\n",
       "      <td>electronicmusic</td>\n",
       "      <td>Enchanted Dark Fairy Forest Ambient Music</td>\n",
       "      <td>20</td>\n",
       "    </tr>\n",
       "  </tbody>\n",
       "</table>\n",
       "<p>10061 rows × 9 columns</p>\n",
       "</div>"
      ],
      "text/plain": [
       "                     author  created_utc      id  num_comments  score  \\\n",
       "2                 [deleted]   1223963408   76zmj             2      2   \n",
       "6                 [deleted]   1244717722   8rmly             2      2   \n",
       "7                 [deleted]   1250145588   9a6xy            34     11   \n",
       "8                 [deleted]   1250176578   9ab7s             0      1   \n",
       "9                 [deleted]   1252880400   9k6pw             0      0   \n",
       "...                     ...          ...     ...           ...    ...   \n",
       "39951               zSyke99   1653782286  uzzbpg             1      1   \n",
       "39952      the_fire_tornado   1653795773  v02xjo             1      1   \n",
       "39953      the_fire_tornado   1653796729  v0360s             1      1   \n",
       "39954  Prestigious-Park9301   1653803513  v04saa             1      1   \n",
       "39955            VitalityRM   1653827114  v0a41e             1      1   \n",
       "\n",
       "        selftext        subreddit  \\\n",
       "2      [deleted]             Jazz   \n",
       "6      [deleted]             Jazz   \n",
       "7      [deleted]             Jazz   \n",
       "8      [deleted]             Jazz   \n",
       "9      [deleted]             Jazz   \n",
       "...          ...              ...   \n",
       "39951  [removed]  electronicmusic   \n",
       "39952  [removed]  electronicmusic   \n",
       "39953  [removed]  electronicmusic   \n",
       "39954  [removed]  electronicmusic   \n",
       "39955  [removed]  electronicmusic   \n",
       "\n",
       "                                                   title  period  \n",
       "2      anybody have that record of Charlie Christian ...       1  \n",
       "6          What happened to urge2burge.wordpress.com? :(       2  \n",
       "7      Just starting to listen to Jazz.  Recommendati...       2  \n",
       "8                    Jazz pioneer Rashied Ali Has died.        2  \n",
       "9      The Bad Plus - Cheney Pinata ...  groundbreaki...       2  \n",
       "...                                                  ...     ...  \n",
       "39951  I made this playlist with my favorite Bitbird ...      20  \n",
       "39952                             Fire Tornado - Unknown      20  \n",
       "39953                 Fire Tornado - Unknown (edm/dance)      20  \n",
       "39954  I'm looking for pop EDM songs that give you \"s...      20  \n",
       "39955          Enchanted Dark Fairy Forest Ambient Music      20  \n",
       "\n",
       "[10061 rows x 9 columns]"
      ]
     },
     "execution_count": 78,
     "metadata": {},
     "output_type": "execute_result"
    }
   ],
   "source": [
    "# Also - we know we saw some [deleted] and [removed] in there - let's see if they at least have titles\n",
    "\n",
    "df[(df['selftext'] == '[deleted]') | (df['selftext'] == '[removed]')]"
   ]
  },
  {
   "cell_type": "markdown",
   "metadata": {},
   "source": [
    "**Conclusions:**\n",
    "- The [deleted] and [removed] posts still have good material in their **title** column, so we should keep those documents.\n",
    "- We will replace [deleted] and [removed] with empty strings."
   ]
  },
  {
   "cell_type": "code",
   "execution_count": 79,
   "metadata": {},
   "outputs": [],
   "source": [
    "# Replacing [deleted] and [removed]\n",
    "\n",
    "df.loc[(df['selftext'] == '[deleted]') | (df['selftext'] == '[removed]'), 'selftext'] = ''"
   ]
  },
  {
   "cell_type": "code",
   "execution_count": 80,
   "metadata": {},
   "outputs": [
    {
     "data": {
      "text/html": [
       "<div>\n",
       "<style scoped>\n",
       "    .dataframe tbody tr th:only-of-type {\n",
       "        vertical-align: middle;\n",
       "    }\n",
       "\n",
       "    .dataframe tbody tr th {\n",
       "        vertical-align: top;\n",
       "    }\n",
       "\n",
       "    .dataframe thead th {\n",
       "        text-align: right;\n",
       "    }\n",
       "</style>\n",
       "<table border=\"1\" class=\"dataframe\">\n",
       "  <thead>\n",
       "    <tr style=\"text-align: right;\">\n",
       "      <th></th>\n",
       "      <th>author</th>\n",
       "      <th>created_utc</th>\n",
       "      <th>id</th>\n",
       "      <th>num_comments</th>\n",
       "      <th>score</th>\n",
       "      <th>selftext</th>\n",
       "      <th>subreddit</th>\n",
       "      <th>title</th>\n",
       "      <th>period</th>\n",
       "    </tr>\n",
       "  </thead>\n",
       "  <tbody>\n",
       "  </tbody>\n",
       "</table>\n",
       "</div>"
      ],
      "text/plain": [
       "Empty DataFrame\n",
       "Columns: [author, created_utc, id, num_comments, score, selftext, subreddit, title, period]\n",
       "Index: []"
      ]
     },
     "execution_count": 80,
     "metadata": {},
     "output_type": "execute_result"
    }
   ],
   "source": [
    "# double-check\n",
    "\n",
    "df[(df['selftext'] == '[deleted]') | (df['selftext'] == '[removed]')]\n",
    "\n",
    "# good - no [deleted] or [removed] left"
   ]
  },
  {
   "cell_type": "code",
   "execution_count": 81,
   "metadata": {},
   "outputs": [],
   "source": [
    "# let's concatenate now\n",
    "\n",
    "df['all_text'] = df['title'] + ' ' + df['selftext']"
   ]
  },
  {
   "cell_type": "markdown",
   "metadata": {},
   "source": [
    "- Our new **all_text** column will be the text we work on from this point forward - we'll keep the original in case we need it later.\n",
    "- It's time to perform the cleaning transforms!\n",
    "- **NOTE**: This might be best as a consolidated function for production use, but I chose to keep it as separate steps to allow checking things as I go along."
   ]
  },
  {
   "cell_type": "code",
   "execution_count": 82,
   "metadata": {},
   "outputs": [],
   "source": [
    "# let's get rid of unicode/emojis\n",
    "# https://stackoverflow.com/questions/44010727/remove-unicode-code-uxxx-in-string-python\n",
    "\n",
    "df['all_text'] = df['all_text'].map(lambda x: re.sub(r'[^\\x00-\\x7F]+', ' ', x))"
   ]
  },
  {
   "cell_type": "code",
   "execution_count": 83,
   "metadata": {},
   "outputs": [],
   "source": [
    "# let's fix up the HTML entities - running this 2x because some of them are double-encoded\n",
    "\n",
    "df['all_text'] = df['all_text'].map(lambda x: replace_entities(x))\n",
    "df['all_text'] = df['all_text'].map(lambda x: replace_entities(x))"
   ]
  },
  {
   "cell_type": "code",
   "execution_count": 84,
   "metadata": {},
   "outputs": [],
   "source": [
    "# bye bye literal escape characters\n",
    "\n",
    "df['all_text'] = df['all_text'].map(lambda x: re.sub(r'\\n|\\r|\\t', ' ', x))"
   ]
  },
  {
   "cell_type": "code",
   "execution_count": 85,
   "metadata": {},
   "outputs": [],
   "source": [
    "# no URLs please!\n",
    "\n",
    "df['all_text'] = df['all_text'].map(lambda x: re.sub(r'\\bhttp(s?)://.+\\b', ' ', x))"
   ]
  },
  {
   "cell_type": "code",
   "execution_count": 86,
   "metadata": {},
   "outputs": [],
   "source": [
    "# Punctuation that isn't apostrophes\n",
    "\n",
    "df['all_text'] = df['all_text'].map(lambda x: re.sub(r'[.,/;:!?~@#$%^&*()_+=\\[\\]|<>\"-]', ' ', x))"
   ]
  },
  {
   "cell_type": "code",
   "execution_count": 87,
   "metadata": {},
   "outputs": [],
   "source": [
    "# Numbers (eek)\n",
    "\n",
    "df['all_text'] = df['all_text'].map(lambda x: re.sub(r'[0-9]', ' ', x))"
   ]
  },
  {
   "cell_type": "code",
   "execution_count": 88,
   "metadata": {},
   "outputs": [],
   "source": [
    "# Double spaces\n",
    "\n",
    "df['all_text'] = df['all_text'].map(lambda x: re.sub(r'\\s+', ' ', x))"
   ]
  },
  {
   "cell_type": "code",
   "execution_count": 89,
   "metadata": {},
   "outputs": [],
   "source": [
    "# Leading and trailing spaces\n",
    "\n",
    "df['all_text'] = df['all_text'].map(lambda x: x.strip())"
   ]
  },
  {
   "cell_type": "code",
   "execution_count": 90,
   "metadata": {},
   "outputs": [
    {
     "data": {
      "text/plain": [
       "0               Anyone know of any dark evil sounding jazz\n",
       "1        In honor of Soil Pimp showing us how it's done...\n",
       "2        anybody have that record of Charlie Christian ...\n",
       "3        New Topline Image for Jazz subreddit Suggestio...\n",
       "4              Teaching yourself Jazz Piano is it possible\n",
       "                               ...                        \n",
       "39951    I made this playlist with my favorite Bitbird ...\n",
       "39952                                 Fire Tornado Unknown\n",
       "39953                       Fire Tornado Unknown edm dance\n",
       "39954    I'm looking for pop EDM songs that give you su...\n",
       "39955            Enchanted Dark Fairy Forest Ambient Music\n",
       "Name: all_text, Length: 39956, dtype: object"
      ]
     },
     "execution_count": 90,
     "metadata": {},
     "output_type": "execute_result"
    }
   ],
   "source": [
    "# How are we looking?\n",
    "\n",
    "df['all_text']"
   ]
  },
  {
   "cell_type": "markdown",
   "metadata": {},
   "source": [
    "- We're in pretty good shape now in terms of clean **all_text**.\n",
    "- If our cleaning resulted in any empty **all_text** fields, we should drop those, since they're now useless.\n",
    "- As part of the survey for empty fields, we'll create an **all_text_len** field; we can also use this in EDA later.\n",
    "- We'll also add an **all_text_word_len** field to use in EDA.\n",
    "- We should also make sure the **subreddit** column is standardized to lowercase, just in case there are inconsistencies in capitalization coming back from the API - we don't want to generate new classes just because of a capital letter!"
   ]
  },
  {
   "cell_type": "code",
   "execution_count": 91,
   "metadata": {},
   "outputs": [],
   "source": [
    "# let's get the character lengths - generally useful and also will let us know if we have any zeros now\n",
    "\n",
    "df['all_text_len'] = df['all_text'].map(lambda x: len(str(x)))"
   ]
  },
  {
   "cell_type": "code",
   "execution_count": 92,
   "metadata": {},
   "outputs": [
    {
     "data": {
      "text/plain": [
       "27671        0\n",
       "25678        0\n",
       "38465        0\n",
       "38468        0\n",
       "6307         0\n",
       "         ...  \n",
       "24705    15110\n",
       "27618    16528\n",
       "29366    16570\n",
       "27225    17004\n",
       "28106    17641\n",
       "Name: all_text_len, Length: 39956, dtype: int64"
      ]
     },
     "execution_count": 92,
     "metadata": {},
     "output_type": "execute_result"
    }
   ],
   "source": [
    "# Just making sure - do we have empty all_texts?\n",
    "\n",
    "df['all_text_len'].sort_values()\n",
    "\n",
    "# yep we got zeros - they need to go"
   ]
  },
  {
   "cell_type": "code",
   "execution_count": 93,
   "metadata": {},
   "outputs": [
    {
     "data": {
      "text/plain": [
       "subreddit\n",
       "Jazz                26\n",
       "classicalmusic      13\n",
       "electronicmusic    105\n",
       "popheads            28\n",
       "Name: all_text_len, dtype: int64"
      ]
     },
     "execution_count": 93,
     "metadata": {},
     "output_type": "execute_result"
    }
   ],
   "source": [
    "# Let's see how much dropping the zero-length rows is gonna affect the respective classes\n",
    "\n",
    "df[df['all_text_len'] == 0].groupby('subreddit').count()['all_text_len']"
   ]
  },
  {
   "cell_type": "markdown",
   "metadata": {},
   "source": [
    "- Given that we have about 10,000 documents per genre, these losses seem acceptable."
   ]
  },
  {
   "cell_type": "code",
   "execution_count": 94,
   "metadata": {},
   "outputs": [
    {
     "data": {
      "text/plain": [
       "(39784, 11)"
      ]
     },
     "execution_count": 94,
     "metadata": {},
     "output_type": "execute_result"
    }
   ],
   "source": [
    "df = df[df['all_text_len'] > 0]\n",
    "df.shape\n",
    "\n",
    "# looks good"
   ]
  },
  {
   "cell_type": "code",
   "execution_count": 95,
   "metadata": {},
   "outputs": [],
   "source": [
    "# let's also make a length-in-words column\n",
    "\n",
    "df['all_text_word_len'] = df['all_text'].map(lambda x: len(x.split()))"
   ]
  },
  {
   "cell_type": "code",
   "execution_count": 96,
   "metadata": {},
   "outputs": [],
   "source": [
    "# we should fix up the subreddits so they're all lowercase\n",
    "\n",
    "df['subreddit'] = df['subreddit'].str.lower()"
   ]
  },
  {
   "cell_type": "code",
   "execution_count": 97,
   "metadata": {},
   "outputs": [],
   "source": [
    "# let's dump out the results so we can do some EDAing!\n",
    "\n",
    "df.to_csv('../data/clean_posts.csv', index = False)"
   ]
  },
  {
   "cell_type": "markdown",
   "metadata": {},
   "source": [
    "**FINAL NOTES**::\n",
    "- The results of the retrieval are exported to (../data/clean_posts.csv).\n",
    "- The next notebook in the series is [Exploratory Data Analysis](./03_eda.ipynb)."
   ]
  }
 ],
 "metadata": {
  "kernelspec": {
   "display_name": "Python 3.9.12 ('base')",
   "language": "python",
   "name": "python3"
  },
  "language_info": {
   "codemirror_mode": {
    "name": "ipython",
    "version": 3
   },
   "file_extension": ".py",
   "mimetype": "text/x-python",
   "name": "python",
   "nbconvert_exporter": "python",
   "pygments_lexer": "ipython3",
   "version": "3.9.12"
  },
  "orig_nbformat": 4,
  "vscode": {
   "interpreter": {
    "hash": "5c5d815f4904d5c36e1cb6a23cb867a61c9881b6acdb1b6d63422ceae43ed5d6"
   }
  }
 },
 "nbformat": 4,
 "nbformat_minor": 2
}
