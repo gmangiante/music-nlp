{
 "cells": [
  {
   "cell_type": "markdown",
   "metadata": {},
   "source": [
    "### GenreBot : Using Natural Language Processing in Music Marketing\n",
    "\n",
    "For background on this project, please see the [README](../README.md).\n",
    "\n",
    "**Notebooks**\n",
    "- [Data Acquisition](./01_data_acquisition.ipynb)\n",
    "- [Data Cleaning](./02_data_cleaning.ipynb)\n",
    "- [Exploratory Data Analysis](./03_eda.ipynb)\n",
    "- Modeling (this notebook)\n",
    "- [Experiments](./04a_experiments.ipynb)\n",
    "- [Results and Recommendations](./05_results.ipynb)\n",
    "\n",
    "**In this notebook, you'll find a variety of NLP modeling technique, including:**\n",
    "- Stemming/lemmatizing\n",
    "- Text vectorization using word counts and TFIDF (Term Frequency - Inverse Document Frequency)\n",
    "- Classification using basic logistic regression, K-nearest neighbors, and multinomial naive Bayes\n",
    "- Tree-based classification including single decision tree, bagged decision trees, random forests, ExtraTrees, AdaBoost, and gradient boosting\n",
    "- Heterogeneous aggregated modeling via stacking\n",
    "- Model selection via GridSearchCV"
   ]
  },
  {
   "cell_type": "markdown",
   "metadata": {},
   "source": [
    "**Assumptions/approach:**\n",
    "- We will hone in on solid stemming/lemmatization/vectorization parameters early on and keep those for the remainder of our modeling attempts.\n",
    "- Although we kept capitalization in our text column for later analysis, we will lower-case for vectorization.\n",
    "- There is no useful feature engineering to be done here - we're just using 1 text column and 1 target column.\n",
    "- We don't need to scale our features, since they're all on the same scale.\n",
    "- We will use accuracy as our primary metric. The rationale here is that our classes are quite well-balanced due to the data acquisition process; and, they are equivalent to each other in terms of how \"high stakes\" a \"false positive\" or a \"false negative\" would be. So, there's no reason to optimize for sensitivity or specificity, or employ balanced accuracy - regular accuracy will be fine.\n",
    "- I did try using RandomizedSearchCV rather than GridSearchCV to reduce hyperparameter tuning time, but found that it decreased scores too much to be worthwhile.\n",
    "- Based on early trials, we can immediately start with English stop words, so we will set that at the beginning.\n",
    "- Our eventual goal is to find the most performant model with a testing accuracy score over **80%**.\n",
    "- Although we downloaded posts for 4 subreddits, we will stick with 2 to keep this a binary classification problem for now. Based on our EDA and general sense of the data, we will try **classicalmusic** and **jazz**."
   ]
  },
  {
   "cell_type": "code",
   "execution_count": 91,
   "metadata": {},
   "outputs": [],
   "source": [
    "# usual imports\n",
    "import pandas as pd\n",
    "import numpy as np\n",
    "import time\n",
    "\n",
    "# infrastructure\n",
    "from sklearn.model_selection import train_test_split, GridSearchCV, RandomizedSearchCV\n",
    "from sklearn.pipeline import Pipeline\n",
    "\n",
    "# transformers\n",
    "from nltk.stem import PorterStemmer, WordNetLemmatizer\n",
    "from sklearn.feature_extraction.text import CountVectorizer, TfidfVectorizer\n",
    "from nltk.corpus import stopwords\n",
    "\n",
    "# supervised\n",
    "from sklearn.linear_model import LogisticRegression\n",
    "from sklearn.neighbors import KNeighborsClassifier\n",
    "from sklearn.naive_bayes import MultinomialNB\n",
    "from sklearn.tree import DecisionTreeClassifier\n",
    "from sklearn.ensemble import BaggingClassifier, RandomForestClassifier, ExtraTreesClassifier, AdaBoostClassifier, GradientBoostingClassifier\n",
    "\n",
    "# heterogeneous-model supervised\n",
    "from sklearn.ensemble import StackingClassifier\n",
    "\n",
    "# evaluation\n",
    "from sklearn.metrics import confusion_matrix, ConfusionMatrixDisplay, recall_score, precision_score, f1_score"
   ]
  },
  {
   "cell_type": "code",
   "execution_count": 92,
   "metadata": {},
   "outputs": [],
   "source": [
    "# Read in our clean data\n",
    "\n",
    "df = pd.read_csv('../data/clean_posts.csv')"
   ]
  },
  {
   "cell_type": "code",
   "execution_count": 93,
   "metadata": {},
   "outputs": [
    {
     "data": {
      "text/html": [
       "<div>\n",
       "<style scoped>\n",
       "    .dataframe tbody tr th:only-of-type {\n",
       "        vertical-align: middle;\n",
       "    }\n",
       "\n",
       "    .dataframe tbody tr th {\n",
       "        vertical-align: top;\n",
       "    }\n",
       "\n",
       "    .dataframe thead th {\n",
       "        text-align: right;\n",
       "    }\n",
       "</style>\n",
       "<table border=\"1\" class=\"dataframe\">\n",
       "  <thead>\n",
       "    <tr style=\"text-align: right;\">\n",
       "      <th></th>\n",
       "      <th>author</th>\n",
       "      <th>created_utc</th>\n",
       "      <th>id</th>\n",
       "      <th>num_comments</th>\n",
       "      <th>score</th>\n",
       "      <th>selftext</th>\n",
       "      <th>subreddit</th>\n",
       "      <th>title</th>\n",
       "      <th>period</th>\n",
       "      <th>all_text</th>\n",
       "      <th>all_text_len</th>\n",
       "      <th>all_text_word_len</th>\n",
       "    </tr>\n",
       "  </thead>\n",
       "  <tbody>\n",
       "    <tr>\n",
       "      <th>0</th>\n",
       "      <td>discord</td>\n",
       "      <td>1221835135</td>\n",
       "      <td>72cy3</td>\n",
       "      <td>16</td>\n",
       "      <td>5</td>\n",
       "      <td>NaN</td>\n",
       "      <td>jazz</td>\n",
       "      <td>Anyone know of any dark / evil sounding jazz?</td>\n",
       "      <td>1</td>\n",
       "      <td>Anyone know of any dark evil sounding jazz</td>\n",
       "      <td>42</td>\n",
       "      <td>8</td>\n",
       "    </tr>\n",
       "    <tr>\n",
       "      <th>1</th>\n",
       "      <td>smacfarl</td>\n",
       "      <td>1222039404</td>\n",
       "      <td>72p6u</td>\n",
       "      <td>5</td>\n",
       "      <td>0</td>\n",
       "      <td>NaN</td>\n",
       "      <td>jazz</td>\n",
       "      <td>In honor of Soil &amp;amp; Pimp showing us how it'...</td>\n",
       "      <td>1</td>\n",
       "      <td>In honor of Soil Pimp showing us how it's done...</td>\n",
       "      <td>114</td>\n",
       "      <td>21</td>\n",
       "    </tr>\n",
       "    <tr>\n",
       "      <th>2</th>\n",
       "      <td>[deleted]</td>\n",
       "      <td>1223963408</td>\n",
       "      <td>76zmj</td>\n",
       "      <td>2</td>\n",
       "      <td>2</td>\n",
       "      <td>NaN</td>\n",
       "      <td>jazz</td>\n",
       "      <td>anybody have that record of Charlie Christian ...</td>\n",
       "      <td>1</td>\n",
       "      <td>anybody have that record of Charlie Christian ...</td>\n",
       "      <td>145</td>\n",
       "      <td>26</td>\n",
       "    </tr>\n",
       "    <tr>\n",
       "      <th>3</th>\n",
       "      <td>smacfarl</td>\n",
       "      <td>1224683862</td>\n",
       "      <td>78nrr</td>\n",
       "      <td>4</td>\n",
       "      <td>5</td>\n",
       "      <td>NaN</td>\n",
       "      <td>jazz</td>\n",
       "      <td>New Topline Image for Jazz subreddit. Suggesti...</td>\n",
       "      <td>1</td>\n",
       "      <td>New Topline Image for Jazz subreddit Suggestio...</td>\n",
       "      <td>73</td>\n",
       "      <td>11</td>\n",
       "    </tr>\n",
       "    <tr>\n",
       "      <th>4</th>\n",
       "      <td>ChefEspeff</td>\n",
       "      <td>1235783273</td>\n",
       "      <td>80wtq</td>\n",
       "      <td>10</td>\n",
       "      <td>2</td>\n",
       "      <td>NaN</td>\n",
       "      <td>jazz</td>\n",
       "      <td>Teaching yourself Jazz Piano, is it possible?</td>\n",
       "      <td>1</td>\n",
       "      <td>Teaching yourself Jazz Piano is it possible</td>\n",
       "      <td>43</td>\n",
       "      <td>7</td>\n",
       "    </tr>\n",
       "  </tbody>\n",
       "</table>\n",
       "</div>"
      ],
      "text/plain": [
       "       author  created_utc     id  num_comments  score selftext subreddit  \\\n",
       "0     discord   1221835135  72cy3            16      5      NaN      jazz   \n",
       "1    smacfarl   1222039404  72p6u             5      0      NaN      jazz   \n",
       "2   [deleted]   1223963408  76zmj             2      2      NaN      jazz   \n",
       "3    smacfarl   1224683862  78nrr             4      5      NaN      jazz   \n",
       "4  ChefEspeff   1235783273  80wtq            10      2      NaN      jazz   \n",
       "\n",
       "                                               title  period  \\\n",
       "0     Anyone know of any dark / evil sounding jazz?        1   \n",
       "1  In honor of Soil &amp; Pimp showing us how it'...       1   \n",
       "2  anybody have that record of Charlie Christian ...       1   \n",
       "3  New Topline Image for Jazz subreddit. Suggesti...       1   \n",
       "4      Teaching yourself Jazz Piano, is it possible?       1   \n",
       "\n",
       "                                            all_text  all_text_len  \\\n",
       "0         Anyone know of any dark evil sounding jazz            42   \n",
       "1  In honor of Soil Pimp showing us how it's done...           114   \n",
       "2  anybody have that record of Charlie Christian ...           145   \n",
       "3  New Topline Image for Jazz subreddit Suggestio...            73   \n",
       "4        Teaching yourself Jazz Piano is it possible            43   \n",
       "\n",
       "   all_text_word_len  \n",
       "0                  8  \n",
       "1                 21  \n",
       "2                 26  \n",
       "3                 11  \n",
       "4                  7  "
      ]
     },
     "execution_count": 93,
     "metadata": {},
     "output_type": "execute_result"
    }
   ],
   "source": [
    "# Remind ourselves what it looks like\n",
    "\n",
    "df.head()"
   ]
  },
  {
   "cell_type": "code",
   "execution_count": 94,
   "metadata": {},
   "outputs": [
    {
     "data": {
      "text/plain": [
       "(19937, 12)"
      ]
     },
     "execution_count": 94,
     "metadata": {},
     "output_type": "execute_result"
    }
   ],
   "source": [
    "# We're focusing on just 2 classes, so let's drop the others\n",
    "df = df[(df['subreddit'] == 'classicalmusic') | (df['subreddit'] == 'jazz')]\n",
    "df.shape"
   ]
  },
  {
   "cell_type": "code",
   "execution_count": 95,
   "metadata": {},
   "outputs": [],
   "source": [
    "# let's encode our classes for efficiency\n",
    "# https://benalexkeen.com/mapping-categorical-data-in-pandas/\n",
    "df['subreddit_code'] = df['subreddit'].astype('category').cat.codes"
   ]
  },
  {
   "cell_type": "markdown",
   "metadata": {},
   "source": [
    "- We'll now set up our X (**all_text**) and y (**subreddit**), and perform our usual train-test split with stratification over the 2 classes to ensure equivalent distributions of classical vs. jazz in train and test.\n",
    "- We'll double-check the sizes of our results for sanity."
   ]
  },
  {
   "cell_type": "code",
   "execution_count": 96,
   "metadata": {},
   "outputs": [],
   "source": [
    "X = df['all_text']\n",
    "y = df['subreddit_code']"
   ]
  },
  {
   "cell_type": "code",
   "execution_count": 97,
   "metadata": {},
   "outputs": [
    {
     "data": {
      "text/plain": [
       "((14952,), (4985,), (14952,), (4985,))"
      ]
     },
     "execution_count": 97,
     "metadata": {},
     "output_type": "execute_result"
    }
   ],
   "source": [
    "X_train, X_test, y_train, y_test = train_test_split(X, y, random_state = 42, stratify = y)\n",
    "X_train.shape, X_test.shape, y_train.shape, y_test.shape"
   ]
  },
  {
   "cell_type": "code",
   "execution_count": 98,
   "metadata": {},
   "outputs": [
    {
     "data": {
      "text/plain": [
       "0    0.500468\n",
       "1    0.499532\n",
       "Name: subreddit_code, dtype: float64"
      ]
     },
     "execution_count": 98,
     "metadata": {},
     "output_type": "execute_result"
    }
   ],
   "source": [
    "y_train.value_counts(normalize = True)"
   ]
  },
  {
   "cell_type": "code",
   "execution_count": 99,
   "metadata": {},
   "outputs": [
    {
     "data": {
      "text/plain": [
       "0    0.500502\n",
       "1    0.499498\n",
       "Name: subreddit_code, dtype: float64"
      ]
     },
     "execution_count": 99,
     "metadata": {},
     "output_type": "execute_result"
    }
   ],
   "source": [
    "y_test.value_counts(normalize = True)"
   ]
  },
  {
   "cell_type": "markdown",
   "metadata": {},
   "source": [
    "**Conclusions:**\n",
    "- We have reduced our classes to 2, and they're well distributed in both train and test.\n",
    "- Our train and test sizes are about 15,000 and 5,000 respectively, as we would expect from our downloaded data.\n",
    "- Next, we'll set up a couple of useful functions for testing stemming and lemmatization, and for evaluating our results."
   ]
  },
  {
   "cell_type": "code",
   "execution_count": 100,
   "metadata": {},
   "outputs": [],
   "source": [
    "# Thanks to https://stackoverflow.com/questions/57340142/user-warning-your-stop-words-may-be-inconsistent-with-your-preprocessing\n",
    "# for the idea of including stopword tokenization in the stemmer/lemmatizer to keep things consistent\n",
    "\n",
    "STOP_WORDS = stopwords.words('english')\n",
    "\n",
    "# function to implement PorterStemmer as a possible tokenizer for our vectorizers as we GridSearch\n",
    "def stemmer(tokens):\n",
    "    stemmer = PorterStemmer()\n",
    "    return [stemmer.stem(token) for token in tokens if token not in STOP_WORDS]"
   ]
  },
  {
   "cell_type": "code",
   "execution_count": 101,
   "metadata": {},
   "outputs": [],
   "source": [
    "# function to implement WordNetLemmatizer as a possible tokenizer for our vectorizers as we GridSearch\n",
    "def lemmatizer(tokens):\n",
    "    lemmatizer = WordNetLemmatizer()\n",
    "    return [lemmatizer.lemmatize(token) for token in tokens if token not in STOP_WORDS]"
   ]
  },
  {
   "cell_type": "code",
   "execution_count": 107,
   "metadata": {},
   "outputs": [],
   "source": [
    "# data frame for storing our stats\n",
    "df_stats = pd.DataFrame(columns = ['model', 'fit_time', 'train_acc', 'test_acc', 'recall', 'precision', 'f1'])\n",
    "\n",
    "# Thanks to Devin Fay and his Imbalanced Data lesson at GA for the basis of this function\n",
    "def evaluation(model, model_desc, X_train, y_train, X_test, y_test, normalize = 'pred'):\n",
    "    '''\n",
    "    Function to print and acquire some quick model stats.\n",
    "\n",
    "    Parameters:\n",
    "        model: the model\n",
    "        model: description of the model\n",
    "        X_train, y_train: Training features and target\n",
    "        X_test, y_test: Testing features and target\n",
    "        normalize: normalization for ConfusionMatrixDisplay\n",
    "    Returns:\n",
    "        Dataframe containing the model, fit time, training accuracy, testing accuracy, recall, precision, and F1\n",
    "    '''\n",
    "\n",
    "    start_time = time.time()\n",
    "    model.fit(X_train, y_train)\n",
    "    stop_time = time.time()\n",
    "    fit_time = stop_time - start_time\n",
    "    preds = model.predict(X_test)\n",
    "    \n",
    "    ConfusionMatrixDisplay.from_estimator(model, X_test, y_test, cmap='Blues',\n",
    "    normalize=normalize)\n",
    "\n",
    "    train_acc = model.score(X_train, y_train)\n",
    "    test_acc = model.score(X_test, y_test)\n",
    "    recall = recall_score(y_test, preds, pos_label = 1)\n",
    "    precision = precision_score(y_test, preds, pos_label = 1)\n",
    "    f1 = f1_score(y_test, preds, pos_label = 1)\n",
    "    \n",
    "    print(f'fit time: {fit_time}')\n",
    "    print(f'training set accuracy: {train_acc}')\n",
    "    print(f'test set accuracy: {test_acc}')\n",
    "    print(f'recall: {recall}')\n",
    "    print(f'precision: {precision}')\n",
    "    print(f'f1 score: {f1}')\n",
    "\n",
    "    return pd.DataFrame([{'model': model_desc, 'fit_time': fit_time, 'train_acc': train_acc, 'test_acc': test_acc,\n",
    "        'recall': recall, 'precision': precision, 'f1': f1}])\n",
    "    "
   ]
  },
  {
   "cell_type": "markdown",
   "metadata": {},
   "source": [
    "**Model 1: CountVectorizer + \"vanilla\" LogisticRegression:**\n",
    "- We're purposely keeping the LogisticRegression parameters simple so that we can focus on the performance of the CountVectorizer, including stemming and lemmatizing."
   ]
  },
  {
   "cell_type": "code",
   "execution_count": 108,
   "metadata": {},
   "outputs": [
    {
     "name": "stdout",
     "output_type": "stream",
     "text": [
      "fit time: 0.8740048408508301\n",
      "training set accuracy: 0.9752541466024612\n",
      "test set accuracy: 0.9317953861584755\n",
      "recall: 0.9120481927710843\n",
      "precision: 0.9494147157190636\n",
      "f1 score: 0.9303564113068413\n"
     ]
    },
    {
     "data": {
      "image/png": "[encoded data removed]",
      "text/plain": [
       "<Figure size 432x288 with 2 Axes>"
      ]
     },
     "metadata": {
      "needs_background": "light"
     },
     "output_type": "display_data"
    }
   ],
   "source": [
    "pipe = Pipeline(steps = [('cvec', CountVectorizer()), ('logreg', LogisticRegression(max_iter = 10_000))])\n",
    "\n",
    "pipe_params = {\n",
    "    'cvec__tokenizer': [None, stemmer, lemmatizer],\n",
    "    'cvec__max_features': [3000, 4000],\n",
    "    'cvec__min_df': [1, 2],\n",
    "    'cvec__max_df': [0.8, 0.9],\n",
    "    'cvec__ngram_range': [(1, 1), (1, 2)]\n",
    "}\n",
    "\n",
    "gs = GridSearchCV(estimator = pipe, param_grid = pipe_params, n_jobs = -1)\n",
    "gs.fit(X_train, y_train)\n",
    "df_stats = pd.concat([df_stats, evaluation(gs.best_estimator_, 'CountVectorizer + LogisticRegression', X_train, y_train, X_test, y_test)])"
   ]
  },
  {
   "cell_type": "code",
   "execution_count": 104,
   "metadata": {},
   "outputs": [
    {
     "data": {
      "text/html": [
       "<style>#sk-container-id-3 {color: black;background-color: white;}#sk-container-id-3 pre{padding: 0;}#sk-container-id-3 div.sk-toggleable {background-color: white;}#sk-container-id-3 label.sk-toggleable__label {cursor: pointer;display: block;width: 100%;margin-bottom: 0;padding: 0.3em;box-sizing: border-box;text-align: center;}#sk-container-id-3 label.sk-toggleable__label-arrow:before {content: \"▸\";float: left;margin-right: 0.25em;color: #696969;}#sk-container-id-3 label.sk-toggleable__label-arrow:hover:before {color: black;}#sk-container-id-3 div.sk-estimator:hover label.sk-toggleable__label-arrow:before {color: black;}#sk-container-id-3 div.sk-toggleable__content {max-height: 0;max-width: 0;overflow: hidden;text-align: left;background-color: #f0f8ff;}#sk-container-id-3 div.sk-toggleable__content pre {margin: 0.2em;color: black;border-radius: 0.25em;background-color: #f0f8ff;}#sk-container-id-3 input.sk-toggleable__control:checked~div.sk-toggleable__content {max-height: 200px;max-width: 100%;overflow: auto;}#sk-container-id-3 input.sk-toggleable__control:checked~label.sk-toggleable__label-arrow:before {content: \"▾\";}#sk-container-id-3 div.sk-estimator input.sk-toggleable__control:checked~label.sk-toggleable__label {background-color: #d4ebff;}#sk-container-id-3 div.sk-label input.sk-toggleable__control:checked~label.sk-toggleable__label {background-color: #d4ebff;}#sk-container-id-3 input.sk-hidden--visually {border: 0;clip: rect(1px 1px 1px 1px);clip: rect(1px, 1px, 1px, 1px);height: 1px;margin: -1px;overflow: hidden;padding: 0;position: absolute;width: 1px;}#sk-container-id-3 div.sk-estimator {font-family: monospace;background-color: #f0f8ff;border: 1px dotted black;border-radius: 0.25em;box-sizing: border-box;margin-bottom: 0.5em;}#sk-container-id-3 div.sk-estimator:hover {background-color: #d4ebff;}#sk-container-id-3 div.sk-parallel-item::after {content: \"\";width: 100%;border-bottom: 1px solid gray;flex-grow: 1;}#sk-container-id-3 div.sk-label:hover label.sk-toggleable__label {background-color: #d4ebff;}#sk-container-id-3 div.sk-serial::before {content: \"\";position: absolute;border-left: 1px solid gray;box-sizing: border-box;top: 0;bottom: 0;left: 50%;z-index: 0;}#sk-container-id-3 div.sk-serial {display: flex;flex-direction: column;align-items: center;background-color: white;padding-right: 0.2em;padding-left: 0.2em;position: relative;}#sk-container-id-3 div.sk-item {position: relative;z-index: 1;}#sk-container-id-3 div.sk-parallel {display: flex;align-items: stretch;justify-content: center;background-color: white;position: relative;}#sk-container-id-3 div.sk-item::before, #sk-container-id-3 div.sk-parallel-item::before {content: \"\";position: absolute;border-left: 1px solid gray;box-sizing: border-box;top: 0;bottom: 0;left: 50%;z-index: -1;}#sk-container-id-3 div.sk-parallel-item {display: flex;flex-direction: column;z-index: 1;position: relative;background-color: white;}#sk-container-id-3 div.sk-parallel-item:first-child::after {align-self: flex-end;width: 50%;}#sk-container-id-3 div.sk-parallel-item:last-child::after {align-self: flex-start;width: 50%;}#sk-container-id-3 div.sk-parallel-item:only-child::after {width: 0;}#sk-container-id-3 div.sk-dashed-wrapped {border: 1px dashed gray;margin: 0 0.4em 0.5em 0.4em;box-sizing: border-box;padding-bottom: 0.4em;background-color: white;}#sk-container-id-3 div.sk-label label {font-family: monospace;font-weight: bold;display: inline-block;line-height: 1.2em;}#sk-container-id-3 div.sk-label-container {text-align: center;}#sk-container-id-3 div.sk-container {/* jupyter's `normalize.less` sets `[hidden] { display: none; }` but bootstrap.min.css set `[hidden] { display: none !important; }` so we also need the `!important` here to be able to override the default hidden behavior on the sphinx rendered scikit-learn.org. See: https://github.com/scikit-learn/scikit-learn/issues/21755 */display: inline-block !important;position: relative;}#sk-container-id-3 div.sk-text-repr-fallback {display: none;}</style><div id=\"sk-container-id-3\" class=\"sk-top-container\"><div class=\"sk-text-repr-fallback\"><pre>Pipeline(steps=[(&#x27;cvec&#x27;,\n",
       "                 CountVectorizer(max_df=0.8, max_features=4000, min_df=2)),\n",
       "                (&#x27;logreg&#x27;, LogisticRegression(max_iter=10000))])</pre><b>In a Jupyter environment, please rerun this cell to show the HTML representation or trust the notebook. <br />On GitHub, the HTML representation is unable to render, please try loading this page with nbviewer.org.</b></div><div class=\"sk-container\" hidden><div class=\"sk-item sk-dashed-wrapped\"><div class=\"sk-label-container\"><div class=\"sk-label sk-toggleable\"><input class=\"sk-toggleable__control sk-hidden--visually\" id=\"sk-estimator-id-8\" type=\"checkbox\" ><label for=\"sk-estimator-id-8\" class=\"sk-toggleable__label sk-toggleable__label-arrow\">Pipeline</label><div class=\"sk-toggleable__content\"><pre>Pipeline(steps=[(&#x27;cvec&#x27;,\n",
       "                 CountVectorizer(max_df=0.8, max_features=4000, min_df=2)),\n",
       "                (&#x27;logreg&#x27;, LogisticRegression(max_iter=10000))])</pre></div></div></div><div class=\"sk-serial\"><div class=\"sk-item\"><div class=\"sk-estimator sk-toggleable\"><input class=\"sk-toggleable__control sk-hidden--visually\" id=\"sk-estimator-id-9\" type=\"checkbox\" ><label for=\"sk-estimator-id-9\" class=\"sk-toggleable__label sk-toggleable__label-arrow\">CountVectorizer</label><div class=\"sk-toggleable__content\"><pre>CountVectorizer(max_df=0.8, max_features=4000, min_df=2)</pre></div></div></div><div class=\"sk-item\"><div class=\"sk-estimator sk-toggleable\"><input class=\"sk-toggleable__control sk-hidden--visually\" id=\"sk-estimator-id-10\" type=\"checkbox\" ><label for=\"sk-estimator-id-10\" class=\"sk-toggleable__label sk-toggleable__label-arrow\">LogisticRegression</label><div class=\"sk-toggleable__content\"><pre>LogisticRegression(max_iter=10000)</pre></div></div></div></div></div></div></div>"
      ],
      "text/plain": [
       "Pipeline(steps=[('cvec',\n",
       "                 CountVectorizer(max_df=0.8, max_features=4000, min_df=2)),\n",
       "                ('logreg', LogisticRegression(max_iter=10000))])"
      ]
     },
     "execution_count": 104,
     "metadata": {},
     "output_type": "execute_result"
    }
   ],
   "source": [
    "gs.best_estimator_"
   ]
  },
  {
   "cell_type": "markdown",
   "metadata": {},
   "source": [
    "**Hot take:**\n",
    "- As is often the case, logistic regression is almost unexpectedly strong. We've already got a model that exceeds our success threshold of 80% accuracy on the testing set!\n",
    "- Final fit took less than a second, so it's pretty efficient as well.\n",
    "- Interesting that GridSearch did not choose stemming or lemmatization"
   ]
  },
  {
   "cell_type": "markdown",
   "metadata": {},
   "source": [
    "**Model 2: TfidfVectorizer + \"vanilla\" LogisticRegression:**\n",
    "- We're purposely keeping the LogisticRegression parameters simple so that we can focus on the performance of the TfidfVectorizer, including stemming and lemmatizing."
   ]
  },
  {
   "cell_type": "code",
   "execution_count": 110,
   "metadata": {},
   "outputs": [
    {
     "name": "stdout",
     "output_type": "stream",
     "text": [
      "fit time: 1.4952263832092285\n",
      "training set accuracy: 0.956995719636169\n",
      "test set accuracy: 0.9368104312938816\n",
      "recall: 0.9176706827309237\n",
      "precision: 0.954070981210856\n",
      "f1 score: 0.9355168884339816\n"
     ]
    },
    {
     "data": {
      "image/png": "[encoded data removed]",
      "text/plain": [
       "<Figure size 432x288 with 2 Axes>"
      ]
     },
     "metadata": {
      "needs_background": "light"
     },
     "output_type": "display_data"
    }
   ],
   "source": [
    "pipe = Pipeline(steps = [('tfidf', TfidfVectorizer()), ('logreg', LogisticRegression(max_iter = 10_000))])\n",
    "\n",
    "pipe_params = {\n",
    "    'tfidf__tokenizer': [None, stemmer, lemmatizer],\n",
    "    'tfidf__stop_words': [None, 'english'],\n",
    "    'tfidf__max_features': [3000, 4000],\n",
    "    'tfidf__min_df': [1, 2],\n",
    "    'tfidf__max_df': [0.8, 0.9],\n",
    "    'tfidf__ngram_range': [(1, 1), (1, 2)]\n",
    "}\n",
    "\n",
    "gs = GridSearchCV(estimator = pipe, param_grid = pipe_params, n_jobs = -1)\n",
    "gs.fit(X_train, y_train)\n",
    "df_stats = pd.concat([df_stats, evaluation(gs.best_estimator_, 'TfidfVectorizer + LogisticRegression', X_train, y_train, X_test, y_test)])"
   ]
  },
  {
   "cell_type": "code",
   "execution_count": 111,
   "metadata": {},
   "outputs": [
    {
     "data": {
      "text/html": [
       "<style>#sk-container-id-4 {color: black;background-color: white;}#sk-container-id-4 pre{padding: 0;}#sk-container-id-4 div.sk-toggleable {background-color: white;}#sk-container-id-4 label.sk-toggleable__label {cursor: pointer;display: block;width: 100%;margin-bottom: 0;padding: 0.3em;box-sizing: border-box;text-align: center;}#sk-container-id-4 label.sk-toggleable__label-arrow:before {content: \"▸\";float: left;margin-right: 0.25em;color: #696969;}#sk-container-id-4 label.sk-toggleable__label-arrow:hover:before {color: black;}#sk-container-id-4 div.sk-estimator:hover label.sk-toggleable__label-arrow:before {color: black;}#sk-container-id-4 div.sk-toggleable__content {max-height: 0;max-width: 0;overflow: hidden;text-align: left;background-color: #f0f8ff;}#sk-container-id-4 div.sk-toggleable__content pre {margin: 0.2em;color: black;border-radius: 0.25em;background-color: #f0f8ff;}#sk-container-id-4 input.sk-toggleable__control:checked~div.sk-toggleable__content {max-height: 200px;max-width: 100%;overflow: auto;}#sk-container-id-4 input.sk-toggleable__control:checked~label.sk-toggleable__label-arrow:before {content: \"▾\";}#sk-container-id-4 div.sk-estimator input.sk-toggleable__control:checked~label.sk-toggleable__label {background-color: #d4ebff;}#sk-container-id-4 div.sk-label input.sk-toggleable__control:checked~label.sk-toggleable__label {background-color: #d4ebff;}#sk-container-id-4 input.sk-hidden--visually {border: 0;clip: rect(1px 1px 1px 1px);clip: rect(1px, 1px, 1px, 1px);height: 1px;margin: -1px;overflow: hidden;padding: 0;position: absolute;width: 1px;}#sk-container-id-4 div.sk-estimator {font-family: monospace;background-color: #f0f8ff;border: 1px dotted black;border-radius: 0.25em;box-sizing: border-box;margin-bottom: 0.5em;}#sk-container-id-4 div.sk-estimator:hover {background-color: #d4ebff;}#sk-container-id-4 div.sk-parallel-item::after {content: \"\";width: 100%;border-bottom: 1px solid gray;flex-grow: 1;}#sk-container-id-4 div.sk-label:hover label.sk-toggleable__label {background-color: #d4ebff;}#sk-container-id-4 div.sk-serial::before {content: \"\";position: absolute;border-left: 1px solid gray;box-sizing: border-box;top: 0;bottom: 0;left: 50%;z-index: 0;}#sk-container-id-4 div.sk-serial {display: flex;flex-direction: column;align-items: center;background-color: white;padding-right: 0.2em;padding-left: 0.2em;position: relative;}#sk-container-id-4 div.sk-item {position: relative;z-index: 1;}#sk-container-id-4 div.sk-parallel {display: flex;align-items: stretch;justify-content: center;background-color: white;position: relative;}#sk-container-id-4 div.sk-item::before, #sk-container-id-4 div.sk-parallel-item::before {content: \"\";position: absolute;border-left: 1px solid gray;box-sizing: border-box;top: 0;bottom: 0;left: 50%;z-index: -1;}#sk-container-id-4 div.sk-parallel-item {display: flex;flex-direction: column;z-index: 1;position: relative;background-color: white;}#sk-container-id-4 div.sk-parallel-item:first-child::after {align-self: flex-end;width: 50%;}#sk-container-id-4 div.sk-parallel-item:last-child::after {align-self: flex-start;width: 50%;}#sk-container-id-4 div.sk-parallel-item:only-child::after {width: 0;}#sk-container-id-4 div.sk-dashed-wrapped {border: 1px dashed gray;margin: 0 0.4em 0.5em 0.4em;box-sizing: border-box;padding-bottom: 0.4em;background-color: white;}#sk-container-id-4 div.sk-label label {font-family: monospace;font-weight: bold;display: inline-block;line-height: 1.2em;}#sk-container-id-4 div.sk-label-container {text-align: center;}#sk-container-id-4 div.sk-container {/* jupyter's `normalize.less` sets `[hidden] { display: none; }` but bootstrap.min.css set `[hidden] { display: none !important; }` so we also need the `!important` here to be able to override the default hidden behavior on the sphinx rendered scikit-learn.org. See: https://github.com/scikit-learn/scikit-learn/issues/21755 */display: inline-block !important;position: relative;}#sk-container-id-4 div.sk-text-repr-fallback {display: none;}</style><div id=\"sk-container-id-4\" class=\"sk-top-container\"><div class=\"sk-text-repr-fallback\"><pre>Pipeline(steps=[(&#x27;tfidf&#x27;,\n",
       "                 TfidfVectorizer(max_df=0.8, max_features=4000,\n",
       "                                 ngram_range=(1, 2), stop_words=&#x27;english&#x27;)),\n",
       "                (&#x27;logreg&#x27;, LogisticRegression(max_iter=10000))])</pre><b>In a Jupyter environment, please rerun this cell to show the HTML representation or trust the notebook. <br />On GitHub, the HTML representation is unable to render, please try loading this page with nbviewer.org.</b></div><div class=\"sk-container\" hidden><div class=\"sk-item sk-dashed-wrapped\"><div class=\"sk-label-container\"><div class=\"sk-label sk-toggleable\"><input class=\"sk-toggleable__control sk-hidden--visually\" id=\"sk-estimator-id-11\" type=\"checkbox\" ><label for=\"sk-estimator-id-11\" class=\"sk-toggleable__label sk-toggleable__label-arrow\">Pipeline</label><div class=\"sk-toggleable__content\"><pre>Pipeline(steps=[(&#x27;tfidf&#x27;,\n",
       "                 TfidfVectorizer(max_df=0.8, max_features=4000,\n",
       "                                 ngram_range=(1, 2), stop_words=&#x27;english&#x27;)),\n",
       "                (&#x27;logreg&#x27;, LogisticRegression(max_iter=10000))])</pre></div></div></div><div class=\"sk-serial\"><div class=\"sk-item\"><div class=\"sk-estimator sk-toggleable\"><input class=\"sk-toggleable__control sk-hidden--visually\" id=\"sk-estimator-id-12\" type=\"checkbox\" ><label for=\"sk-estimator-id-12\" class=\"sk-toggleable__label sk-toggleable__label-arrow\">TfidfVectorizer</label><div class=\"sk-toggleable__content\"><pre>TfidfVectorizer(max_df=0.8, max_features=4000, ngram_range=(1, 2),\n",
       "                stop_words=&#x27;english&#x27;)</pre></div></div></div><div class=\"sk-item\"><div class=\"sk-estimator sk-toggleable\"><input class=\"sk-toggleable__control sk-hidden--visually\" id=\"sk-estimator-id-13\" type=\"checkbox\" ><label for=\"sk-estimator-id-13\" class=\"sk-toggleable__label sk-toggleable__label-arrow\">LogisticRegression</label><div class=\"sk-toggleable__content\"><pre>LogisticRegression(max_iter=10000)</pre></div></div></div></div></div></div></div>"
      ],
      "text/plain": [
       "Pipeline(steps=[('tfidf',\n",
       "                 TfidfVectorizer(max_df=0.8, max_features=4000,\n",
       "                                 ngram_range=(1, 2), stop_words='english')),\n",
       "                ('logreg', LogisticRegression(max_iter=10000))])"
      ]
     },
     "execution_count": 111,
     "metadata": {},
     "output_type": "execute_result"
    }
   ],
   "source": [
    "gs.best_estimator_"
   ]
  },
  {
   "cell_type": "markdown",
   "metadata": {},
   "source": [
    "**Hot Take:**\n",
    "- Another excellent set of scores, same neighborhood as Model 1\n",
    "- Still quite efficient, just over a second\n",
    "- Interesting that GridSearch did not choose stemming or lemmatization\n",
    "- I would tend to prefer this model over Model 1 - I'm willing to give up a tiny bit of bias to close the variance gap a bit"
   ]
  },
  {
   "cell_type": "markdown",
   "metadata": {},
   "source": [
    "**Model 3: TFIDF + tuned LogisticRegression**\n",
    "- Now that we have a sense of the best transformation/vectorization parameters, we can focus on tuning the estimator itself.\n",
    "- Note that all the warnings below are expected due to incompatible permutations of LogisticRegression parameters. They can safely be ignored."
   ]
  },
  {
   "cell_type": "code",
   "execution_count": 112,
   "metadata": {},
   "outputs": [
    {
     "name": "stderr",
     "output_type": "stream",
     "text": [
      "c:\\Users\\Gabe\\anaconda3\\lib\\site-packages\\sklearn\\model_selection\\_validation.py:378: FitFailedWarning: \n",
      "270 fits failed out of a total of 540.\n",
      "The score on these train-test partitions for these parameters will be set to nan.\n",
      "If these failures are not expected, you can try to debug them by setting error_score='raise'.\n",
      "\n",
      "Below are more details about the failures:\n",
      "--------------------------------------------------------------------------------\n",
      "135 fits failed with the following error:\n",
      "Traceback (most recent call last):\n",
      "  File \"c:\\Users\\Gabe\\anaconda3\\lib\\site-packages\\sklearn\\model_selection\\_validation.py\", line 686, in _fit_and_score\n",
      "    estimator.fit(X_train, y_train, **fit_params)\n",
      "  File \"c:\\Users\\Gabe\\anaconda3\\lib\\site-packages\\sklearn\\pipeline.py\", line 382, in fit\n",
      "    self._final_estimator.fit(Xt, y, **fit_params_last_step)\n",
      "  File \"c:\\Users\\Gabe\\anaconda3\\lib\\site-packages\\sklearn\\linear_model\\_logistic.py\", line 1091, in fit\n",
      "    solver = _check_solver(self.solver, self.penalty, self.dual)\n",
      "  File \"c:\\Users\\Gabe\\anaconda3\\lib\\site-packages\\sklearn\\linear_model\\_logistic.py\", line 55, in _check_solver\n",
      "    raise ValueError(\n",
      "ValueError: Logistic Regression supports only penalties in ['l1', 'l2', 'elasticnet', 'none'], got None.\n",
      "\n",
      "--------------------------------------------------------------------------------\n",
      "45 fits failed with the following error:\n",
      "Traceback (most recent call last):\n",
      "  File \"c:\\Users\\Gabe\\anaconda3\\lib\\site-packages\\sklearn\\model_selection\\_validation.py\", line 686, in _fit_and_score\n",
      "    estimator.fit(X_train, y_train, **fit_params)\n",
      "  File \"c:\\Users\\Gabe\\anaconda3\\lib\\site-packages\\sklearn\\pipeline.py\", line 382, in fit\n",
      "    self._final_estimator.fit(Xt, y, **fit_params_last_step)\n",
      "  File \"c:\\Users\\Gabe\\anaconda3\\lib\\site-packages\\sklearn\\linear_model\\_logistic.py\", line 1091, in fit\n",
      "    solver = _check_solver(self.solver, self.penalty, self.dual)\n",
      "  File \"c:\\Users\\Gabe\\anaconda3\\lib\\site-packages\\sklearn\\linear_model\\_logistic.py\", line 61, in _check_solver\n",
      "    raise ValueError(\n",
      "ValueError: Solver lbfgs supports only 'l2' or 'none' penalties, got l1 penalty.\n",
      "\n",
      "--------------------------------------------------------------------------------\n",
      "45 fits failed with the following error:\n",
      "Traceback (most recent call last):\n",
      "  File \"c:\\Users\\Gabe\\anaconda3\\lib\\site-packages\\sklearn\\model_selection\\_validation.py\", line 686, in _fit_and_score\n",
      "    estimator.fit(X_train, y_train, **fit_params)\n",
      "  File \"c:\\Users\\Gabe\\anaconda3\\lib\\site-packages\\sklearn\\pipeline.py\", line 382, in fit\n",
      "    self._final_estimator.fit(Xt, y, **fit_params_last_step)\n",
      "  File \"c:\\Users\\Gabe\\anaconda3\\lib\\site-packages\\sklearn\\linear_model\\_logistic.py\", line 1091, in fit\n",
      "    solver = _check_solver(self.solver, self.penalty, self.dual)\n",
      "  File \"c:\\Users\\Gabe\\anaconda3\\lib\\site-packages\\sklearn\\linear_model\\_logistic.py\", line 61, in _check_solver\n",
      "    raise ValueError(\n",
      "ValueError: Solver lbfgs supports only 'l2' or 'none' penalties, got elasticnet penalty.\n",
      "\n",
      "--------------------------------------------------------------------------------\n",
      "45 fits failed with the following error:\n",
      "Traceback (most recent call last):\n",
      "  File \"c:\\Users\\Gabe\\anaconda3\\lib\\site-packages\\sklearn\\model_selection\\_validation.py\", line 686, in _fit_and_score\n",
      "    estimator.fit(X_train, y_train, **fit_params)\n",
      "  File \"c:\\Users\\Gabe\\anaconda3\\lib\\site-packages\\sklearn\\pipeline.py\", line 382, in fit\n",
      "    self._final_estimator.fit(Xt, y, **fit_params_last_step)\n",
      "  File \"c:\\Users\\Gabe\\anaconda3\\lib\\site-packages\\sklearn\\linear_model\\_logistic.py\", line 1091, in fit\n",
      "    solver = _check_solver(self.solver, self.penalty, self.dual)\n",
      "  File \"c:\\Users\\Gabe\\anaconda3\\lib\\site-packages\\sklearn\\linear_model\\_logistic.py\", line 71, in _check_solver\n",
      "    raise ValueError(\n",
      "ValueError: Only 'saga' solver supports elasticnet penalty, got solver=liblinear.\n",
      "\n",
      "  warnings.warn(some_fits_failed_message, FitFailedWarning)\n",
      "c:\\Users\\Gabe\\anaconda3\\lib\\site-packages\\sklearn\\model_selection\\_search.py:953: UserWarning: One or more of the test scores are non-finite: [       nan        nan        nan        nan 0.83567371 0.83560684\n",
      " 0.92148168 0.92134792 0.92148168        nan        nan 0.91552906\n",
      "        nan        nan        nan        nan 0.83567371 0.83553995\n",
      " 0.92148168 0.92134792 0.92148168        nan        nan 0.88737262\n",
      "        nan        nan        nan        nan 0.83567371 0.83560684\n",
      " 0.92148168 0.92134792 0.92141479        nan        nan 0.83553995\n",
      "        nan        nan        nan        nan 0.92161575 0.92168262\n",
      " 0.93031015 0.93031015 0.93024328        nan        nan 0.93111276\n",
      "        nan        nan        nan        nan 0.92154886 0.92168262\n",
      " 0.93031015 0.93031015 0.93031015        nan        nan 0.92850424\n",
      "        nan        nan        nan        nan 0.92161575 0.92168262\n",
      " 0.93031015 0.93031015 0.93031015        nan        nan 0.92168262\n",
      "        nan        nan        nan        nan 0.91666619 0.91713435\n",
      " 0.92495956 0.92495956 0.92495956        nan        nan 0.92455825\n",
      "        nan        nan        nan        nan 0.91686683 0.91700059\n",
      " 0.92495956 0.92495956 0.92489267        nan        nan 0.92395637\n",
      "        nan        nan        nan        nan 0.91673305 0.91706746\n",
      " 0.92495956 0.92495956 0.92489267        nan        nan 0.91706748]\n",
      "  warnings.warn(\n"
     ]
    },
    {
     "name": "stdout",
     "output_type": "stream",
     "text": [
      "fit time: 4.055915355682373\n",
      "training set accuracy: 0.9552568218298555\n",
      "test set accuracy: 0.9380140421263792\n",
      "recall: 0.9184738955823293\n",
      "precision: 0.9557041370664437\n",
      "f1 score: 0.9367192299815685\n"
     ]
    },
    {
     "data": {
      "image/png": "[encoded data removed]",
      "text/plain": [
       "<Figure size 432x288 with 2 Axes>"
      ]
     },
     "metadata": {
      "needs_background": "light"
     },
     "output_type": "display_data"
    }
   ],
   "source": [
    "pipe = Pipeline(steps = [('tfidf', TfidfVectorizer(max_df=0.8, max_features=4000, ngram_range=(1, 2),\n",
    "                stop_words='english')), ('logreg', LogisticRegression(max_iter = 10_000))])\n",
    "\n",
    "pipe_params = {\n",
    "    'logreg__penalty': ['None', 'l1', 'l2', 'elasticnet'],\n",
    "    'logreg__C': [0.1, 1, 10],\n",
    "    'logreg__solver': ['lbfgs', 'liblinear', 'saga'],\n",
    "    'logreg__l1_ratio': [0.1, 0.5, 1.0]\n",
    "}\n",
    "\n",
    "gs = GridSearchCV(estimator = pipe, param_grid = pipe_params, n_jobs = -1)\n",
    "gs.fit(X_train, y_train)\n",
    "df_stats = pd.concat([df_stats, evaluation(gs.best_estimator_, 'TfidfVectorizer + tuned LogisticRegression', X_train, y_train, X_test, y_test)])"
   ]
  },
  {
   "cell_type": "code",
   "execution_count": 113,
   "metadata": {},
   "outputs": [
    {
     "data": {
      "text/html": [
       "<style>#sk-container-id-5 {color: black;background-color: white;}#sk-container-id-5 pre{padding: 0;}#sk-container-id-5 div.sk-toggleable {background-color: white;}#sk-container-id-5 label.sk-toggleable__label {cursor: pointer;display: block;width: 100%;margin-bottom: 0;padding: 0.3em;box-sizing: border-box;text-align: center;}#sk-container-id-5 label.sk-toggleable__label-arrow:before {content: \"▸\";float: left;margin-right: 0.25em;color: #696969;}#sk-container-id-5 label.sk-toggleable__label-arrow:hover:before {color: black;}#sk-container-id-5 div.sk-estimator:hover label.sk-toggleable__label-arrow:before {color: black;}#sk-container-id-5 div.sk-toggleable__content {max-height: 0;max-width: 0;overflow: hidden;text-align: left;background-color: #f0f8ff;}#sk-container-id-5 div.sk-toggleable__content pre {margin: 0.2em;color: black;border-radius: 0.25em;background-color: #f0f8ff;}#sk-container-id-5 input.sk-toggleable__control:checked~div.sk-toggleable__content {max-height: 200px;max-width: 100%;overflow: auto;}#sk-container-id-5 input.sk-toggleable__control:checked~label.sk-toggleable__label-arrow:before {content: \"▾\";}#sk-container-id-5 div.sk-estimator input.sk-toggleable__control:checked~label.sk-toggleable__label {background-color: #d4ebff;}#sk-container-id-5 div.sk-label input.sk-toggleable__control:checked~label.sk-toggleable__label {background-color: #d4ebff;}#sk-container-id-5 input.sk-hidden--visually {border: 0;clip: rect(1px 1px 1px 1px);clip: rect(1px, 1px, 1px, 1px);height: 1px;margin: -1px;overflow: hidden;padding: 0;position: absolute;width: 1px;}#sk-container-id-5 div.sk-estimator {font-family: monospace;background-color: #f0f8ff;border: 1px dotted black;border-radius: 0.25em;box-sizing: border-box;margin-bottom: 0.5em;}#sk-container-id-5 div.sk-estimator:hover {background-color: #d4ebff;}#sk-container-id-5 div.sk-parallel-item::after {content: \"\";width: 100%;border-bottom: 1px solid gray;flex-grow: 1;}#sk-container-id-5 div.sk-label:hover label.sk-toggleable__label {background-color: #d4ebff;}#sk-container-id-5 div.sk-serial::before {content: \"\";position: absolute;border-left: 1px solid gray;box-sizing: border-box;top: 0;bottom: 0;left: 50%;z-index: 0;}#sk-container-id-5 div.sk-serial {display: flex;flex-direction: column;align-items: center;background-color: white;padding-right: 0.2em;padding-left: 0.2em;position: relative;}#sk-container-id-5 div.sk-item {position: relative;z-index: 1;}#sk-container-id-5 div.sk-parallel {display: flex;align-items: stretch;justify-content: center;background-color: white;position: relative;}#sk-container-id-5 div.sk-item::before, #sk-container-id-5 div.sk-parallel-item::before {content: \"\";position: absolute;border-left: 1px solid gray;box-sizing: border-box;top: 0;bottom: 0;left: 50%;z-index: -1;}#sk-container-id-5 div.sk-parallel-item {display: flex;flex-direction: column;z-index: 1;position: relative;background-color: white;}#sk-container-id-5 div.sk-parallel-item:first-child::after {align-self: flex-end;width: 50%;}#sk-container-id-5 div.sk-parallel-item:last-child::after {align-self: flex-start;width: 50%;}#sk-container-id-5 div.sk-parallel-item:only-child::after {width: 0;}#sk-container-id-5 div.sk-dashed-wrapped {border: 1px dashed gray;margin: 0 0.4em 0.5em 0.4em;box-sizing: border-box;padding-bottom: 0.4em;background-color: white;}#sk-container-id-5 div.sk-label label {font-family: monospace;font-weight: bold;display: inline-block;line-height: 1.2em;}#sk-container-id-5 div.sk-label-container {text-align: center;}#sk-container-id-5 div.sk-container {/* jupyter's `normalize.less` sets `[hidden] { display: none; }` but bootstrap.min.css set `[hidden] { display: none !important; }` so we also need the `!important` here to be able to override the default hidden behavior on the sphinx rendered scikit-learn.org. See: https://github.com/scikit-learn/scikit-learn/issues/21755 */display: inline-block !important;position: relative;}#sk-container-id-5 div.sk-text-repr-fallback {display: none;}</style><div id=\"sk-container-id-5\" class=\"sk-top-container\"><div class=\"sk-text-repr-fallback\"><pre>Pipeline(steps=[(&#x27;tfidf&#x27;,\n",
       "                 TfidfVectorizer(max_df=0.8, max_features=4000,\n",
       "                                 ngram_range=(1, 2), stop_words=&#x27;english&#x27;)),\n",
       "                (&#x27;logreg&#x27;,\n",
       "                 LogisticRegression(C=1, l1_ratio=0.1, max_iter=10000,\n",
       "                                    penalty=&#x27;elasticnet&#x27;, solver=&#x27;saga&#x27;))])</pre><b>In a Jupyter environment, please rerun this cell to show the HTML representation or trust the notebook. <br />On GitHub, the HTML representation is unable to render, please try loading this page with nbviewer.org.</b></div><div class=\"sk-container\" hidden><div class=\"sk-item sk-dashed-wrapped\"><div class=\"sk-label-container\"><div class=\"sk-label sk-toggleable\"><input class=\"sk-toggleable__control sk-hidden--visually\" id=\"sk-estimator-id-14\" type=\"checkbox\" ><label for=\"sk-estimator-id-14\" class=\"sk-toggleable__label sk-toggleable__label-arrow\">Pipeline</label><div class=\"sk-toggleable__content\"><pre>Pipeline(steps=[(&#x27;tfidf&#x27;,\n",
       "                 TfidfVectorizer(max_df=0.8, max_features=4000,\n",
       "                                 ngram_range=(1, 2), stop_words=&#x27;english&#x27;)),\n",
       "                (&#x27;logreg&#x27;,\n",
       "                 LogisticRegression(C=1, l1_ratio=0.1, max_iter=10000,\n",
       "                                    penalty=&#x27;elasticnet&#x27;, solver=&#x27;saga&#x27;))])</pre></div></div></div><div class=\"sk-serial\"><div class=\"sk-item\"><div class=\"sk-estimator sk-toggleable\"><input class=\"sk-toggleable__control sk-hidden--visually\" id=\"sk-estimator-id-15\" type=\"checkbox\" ><label for=\"sk-estimator-id-15\" class=\"sk-toggleable__label sk-toggleable__label-arrow\">TfidfVectorizer</label><div class=\"sk-toggleable__content\"><pre>TfidfVectorizer(max_df=0.8, max_features=4000, ngram_range=(1, 2),\n",
       "                stop_words=&#x27;english&#x27;)</pre></div></div></div><div class=\"sk-item\"><div class=\"sk-estimator sk-toggleable\"><input class=\"sk-toggleable__control sk-hidden--visually\" id=\"sk-estimator-id-16\" type=\"checkbox\" ><label for=\"sk-estimator-id-16\" class=\"sk-toggleable__label sk-toggleable__label-arrow\">LogisticRegression</label><div class=\"sk-toggleable__content\"><pre>LogisticRegression(C=1, l1_ratio=0.1, max_iter=10000, penalty=&#x27;elasticnet&#x27;,\n",
       "                   solver=&#x27;saga&#x27;)</pre></div></div></div></div></div></div></div>"
      ],
      "text/plain": [
       "Pipeline(steps=[('tfidf',\n",
       "                 TfidfVectorizer(max_df=0.8, max_features=4000,\n",
       "                                 ngram_range=(1, 2), stop_words='english')),\n",
       "                ('logreg',\n",
       "                 LogisticRegression(C=1, l1_ratio=0.1, max_iter=10000,\n",
       "                                    penalty='elasticnet', solver='saga'))])"
      ]
     },
     "execution_count": 113,
     "metadata": {},
     "output_type": "execute_result"
    }
   ],
   "source": [
    "gs.best_estimator_"
   ]
  },
  {
   "cell_type": "markdown",
   "metadata": {},
   "source": [
    "**Hot Take:**\n",
    "- A tiny improvement over Model 2\n",
    "- Final fit took almost 4x as long as Model 2\n",
    "- Worth keeping for stacking"
   ]
  },
  {
   "cell_type": "markdown",
   "metadata": {},
   "source": [
    "**Model 4: TfidfVectorizer + K-nearest neighbors**\n",
    "- Time to move on to new estimators! Let's give KNN a shot."
   ]
  },
  {
   "cell_type": "code",
   "execution_count": 114,
   "metadata": {},
   "outputs": [
    {
     "name": "stdout",
     "output_type": "stream",
     "text": [
      "fit time: 1.4645106792449951\n",
      "training set accuracy: 0.9948501872659176\n",
      "test set accuracy: 0.6036108324974925\n",
      "recall: 0.3301204819277108\n",
      "precision: 0.727433628318584\n",
      "f1 score: 0.45414364640883975\n"
     ]
    },
    {
     "data": {
      "image/png": "[encoded data removed]",
      "text/plain": [
       "<Figure size 432x288 with 2 Axes>"
      ]
     },
     "metadata": {
      "needs_background": "light"
     },
     "output_type": "display_data"
    }
   ],
   "source": [
    "pipe = Pipeline(steps = [('tfidf', TfidfVectorizer(max_df=0.8, max_features=4000, ngram_range=(1, 2),\n",
    "                stop_words='english')), ('knn', KNeighborsClassifier())])\n",
    "\n",
    "pipe_params = {\n",
    "    'knn__n_neighbors': [3, 5, 8],\n",
    "    'knn__weights': ['uniform', 'distance'],\n",
    "    'knn__metric': ['minkowski', 'manhattan', 'euclidean']\n",
    "}\n",
    "\n",
    "gs = GridSearchCV(estimator = pipe, param_grid = pipe_params, n_jobs = -1)\n",
    "gs.fit(X_train, y_train)\n",
    "df_stats = pd.concat([df_stats, evaluation(gs.best_estimator_, 'TfidfVectorizer + KNN', X_train, y_train, X_test, y_test)])"
   ]
  },
  {
   "cell_type": "code",
   "execution_count": 115,
   "metadata": {},
   "outputs": [
    {
     "data": {
      "text/html": [
       "<style>#sk-container-id-6 {color: black;background-color: white;}#sk-container-id-6 pre{padding: 0;}#sk-container-id-6 div.sk-toggleable {background-color: white;}#sk-container-id-6 label.sk-toggleable__label {cursor: pointer;display: block;width: 100%;margin-bottom: 0;padding: 0.3em;box-sizing: border-box;text-align: center;}#sk-container-id-6 label.sk-toggleable__label-arrow:before {content: \"▸\";float: left;margin-right: 0.25em;color: #696969;}#sk-container-id-6 label.sk-toggleable__label-arrow:hover:before {color: black;}#sk-container-id-6 div.sk-estimator:hover label.sk-toggleable__label-arrow:before {color: black;}#sk-container-id-6 div.sk-toggleable__content {max-height: 0;max-width: 0;overflow: hidden;text-align: left;background-color: #f0f8ff;}#sk-container-id-6 div.sk-toggleable__content pre {margin: 0.2em;color: black;border-radius: 0.25em;background-color: #f0f8ff;}#sk-container-id-6 input.sk-toggleable__control:checked~div.sk-toggleable__content {max-height: 200px;max-width: 100%;overflow: auto;}#sk-container-id-6 input.sk-toggleable__control:checked~label.sk-toggleable__label-arrow:before {content: \"▾\";}#sk-container-id-6 div.sk-estimator input.sk-toggleable__control:checked~label.sk-toggleable__label {background-color: #d4ebff;}#sk-container-id-6 div.sk-label input.sk-toggleable__control:checked~label.sk-toggleable__label {background-color: #d4ebff;}#sk-container-id-6 input.sk-hidden--visually {border: 0;clip: rect(1px 1px 1px 1px);clip: rect(1px, 1px, 1px, 1px);height: 1px;margin: -1px;overflow: hidden;padding: 0;position: absolute;width: 1px;}#sk-container-id-6 div.sk-estimator {font-family: monospace;background-color: #f0f8ff;border: 1px dotted black;border-radius: 0.25em;box-sizing: border-box;margin-bottom: 0.5em;}#sk-container-id-6 div.sk-estimator:hover {background-color: #d4ebff;}#sk-container-id-6 div.sk-parallel-item::after {content: \"\";width: 100%;border-bottom: 1px solid gray;flex-grow: 1;}#sk-container-id-6 div.sk-label:hover label.sk-toggleable__label {background-color: #d4ebff;}#sk-container-id-6 div.sk-serial::before {content: \"\";position: absolute;border-left: 1px solid gray;box-sizing: border-box;top: 0;bottom: 0;left: 50%;z-index: 0;}#sk-container-id-6 div.sk-serial {display: flex;flex-direction: column;align-items: center;background-color: white;padding-right: 0.2em;padding-left: 0.2em;position: relative;}#sk-container-id-6 div.sk-item {position: relative;z-index: 1;}#sk-container-id-6 div.sk-parallel {display: flex;align-items: stretch;justify-content: center;background-color: white;position: relative;}#sk-container-id-6 div.sk-item::before, #sk-container-id-6 div.sk-parallel-item::before {content: \"\";position: absolute;border-left: 1px solid gray;box-sizing: border-box;top: 0;bottom: 0;left: 50%;z-index: -1;}#sk-container-id-6 div.sk-parallel-item {display: flex;flex-direction: column;z-index: 1;position: relative;background-color: white;}#sk-container-id-6 div.sk-parallel-item:first-child::after {align-self: flex-end;width: 50%;}#sk-container-id-6 div.sk-parallel-item:last-child::after {align-self: flex-start;width: 50%;}#sk-container-id-6 div.sk-parallel-item:only-child::after {width: 0;}#sk-container-id-6 div.sk-dashed-wrapped {border: 1px dashed gray;margin: 0 0.4em 0.5em 0.4em;box-sizing: border-box;padding-bottom: 0.4em;background-color: white;}#sk-container-id-6 div.sk-label label {font-family: monospace;font-weight: bold;display: inline-block;line-height: 1.2em;}#sk-container-id-6 div.sk-label-container {text-align: center;}#sk-container-id-6 div.sk-container {/* jupyter's `normalize.less` sets `[hidden] { display: none; }` but bootstrap.min.css set `[hidden] { display: none !important; }` so we also need the `!important` here to be able to override the default hidden behavior on the sphinx rendered scikit-learn.org. See: https://github.com/scikit-learn/scikit-learn/issues/21755 */display: inline-block !important;position: relative;}#sk-container-id-6 div.sk-text-repr-fallback {display: none;}</style><div id=\"sk-container-id-6\" class=\"sk-top-container\"><div class=\"sk-text-repr-fallback\"><pre>Pipeline(steps=[(&#x27;tfidf&#x27;,\n",
       "                 TfidfVectorizer(max_df=0.8, max_features=4000,\n",
       "                                 ngram_range=(1, 2), stop_words=&#x27;english&#x27;)),\n",
       "                (&#x27;knn&#x27;,\n",
       "                 KNeighborsClassifier(n_neighbors=8, weights=&#x27;distance&#x27;))])</pre><b>In a Jupyter environment, please rerun this cell to show the HTML representation or trust the notebook. <br />On GitHub, the HTML representation is unable to render, please try loading this page with nbviewer.org.</b></div><div class=\"sk-container\" hidden><div class=\"sk-item sk-dashed-wrapped\"><div class=\"sk-label-container\"><div class=\"sk-label sk-toggleable\"><input class=\"sk-toggleable__control sk-hidden--visually\" id=\"sk-estimator-id-17\" type=\"checkbox\" ><label for=\"sk-estimator-id-17\" class=\"sk-toggleable__label sk-toggleable__label-arrow\">Pipeline</label><div class=\"sk-toggleable__content\"><pre>Pipeline(steps=[(&#x27;tfidf&#x27;,\n",
       "                 TfidfVectorizer(max_df=0.8, max_features=4000,\n",
       "                                 ngram_range=(1, 2), stop_words=&#x27;english&#x27;)),\n",
       "                (&#x27;knn&#x27;,\n",
       "                 KNeighborsClassifier(n_neighbors=8, weights=&#x27;distance&#x27;))])</pre></div></div></div><div class=\"sk-serial\"><div class=\"sk-item\"><div class=\"sk-estimator sk-toggleable\"><input class=\"sk-toggleable__control sk-hidden--visually\" id=\"sk-estimator-id-18\" type=\"checkbox\" ><label for=\"sk-estimator-id-18\" class=\"sk-toggleable__label sk-toggleable__label-arrow\">TfidfVectorizer</label><div class=\"sk-toggleable__content\"><pre>TfidfVectorizer(max_df=0.8, max_features=4000, ngram_range=(1, 2),\n",
       "                stop_words=&#x27;english&#x27;)</pre></div></div></div><div class=\"sk-item\"><div class=\"sk-estimator sk-toggleable\"><input class=\"sk-toggleable__control sk-hidden--visually\" id=\"sk-estimator-id-19\" type=\"checkbox\" ><label for=\"sk-estimator-id-19\" class=\"sk-toggleable__label sk-toggleable__label-arrow\">KNeighborsClassifier</label><div class=\"sk-toggleable__content\"><pre>KNeighborsClassifier(n_neighbors=8, weights=&#x27;distance&#x27;)</pre></div></div></div></div></div></div></div>"
      ],
      "text/plain": [
       "Pipeline(steps=[('tfidf',\n",
       "                 TfidfVectorizer(max_df=0.8, max_features=4000,\n",
       "                                 ngram_range=(1, 2), stop_words='english')),\n",
       "                ('knn',\n",
       "                 KNeighborsClassifier(n_neighbors=8, weights='distance'))])"
      ]
     },
     "execution_count": 115,
     "metadata": {},
     "output_type": "execute_result"
    }
   ],
   "source": [
    "gs.best_estimator_"
   ]
  },
  {
   "cell_type": "markdown",
   "metadata": {},
   "source": [
    "**Hot Take:**\n",
    "- As I kind of expected, this one's pretty bad - hugely overfit, and the precision/recall/F1 aren't nearly as good\n",
    "- About as fast as Model 2\n",
    "- Not worth keeping"
   ]
  },
  {
   "cell_type": "markdown",
   "metadata": {},
   "source": [
    "**Model 5: TfidfVectorizer + Multinomial Naive Bayes**"
   ]
  },
  {
   "cell_type": "code",
   "execution_count": 116,
   "metadata": {},
   "outputs": [
    {
     "name": "stdout",
     "output_type": "stream",
     "text": [
      "fit time: 1.2961556911468506\n",
      "training set accuracy: 0.9414125200642055\n",
      "test set accuracy: 0.9279839518555667\n",
      "recall: 0.9257028112449799\n",
      "precision: 0.9298104074223478\n",
      "f1 score: 0.9277520627892937\n"
     ]
    },
    {
     "data": {
      "image/png": "[encoded data removed]",
      "text/plain": [
       "<Figure size 432x288 with 2 Axes>"
      ]
     },
     "metadata": {
      "needs_background": "light"
     },
     "output_type": "display_data"
    }
   ],
   "source": [
    "pipe = Pipeline(steps = [('tfidf', TfidfVectorizer(max_df=0.8, max_features=4000, ngram_range=(1, 2),\n",
    "                stop_words='english')), ('mnb', MultinomialNB())])\n",
    "\n",
    "pipe_params = {\n",
    "    'mnb__alpha': [0.0, 0.4, 0.8, 1.0]\n",
    "}\n",
    "\n",
    "gs = GridSearchCV(estimator = pipe, param_grid = pipe_params, n_jobs = -1)\n",
    "gs.fit(X_train, y_train)\n",
    "df_stats = pd.concat([df_stats, evaluation(gs.best_estimator_, 'TFIDF + MultinomialNB', X_train, y_train, X_test, y_test)])"
   ]
  },
  {
   "cell_type": "code",
   "execution_count": 117,
   "metadata": {},
   "outputs": [
    {
     "data": {
      "text/html": [
       "<style>#sk-container-id-7 {color: black;background-color: white;}#sk-container-id-7 pre{padding: 0;}#sk-container-id-7 div.sk-toggleable {background-color: white;}#sk-container-id-7 label.sk-toggleable__label {cursor: pointer;display: block;width: 100%;margin-bottom: 0;padding: 0.3em;box-sizing: border-box;text-align: center;}#sk-container-id-7 label.sk-toggleable__label-arrow:before {content: \"▸\";float: left;margin-right: 0.25em;color: #696969;}#sk-container-id-7 label.sk-toggleable__label-arrow:hover:before {color: black;}#sk-container-id-7 div.sk-estimator:hover label.sk-toggleable__label-arrow:before {color: black;}#sk-container-id-7 div.sk-toggleable__content {max-height: 0;max-width: 0;overflow: hidden;text-align: left;background-color: #f0f8ff;}#sk-container-id-7 div.sk-toggleable__content pre {margin: 0.2em;color: black;border-radius: 0.25em;background-color: #f0f8ff;}#sk-container-id-7 input.sk-toggleable__control:checked~div.sk-toggleable__content {max-height: 200px;max-width: 100%;overflow: auto;}#sk-container-id-7 input.sk-toggleable__control:checked~label.sk-toggleable__label-arrow:before {content: \"▾\";}#sk-container-id-7 div.sk-estimator input.sk-toggleable__control:checked~label.sk-toggleable__label {background-color: #d4ebff;}#sk-container-id-7 div.sk-label input.sk-toggleable__control:checked~label.sk-toggleable__label {background-color: #d4ebff;}#sk-container-id-7 input.sk-hidden--visually {border: 0;clip: rect(1px 1px 1px 1px);clip: rect(1px, 1px, 1px, 1px);height: 1px;margin: -1px;overflow: hidden;padding: 0;position: absolute;width: 1px;}#sk-container-id-7 div.sk-estimator {font-family: monospace;background-color: #f0f8ff;border: 1px dotted black;border-radius: 0.25em;box-sizing: border-box;margin-bottom: 0.5em;}#sk-container-id-7 div.sk-estimator:hover {background-color: #d4ebff;}#sk-container-id-7 div.sk-parallel-item::after {content: \"\";width: 100%;border-bottom: 1px solid gray;flex-grow: 1;}#sk-container-id-7 div.sk-label:hover label.sk-toggleable__label {background-color: #d4ebff;}#sk-container-id-7 div.sk-serial::before {content: \"\";position: absolute;border-left: 1px solid gray;box-sizing: border-box;top: 0;bottom: 0;left: 50%;z-index: 0;}#sk-container-id-7 div.sk-serial {display: flex;flex-direction: column;align-items: center;background-color: white;padding-right: 0.2em;padding-left: 0.2em;position: relative;}#sk-container-id-7 div.sk-item {position: relative;z-index: 1;}#sk-container-id-7 div.sk-parallel {display: flex;align-items: stretch;justify-content: center;background-color: white;position: relative;}#sk-container-id-7 div.sk-item::before, #sk-container-id-7 div.sk-parallel-item::before {content: \"\";position: absolute;border-left: 1px solid gray;box-sizing: border-box;top: 0;bottom: 0;left: 50%;z-index: -1;}#sk-container-id-7 div.sk-parallel-item {display: flex;flex-direction: column;z-index: 1;position: relative;background-color: white;}#sk-container-id-7 div.sk-parallel-item:first-child::after {align-self: flex-end;width: 50%;}#sk-container-id-7 div.sk-parallel-item:last-child::after {align-self: flex-start;width: 50%;}#sk-container-id-7 div.sk-parallel-item:only-child::after {width: 0;}#sk-container-id-7 div.sk-dashed-wrapped {border: 1px dashed gray;margin: 0 0.4em 0.5em 0.4em;box-sizing: border-box;padding-bottom: 0.4em;background-color: white;}#sk-container-id-7 div.sk-label label {font-family: monospace;font-weight: bold;display: inline-block;line-height: 1.2em;}#sk-container-id-7 div.sk-label-container {text-align: center;}#sk-container-id-7 div.sk-container {/* jupyter's `normalize.less` sets `[hidden] { display: none; }` but bootstrap.min.css set `[hidden] { display: none !important; }` so we also need the `!important` here to be able to override the default hidden behavior on the sphinx rendered scikit-learn.org. See: https://github.com/scikit-learn/scikit-learn/issues/21755 */display: inline-block !important;position: relative;}#sk-container-id-7 div.sk-text-repr-fallback {display: none;}</style><div id=\"sk-container-id-7\" class=\"sk-top-container\"><div class=\"sk-text-repr-fallback\"><pre>Pipeline(steps=[(&#x27;tfidf&#x27;,\n",
       "                 TfidfVectorizer(max_df=0.8, max_features=4000,\n",
       "                                 ngram_range=(1, 2), stop_words=&#x27;english&#x27;)),\n",
       "                (&#x27;mnb&#x27;, MultinomialNB())])</pre><b>In a Jupyter environment, please rerun this cell to show the HTML representation or trust the notebook. <br />On GitHub, the HTML representation is unable to render, please try loading this page with nbviewer.org.</b></div><div class=\"sk-container\" hidden><div class=\"sk-item sk-dashed-wrapped\"><div class=\"sk-label-container\"><div class=\"sk-label sk-toggleable\"><input class=\"sk-toggleable__control sk-hidden--visually\" id=\"sk-estimator-id-20\" type=\"checkbox\" ><label for=\"sk-estimator-id-20\" class=\"sk-toggleable__label sk-toggleable__label-arrow\">Pipeline</label><div class=\"sk-toggleable__content\"><pre>Pipeline(steps=[(&#x27;tfidf&#x27;,\n",
       "                 TfidfVectorizer(max_df=0.8, max_features=4000,\n",
       "                                 ngram_range=(1, 2), stop_words=&#x27;english&#x27;)),\n",
       "                (&#x27;mnb&#x27;, MultinomialNB())])</pre></div></div></div><div class=\"sk-serial\"><div class=\"sk-item\"><div class=\"sk-estimator sk-toggleable\"><input class=\"sk-toggleable__control sk-hidden--visually\" id=\"sk-estimator-id-21\" type=\"checkbox\" ><label for=\"sk-estimator-id-21\" class=\"sk-toggleable__label sk-toggleable__label-arrow\">TfidfVectorizer</label><div class=\"sk-toggleable__content\"><pre>TfidfVectorizer(max_df=0.8, max_features=4000, ngram_range=(1, 2),\n",
       "                stop_words=&#x27;english&#x27;)</pre></div></div></div><div class=\"sk-item\"><div class=\"sk-estimator sk-toggleable\"><input class=\"sk-toggleable__control sk-hidden--visually\" id=\"sk-estimator-id-22\" type=\"checkbox\" ><label for=\"sk-estimator-id-22\" class=\"sk-toggleable__label sk-toggleable__label-arrow\">MultinomialNB</label><div class=\"sk-toggleable__content\"><pre>MultinomialNB()</pre></div></div></div></div></div></div></div>"
      ],
      "text/plain": [
       "Pipeline(steps=[('tfidf',\n",
       "                 TfidfVectorizer(max_df=0.8, max_features=4000,\n",
       "                                 ngram_range=(1, 2), stop_words='english')),\n",
       "                ('mnb', MultinomialNB())])"
      ]
     },
     "execution_count": 117,
     "metadata": {},
     "output_type": "execute_result"
    }
   ],
   "source": [
    "gs.best_estimator_"
   ]
  },
  {
   "cell_type": "markdown",
   "metadata": {},
   "source": [
    "**Hot Take:**\n",
    "- Really does very well, almost as good as our LogisticRegressions\n",
    "- About as fast to fit as Model 2\n",
    "- Worth keeping for stacking"
   ]
  },
  {
   "cell_type": "markdown",
   "metadata": {},
   "source": [
    "**Model 6: TFIDF + Single Decision Tree**"
   ]
  },
  {
   "cell_type": "code",
   "execution_count": 118,
   "metadata": {},
   "outputs": [
    {
     "name": "stdout",
     "output_type": "stream",
     "text": [
      "fit time: 1.618755578994751\n",
      "training set accuracy: 0.8120652755484216\n",
      "test set accuracy: 0.7993981945837513\n",
      "recall: 0.6096385542168675\n",
      "precision: 0.981888745148771\n",
      "f1 score: 0.7522299306243806\n"
     ]
    },
    {
     "data": {
      "image/png": "[encoded data removed]",
      "text/plain": [
       "<Figure size 432x288 with 2 Axes>"
      ]
     },
     "metadata": {
      "needs_background": "light"
     },
     "output_type": "display_data"
    }
   ],
   "source": [
    "pipe = Pipeline(steps = [('tfidf', TfidfVectorizer(max_df=0.8, max_features=4000, ngram_range=(1, 2),\n",
    "                stop_words='english')), ('dt', DecisionTreeClassifier(random_state = 42))])\n",
    "\n",
    "pipe_params = {\n",
    "    'dt__max_features': [3000, 4000],\n",
    "    'dt__max_depth': [2, 5, 10],\n",
    "    'dt__min_samples_split': [2, 4],\n",
    "    'dt__min_samples_leaf': [1, 2]\n",
    "}\n",
    "\n",
    "gs = GridSearchCV(estimator = pipe, param_grid = pipe_params, n_jobs = -1)\n",
    "gs.fit(X_train, y_train)\n",
    "df_stats = pd.concat([df_stats, evaluation(gs.best_estimator_, 'TfidfVectorizer + DecisionTree', X_train, y_train, X_test, y_test)])"
   ]
  },
  {
   "cell_type": "code",
   "execution_count": 119,
   "metadata": {},
   "outputs": [
    {
     "data": {
      "text/html": [
       "<style>#sk-container-id-8 {color: black;background-color: white;}#sk-container-id-8 pre{padding: 0;}#sk-container-id-8 div.sk-toggleable {background-color: white;}#sk-container-id-8 label.sk-toggleable__label {cursor: pointer;display: block;width: 100%;margin-bottom: 0;padding: 0.3em;box-sizing: border-box;text-align: center;}#sk-container-id-8 label.sk-toggleable__label-arrow:before {content: \"▸\";float: left;margin-right: 0.25em;color: #696969;}#sk-container-id-8 label.sk-toggleable__label-arrow:hover:before {color: black;}#sk-container-id-8 div.sk-estimator:hover label.sk-toggleable__label-arrow:before {color: black;}#sk-container-id-8 div.sk-toggleable__content {max-height: 0;max-width: 0;overflow: hidden;text-align: left;background-color: #f0f8ff;}#sk-container-id-8 div.sk-toggleable__content pre {margin: 0.2em;color: black;border-radius: 0.25em;background-color: #f0f8ff;}#sk-container-id-8 input.sk-toggleable__control:checked~div.sk-toggleable__content {max-height: 200px;max-width: 100%;overflow: auto;}#sk-container-id-8 input.sk-toggleable__control:checked~label.sk-toggleable__label-arrow:before {content: \"▾\";}#sk-container-id-8 div.sk-estimator input.sk-toggleable__control:checked~label.sk-toggleable__label {background-color: #d4ebff;}#sk-container-id-8 div.sk-label input.sk-toggleable__control:checked~label.sk-toggleable__label {background-color: #d4ebff;}#sk-container-id-8 input.sk-hidden--visually {border: 0;clip: rect(1px 1px 1px 1px);clip: rect(1px, 1px, 1px, 1px);height: 1px;margin: -1px;overflow: hidden;padding: 0;position: absolute;width: 1px;}#sk-container-id-8 div.sk-estimator {font-family: monospace;background-color: #f0f8ff;border: 1px dotted black;border-radius: 0.25em;box-sizing: border-box;margin-bottom: 0.5em;}#sk-container-id-8 div.sk-estimator:hover {background-color: #d4ebff;}#sk-container-id-8 div.sk-parallel-item::after {content: \"\";width: 100%;border-bottom: 1px solid gray;flex-grow: 1;}#sk-container-id-8 div.sk-label:hover label.sk-toggleable__label {background-color: #d4ebff;}#sk-container-id-8 div.sk-serial::before {content: \"\";position: absolute;border-left: 1px solid gray;box-sizing: border-box;top: 0;bottom: 0;left: 50%;z-index: 0;}#sk-container-id-8 div.sk-serial {display: flex;flex-direction: column;align-items: center;background-color: white;padding-right: 0.2em;padding-left: 0.2em;position: relative;}#sk-container-id-8 div.sk-item {position: relative;z-index: 1;}#sk-container-id-8 div.sk-parallel {display: flex;align-items: stretch;justify-content: center;background-color: white;position: relative;}#sk-container-id-8 div.sk-item::before, #sk-container-id-8 div.sk-parallel-item::before {content: \"\";position: absolute;border-left: 1px solid gray;box-sizing: border-box;top: 0;bottom: 0;left: 50%;z-index: -1;}#sk-container-id-8 div.sk-parallel-item {display: flex;flex-direction: column;z-index: 1;position: relative;background-color: white;}#sk-container-id-8 div.sk-parallel-item:first-child::after {align-self: flex-end;width: 50%;}#sk-container-id-8 div.sk-parallel-item:last-child::after {align-self: flex-start;width: 50%;}#sk-container-id-8 div.sk-parallel-item:only-child::after {width: 0;}#sk-container-id-8 div.sk-dashed-wrapped {border: 1px dashed gray;margin: 0 0.4em 0.5em 0.4em;box-sizing: border-box;padding-bottom: 0.4em;background-color: white;}#sk-container-id-8 div.sk-label label {font-family: monospace;font-weight: bold;display: inline-block;line-height: 1.2em;}#sk-container-id-8 div.sk-label-container {text-align: center;}#sk-container-id-8 div.sk-container {/* jupyter's `normalize.less` sets `[hidden] { display: none; }` but bootstrap.min.css set `[hidden] { display: none !important; }` so we also need the `!important` here to be able to override the default hidden behavior on the sphinx rendered scikit-learn.org. See: https://github.com/scikit-learn/scikit-learn/issues/21755 */display: inline-block !important;position: relative;}#sk-container-id-8 div.sk-text-repr-fallback {display: none;}</style><div id=\"sk-container-id-8\" class=\"sk-top-container\"><div class=\"sk-text-repr-fallback\"><pre>Pipeline(steps=[(&#x27;tfidf&#x27;,\n",
       "                 TfidfVectorizer(max_df=0.8, max_features=4000,\n",
       "                                 ngram_range=(1, 2), stop_words=&#x27;english&#x27;)),\n",
       "                (&#x27;dt&#x27;,\n",
       "                 DecisionTreeClassifier(max_depth=10, max_features=3000,\n",
       "                                        min_samples_leaf=2, random_state=42))])</pre><b>In a Jupyter environment, please rerun this cell to show the HTML representation or trust the notebook. <br />On GitHub, the HTML representation is unable to render, please try loading this page with nbviewer.org.</b></div><div class=\"sk-container\" hidden><div class=\"sk-item sk-dashed-wrapped\"><div class=\"sk-label-container\"><div class=\"sk-label sk-toggleable\"><input class=\"sk-toggleable__control sk-hidden--visually\" id=\"sk-estimator-id-23\" type=\"checkbox\" ><label for=\"sk-estimator-id-23\" class=\"sk-toggleable__label sk-toggleable__label-arrow\">Pipeline</label><div class=\"sk-toggleable__content\"><pre>Pipeline(steps=[(&#x27;tfidf&#x27;,\n",
       "                 TfidfVectorizer(max_df=0.8, max_features=4000,\n",
       "                                 ngram_range=(1, 2), stop_words=&#x27;english&#x27;)),\n",
       "                (&#x27;dt&#x27;,\n",
       "                 DecisionTreeClassifier(max_depth=10, max_features=3000,\n",
       "                                        min_samples_leaf=2, random_state=42))])</pre></div></div></div><div class=\"sk-serial\"><div class=\"sk-item\"><div class=\"sk-estimator sk-toggleable\"><input class=\"sk-toggleable__control sk-hidden--visually\" id=\"sk-estimator-id-24\" type=\"checkbox\" ><label for=\"sk-estimator-id-24\" class=\"sk-toggleable__label sk-toggleable__label-arrow\">TfidfVectorizer</label><div class=\"sk-toggleable__content\"><pre>TfidfVectorizer(max_df=0.8, max_features=4000, ngram_range=(1, 2),\n",
       "                stop_words=&#x27;english&#x27;)</pre></div></div></div><div class=\"sk-item\"><div class=\"sk-estimator sk-toggleable\"><input class=\"sk-toggleable__control sk-hidden--visually\" id=\"sk-estimator-id-25\" type=\"checkbox\" ><label for=\"sk-estimator-id-25\" class=\"sk-toggleable__label sk-toggleable__label-arrow\">DecisionTreeClassifier</label><div class=\"sk-toggleable__content\"><pre>DecisionTreeClassifier(max_depth=10, max_features=3000, min_samples_leaf=2,\n",
       "                       random_state=42)</pre></div></div></div></div></div></div></div>"
      ],
      "text/plain": [
       "Pipeline(steps=[('tfidf',\n",
       "                 TfidfVectorizer(max_df=0.8, max_features=4000,\n",
       "                                 ngram_range=(1, 2), stop_words='english')),\n",
       "                ('dt',\n",
       "                 DecisionTreeClassifier(max_depth=10, max_features=3000,\n",
       "                                        min_samples_leaf=2, random_state=42))])"
      ]
     },
     "execution_count": 119,
     "metadata": {},
     "output_type": "execute_result"
    }
   ],
   "source": [
    "gs.best_estimator_"
   ]
  },
  {
   "cell_type": "markdown",
   "metadata": {},
   "source": [
    "**Hot Take:**\n",
    "- Not as bad as I thought, but definitely higher bias than our other models\n",
    "- Reasonably fast to fit\n",
    "- Not worth keeping"
   ]
  },
  {
   "cell_type": "markdown",
   "metadata": {},
   "source": [
    "**Model 7: TFIDF + Bagged Decision Trees**"
   ]
  },
  {
   "cell_type": "code",
   "execution_count": 121,
   "metadata": {},
   "outputs": [
    {
     "name": "stdout",
     "output_type": "stream",
     "text": [
      "fit time: 28.87225651741028\n",
      "training set accuracy: 0.9923756019261637\n",
      "test set accuracy: 0.9063189568706118\n",
      "recall: 0.8847389558232932\n",
      "precision: 0.9244649601342845\n",
      "f1 score: 0.9041658116150215\n"
     ]
    },
    {
     "data": {
      "image/png": "[encoded data removed]",
      "text/plain": [
       "<Figure size 432x288 with 2 Axes>"
      ]
     },
     "metadata": {
      "needs_background": "light"
     },
     "output_type": "display_data"
    }
   ],
   "source": [
    "pipe = Pipeline(steps = [('tfidf', TfidfVectorizer(max_df=0.8, max_features=4000, ngram_range=(1, 2),\n",
    "                stop_words='english')), ('bag', BaggingClassifier(random_state = 42))])\n",
    "\n",
    "pipe_params = {\n",
    "    'bag__n_estimators': [10, 20]\n",
    "}\n",
    "\n",
    "gs = GridSearchCV(estimator = pipe, param_grid = pipe_params, n_jobs = -1)\n",
    "gs.fit(X_train, y_train)\n",
    "df_stats = pd.concat([df_stats, evaluation(gs.best_estimator_, 'TfidfVectorizer + Bagging', X_train, y_train, X_test, y_test)])"
   ]
  },
  {
   "cell_type": "code",
   "execution_count": 122,
   "metadata": {},
   "outputs": [
    {
     "data": {
      "text/html": [
       "<style>#sk-container-id-9 {color: black;background-color: white;}#sk-container-id-9 pre{padding: 0;}#sk-container-id-9 div.sk-toggleable {background-color: white;}#sk-container-id-9 label.sk-toggleable__label {cursor: pointer;display: block;width: 100%;margin-bottom: 0;padding: 0.3em;box-sizing: border-box;text-align: center;}#sk-container-id-9 label.sk-toggleable__label-arrow:before {content: \"▸\";float: left;margin-right: 0.25em;color: #696969;}#sk-container-id-9 label.sk-toggleable__label-arrow:hover:before {color: black;}#sk-container-id-9 div.sk-estimator:hover label.sk-toggleable__label-arrow:before {color: black;}#sk-container-id-9 div.sk-toggleable__content {max-height: 0;max-width: 0;overflow: hidden;text-align: left;background-color: #f0f8ff;}#sk-container-id-9 div.sk-toggleable__content pre {margin: 0.2em;color: black;border-radius: 0.25em;background-color: #f0f8ff;}#sk-container-id-9 input.sk-toggleable__control:checked~div.sk-toggleable__content {max-height: 200px;max-width: 100%;overflow: auto;}#sk-container-id-9 input.sk-toggleable__control:checked~label.sk-toggleable__label-arrow:before {content: \"▾\";}#sk-container-id-9 div.sk-estimator input.sk-toggleable__control:checked~label.sk-toggleable__label {background-color: #d4ebff;}#sk-container-id-9 div.sk-label input.sk-toggleable__control:checked~label.sk-toggleable__label {background-color: #d4ebff;}#sk-container-id-9 input.sk-hidden--visually {border: 0;clip: rect(1px 1px 1px 1px);clip: rect(1px, 1px, 1px, 1px);height: 1px;margin: -1px;overflow: hidden;padding: 0;position: absolute;width: 1px;}#sk-container-id-9 div.sk-estimator {font-family: monospace;background-color: #f0f8ff;border: 1px dotted black;border-radius: 0.25em;box-sizing: border-box;margin-bottom: 0.5em;}#sk-container-id-9 div.sk-estimator:hover {background-color: #d4ebff;}#sk-container-id-9 div.sk-parallel-item::after {content: \"\";width: 100%;border-bottom: 1px solid gray;flex-grow: 1;}#sk-container-id-9 div.sk-label:hover label.sk-toggleable__label {background-color: #d4ebff;}#sk-container-id-9 div.sk-serial::before {content: \"\";position: absolute;border-left: 1px solid gray;box-sizing: border-box;top: 0;bottom: 0;left: 50%;z-index: 0;}#sk-container-id-9 div.sk-serial {display: flex;flex-direction: column;align-items: center;background-color: white;padding-right: 0.2em;padding-left: 0.2em;position: relative;}#sk-container-id-9 div.sk-item {position: relative;z-index: 1;}#sk-container-id-9 div.sk-parallel {display: flex;align-items: stretch;justify-content: center;background-color: white;position: relative;}#sk-container-id-9 div.sk-item::before, #sk-container-id-9 div.sk-parallel-item::before {content: \"\";position: absolute;border-left: 1px solid gray;box-sizing: border-box;top: 0;bottom: 0;left: 50%;z-index: -1;}#sk-container-id-9 div.sk-parallel-item {display: flex;flex-direction: column;z-index: 1;position: relative;background-color: white;}#sk-container-id-9 div.sk-parallel-item:first-child::after {align-self: flex-end;width: 50%;}#sk-container-id-9 div.sk-parallel-item:last-child::after {align-self: flex-start;width: 50%;}#sk-container-id-9 div.sk-parallel-item:only-child::after {width: 0;}#sk-container-id-9 div.sk-dashed-wrapped {border: 1px dashed gray;margin: 0 0.4em 0.5em 0.4em;box-sizing: border-box;padding-bottom: 0.4em;background-color: white;}#sk-container-id-9 div.sk-label label {font-family: monospace;font-weight: bold;display: inline-block;line-height: 1.2em;}#sk-container-id-9 div.sk-label-container {text-align: center;}#sk-container-id-9 div.sk-container {/* jupyter's `normalize.less` sets `[hidden] { display: none; }` but bootstrap.min.css set `[hidden] { display: none !important; }` so we also need the `!important` here to be able to override the default hidden behavior on the sphinx rendered scikit-learn.org. See: https://github.com/scikit-learn/scikit-learn/issues/21755 */display: inline-block !important;position: relative;}#sk-container-id-9 div.sk-text-repr-fallback {display: none;}</style><div id=\"sk-container-id-9\" class=\"sk-top-container\"><div class=\"sk-text-repr-fallback\"><pre>Pipeline(steps=[(&#x27;tfidf&#x27;,\n",
       "                 TfidfVectorizer(max_df=0.8, max_features=4000,\n",
       "                                 ngram_range=(1, 2), stop_words=&#x27;english&#x27;)),\n",
       "                (&#x27;bag&#x27;, BaggingClassifier(n_estimators=20, random_state=42))])</pre><b>In a Jupyter environment, please rerun this cell to show the HTML representation or trust the notebook. <br />On GitHub, the HTML representation is unable to render, please try loading this page with nbviewer.org.</b></div><div class=\"sk-container\" hidden><div class=\"sk-item sk-dashed-wrapped\"><div class=\"sk-label-container\"><div class=\"sk-label sk-toggleable\"><input class=\"sk-toggleable__control sk-hidden--visually\" id=\"sk-estimator-id-26\" type=\"checkbox\" ><label for=\"sk-estimator-id-26\" class=\"sk-toggleable__label sk-toggleable__label-arrow\">Pipeline</label><div class=\"sk-toggleable__content\"><pre>Pipeline(steps=[(&#x27;tfidf&#x27;,\n",
       "                 TfidfVectorizer(max_df=0.8, max_features=4000,\n",
       "                                 ngram_range=(1, 2), stop_words=&#x27;english&#x27;)),\n",
       "                (&#x27;bag&#x27;, BaggingClassifier(n_estimators=20, random_state=42))])</pre></div></div></div><div class=\"sk-serial\"><div class=\"sk-item\"><div class=\"sk-estimator sk-toggleable\"><input class=\"sk-toggleable__control sk-hidden--visually\" id=\"sk-estimator-id-27\" type=\"checkbox\" ><label for=\"sk-estimator-id-27\" class=\"sk-toggleable__label sk-toggleable__label-arrow\">TfidfVectorizer</label><div class=\"sk-toggleable__content\"><pre>TfidfVectorizer(max_df=0.8, max_features=4000, ngram_range=(1, 2),\n",
       "                stop_words=&#x27;english&#x27;)</pre></div></div></div><div class=\"sk-item\"><div class=\"sk-estimator sk-toggleable\"><input class=\"sk-toggleable__control sk-hidden--visually\" id=\"sk-estimator-id-28\" type=\"checkbox\" ><label for=\"sk-estimator-id-28\" class=\"sk-toggleable__label sk-toggleable__label-arrow\">BaggingClassifier</label><div class=\"sk-toggleable__content\"><pre>BaggingClassifier(n_estimators=20, random_state=42)</pre></div></div></div></div></div></div></div>"
      ],
      "text/plain": [
       "Pipeline(steps=[('tfidf',\n",
       "                 TfidfVectorizer(max_df=0.8, max_features=4000,\n",
       "                                 ngram_range=(1, 2), stop_words='english')),\n",
       "                ('bag', BaggingClassifier(n_estimators=20, random_state=42))])"
      ]
     },
     "execution_count": 122,
     "metadata": {},
     "output_type": "execute_result"
    }
   ],
   "source": [
    "gs.best_estimator_"
   ]
  },
  {
   "cell_type": "markdown",
   "metadata": {},
   "source": [
    "**Hot Take:**\n",
    "- Really pretty good scores, not as good as Model 2/3\n",
    "- Very slow fit!\n",
    "- Not worth keeping"
   ]
  },
  {
   "cell_type": "markdown",
   "metadata": {},
   "source": [
    "**Model 8: TFIDF + Random Forest**"
   ]
  },
  {
   "cell_type": "code",
   "execution_count": 123,
   "metadata": {},
   "outputs": [
    {
     "name": "stdout",
     "output_type": "stream",
     "text": [
      "fit time: 2.6281583309173584\n",
      "training set accuracy: 0.9144596040663456\n",
      "test set accuracy: 0.9033099297893681\n",
      "recall: 0.8413654618473896\n",
      "precision: 0.96012832263978\n",
      "f1 score: 0.8968321917808219\n"
     ]
    },
    {
     "data": {
      "image/png": "[encoded data removed]",
      "text/plain": [
       "<Figure size 432x288 with 2 Axes>"
      ]
     },
     "metadata": {
      "needs_background": "light"
     },
     "output_type": "display_data"
    }
   ],
   "source": [
    "pipe = Pipeline(steps = [('tfidf', TfidfVectorizer(max_df=0.8, max_features=4000, ngram_range=(1, 2),\n",
    "                stop_words='english')), ('rf', RandomForestClassifier(random_state = 42))])\n",
    "\n",
    "pipe_params = {\n",
    "    'rf__n_estimators': [100, 150],\n",
    "    'rf__max_features': ['sqrt', 'log2'],\n",
    "    'rf__max_depth': [2, 5, 10],\n",
    "    'rf__min_samples_split': [2, 4],\n",
    "    'rf__min_samples_leaf': [1, 2]\n",
    "}\n",
    "\n",
    "gs = GridSearchCV(estimator = pipe, param_grid = pipe_params, n_jobs = -1)\n",
    "gs.fit(X_train, y_train)\n",
    "df_stats = pd.concat([df_stats, evaluation(gs.best_estimator_, 'TfidfVectorizer + Random Forest', X_train, y_train, X_test, y_test)])"
   ]
  },
  {
   "cell_type": "code",
   "execution_count": 124,
   "metadata": {},
   "outputs": [
    {
     "data": {
      "text/html": [
       "<style>#sk-container-id-10 {color: black;background-color: white;}#sk-container-id-10 pre{padding: 0;}#sk-container-id-10 div.sk-toggleable {background-color: white;}#sk-container-id-10 label.sk-toggleable__label {cursor: pointer;display: block;width: 100%;margin-bottom: 0;padding: 0.3em;box-sizing: border-box;text-align: center;}#sk-container-id-10 label.sk-toggleable__label-arrow:before {content: \"▸\";float: left;margin-right: 0.25em;color: #696969;}#sk-container-id-10 label.sk-toggleable__label-arrow:hover:before {color: black;}#sk-container-id-10 div.sk-estimator:hover label.sk-toggleable__label-arrow:before {color: black;}#sk-container-id-10 div.sk-toggleable__content {max-height: 0;max-width: 0;overflow: hidden;text-align: left;background-color: #f0f8ff;}#sk-container-id-10 div.sk-toggleable__content pre {margin: 0.2em;color: black;border-radius: 0.25em;background-color: #f0f8ff;}#sk-container-id-10 input.sk-toggleable__control:checked~div.sk-toggleable__content {max-height: 200px;max-width: 100%;overflow: auto;}#sk-container-id-10 input.sk-toggleable__control:checked~label.sk-toggleable__label-arrow:before {content: \"▾\";}#sk-container-id-10 div.sk-estimator input.sk-toggleable__control:checked~label.sk-toggleable__label {background-color: #d4ebff;}#sk-container-id-10 div.sk-label input.sk-toggleable__control:checked~label.sk-toggleable__label {background-color: #d4ebff;}#sk-container-id-10 input.sk-hidden--visually {border: 0;clip: rect(1px 1px 1px 1px);clip: rect(1px, 1px, 1px, 1px);height: 1px;margin: -1px;overflow: hidden;padding: 0;position: absolute;width: 1px;}#sk-container-id-10 div.sk-estimator {font-family: monospace;background-color: #f0f8ff;border: 1px dotted black;border-radius: 0.25em;box-sizing: border-box;margin-bottom: 0.5em;}#sk-container-id-10 div.sk-estimator:hover {background-color: #d4ebff;}#sk-container-id-10 div.sk-parallel-item::after {content: \"\";width: 100%;border-bottom: 1px solid gray;flex-grow: 1;}#sk-container-id-10 div.sk-label:hover label.sk-toggleable__label {background-color: #d4ebff;}#sk-container-id-10 div.sk-serial::before {content: \"\";position: absolute;border-left: 1px solid gray;box-sizing: border-box;top: 0;bottom: 0;left: 50%;z-index: 0;}#sk-container-id-10 div.sk-serial {display: flex;flex-direction: column;align-items: center;background-color: white;padding-right: 0.2em;padding-left: 0.2em;position: relative;}#sk-container-id-10 div.sk-item {position: relative;z-index: 1;}#sk-container-id-10 div.sk-parallel {display: flex;align-items: stretch;justify-content: center;background-color: white;position: relative;}#sk-container-id-10 div.sk-item::before, #sk-container-id-10 div.sk-parallel-item::before {content: \"\";position: absolute;border-left: 1px solid gray;box-sizing: border-box;top: 0;bottom: 0;left: 50%;z-index: -1;}#sk-container-id-10 div.sk-parallel-item {display: flex;flex-direction: column;z-index: 1;position: relative;background-color: white;}#sk-container-id-10 div.sk-parallel-item:first-child::after {align-self: flex-end;width: 50%;}#sk-container-id-10 div.sk-parallel-item:last-child::after {align-self: flex-start;width: 50%;}#sk-container-id-10 div.sk-parallel-item:only-child::after {width: 0;}#sk-container-id-10 div.sk-dashed-wrapped {border: 1px dashed gray;margin: 0 0.4em 0.5em 0.4em;box-sizing: border-box;padding-bottom: 0.4em;background-color: white;}#sk-container-id-10 div.sk-label label {font-family: monospace;font-weight: bold;display: inline-block;line-height: 1.2em;}#sk-container-id-10 div.sk-label-container {text-align: center;}#sk-container-id-10 div.sk-container {/* jupyter's `normalize.less` sets `[hidden] { display: none; }` but bootstrap.min.css set `[hidden] { display: none !important; }` so we also need the `!important` here to be able to override the default hidden behavior on the sphinx rendered scikit-learn.org. See: https://github.com/scikit-learn/scikit-learn/issues/21755 */display: inline-block !important;position: relative;}#sk-container-id-10 div.sk-text-repr-fallback {display: none;}</style><div id=\"sk-container-id-10\" class=\"sk-top-container\"><div class=\"sk-text-repr-fallback\"><pre>Pipeline(steps=[(&#x27;tfidf&#x27;,\n",
       "                 TfidfVectorizer(max_df=0.8, max_features=4000,\n",
       "                                 ngram_range=(1, 2), stop_words=&#x27;english&#x27;)),\n",
       "                (&#x27;rf&#x27;,\n",
       "                 RandomForestClassifier(max_depth=10, max_features=&#x27;log2&#x27;,\n",
       "                                        n_estimators=150, random_state=42))])</pre><b>In a Jupyter environment, please rerun this cell to show the HTML representation or trust the notebook. <br />On GitHub, the HTML representation is unable to render, please try loading this page with nbviewer.org.</b></div><div class=\"sk-container\" hidden><div class=\"sk-item sk-dashed-wrapped\"><div class=\"sk-label-container\"><div class=\"sk-label sk-toggleable\"><input class=\"sk-toggleable__control sk-hidden--visually\" id=\"sk-estimator-id-29\" type=\"checkbox\" ><label for=\"sk-estimator-id-29\" class=\"sk-toggleable__label sk-toggleable__label-arrow\">Pipeline</label><div class=\"sk-toggleable__content\"><pre>Pipeline(steps=[(&#x27;tfidf&#x27;,\n",
       "                 TfidfVectorizer(max_df=0.8, max_features=4000,\n",
       "                                 ngram_range=(1, 2), stop_words=&#x27;english&#x27;)),\n",
       "                (&#x27;rf&#x27;,\n",
       "                 RandomForestClassifier(max_depth=10, max_features=&#x27;log2&#x27;,\n",
       "                                        n_estimators=150, random_state=42))])</pre></div></div></div><div class=\"sk-serial\"><div class=\"sk-item\"><div class=\"sk-estimator sk-toggleable\"><input class=\"sk-toggleable__control sk-hidden--visually\" id=\"sk-estimator-id-30\" type=\"checkbox\" ><label for=\"sk-estimator-id-30\" class=\"sk-toggleable__label sk-toggleable__label-arrow\">TfidfVectorizer</label><div class=\"sk-toggleable__content\"><pre>TfidfVectorizer(max_df=0.8, max_features=4000, ngram_range=(1, 2),\n",
       "                stop_words=&#x27;english&#x27;)</pre></div></div></div><div class=\"sk-item\"><div class=\"sk-estimator sk-toggleable\"><input class=\"sk-toggleable__control sk-hidden--visually\" id=\"sk-estimator-id-31\" type=\"checkbox\" ><label for=\"sk-estimator-id-31\" class=\"sk-toggleable__label sk-toggleable__label-arrow\">RandomForestClassifier</label><div class=\"sk-toggleable__content\"><pre>RandomForestClassifier(max_depth=10, max_features=&#x27;log2&#x27;, n_estimators=150,\n",
       "                       random_state=42)</pre></div></div></div></div></div></div></div>"
      ],
      "text/plain": [
       "Pipeline(steps=[('tfidf',\n",
       "                 TfidfVectorizer(max_df=0.8, max_features=4000,\n",
       "                                 ngram_range=(1, 2), stop_words='english')),\n",
       "                ('rf',\n",
       "                 RandomForestClassifier(max_depth=10, max_features='log2',\n",
       "                                        n_estimators=150, random_state=42))])"
      ]
     },
     "execution_count": 124,
     "metadata": {},
     "output_type": "execute_result"
    }
   ],
   "source": [
    "gs.best_estimator_"
   ]
  },
  {
   "cell_type": "markdown",
   "metadata": {},
   "source": [
    "**Hot Take:**\n",
    "- Pretty good scores, not as good as Model 2/3\n",
    "- About 2x as slow to fit as Model 2/3\n",
    "- Not worth keeping"
   ]
  },
  {
   "cell_type": "markdown",
   "metadata": {},
   "source": [
    "**Model 9: TFIDF + ExtraTrees**"
   ]
  },
  {
   "cell_type": "code",
   "execution_count": 125,
   "metadata": {},
   "outputs": [
    {
     "name": "stdout",
     "output_type": "stream",
     "text": [
      "fit time: 1.85849928855896\n",
      "training set accuracy: 0.9217495987158909\n",
      "test set accuracy: 0.9117352056168505\n",
      "recall: 0.8975903614457831\n",
      "precision: 0.9235537190082644\n",
      "f1 score: 0.910386965376782\n"
     ]
    },
    {
     "data": {
      "image/png": "[encoded data removed]",
      "text/plain": [
       "<Figure size 432x288 with 2 Axes>"
      ]
     },
     "metadata": {
      "needs_background": "light"
     },
     "output_type": "display_data"
    }
   ],
   "source": [
    "pipe = Pipeline(steps = [('tfidf', TfidfVectorizer(max_df=0.8, max_features=4000, ngram_range=(1, 2),\n",
    "                stop_words='english')), ('et', ExtraTreesClassifier(random_state = 42))])\n",
    "\n",
    "pipe_params = {\n",
    "    'et__n_estimators': [100, 150],\n",
    "    'et__max_features': ['sqrt', 'log2'],\n",
    "    'et__max_depth': [2, 5, 10],\n",
    "    'et__min_samples_split': [2, 4],\n",
    "    'et__min_samples_leaf': [1, 2]\n",
    "}\n",
    "\n",
    "gs = GridSearchCV(estimator = pipe, param_grid = pipe_params, n_jobs = -1)\n",
    "gs.fit(X_train, y_train)\n",
    "df_stats = pd.concat([df_stats, evaluation(gs.best_estimator_, 'TfidfVectorizer + ExtraTrees', X_train, y_train, X_test, y_test)])"
   ]
  },
  {
   "cell_type": "code",
   "execution_count": 126,
   "metadata": {},
   "outputs": [
    {
     "data": {
      "text/html": [
       "<style>#sk-container-id-11 {color: black;background-color: white;}#sk-container-id-11 pre{padding: 0;}#sk-container-id-11 div.sk-toggleable {background-color: white;}#sk-container-id-11 label.sk-toggleable__label {cursor: pointer;display: block;width: 100%;margin-bottom: 0;padding: 0.3em;box-sizing: border-box;text-align: center;}#sk-container-id-11 label.sk-toggleable__label-arrow:before {content: \"▸\";float: left;margin-right: 0.25em;color: #696969;}#sk-container-id-11 label.sk-toggleable__label-arrow:hover:before {color: black;}#sk-container-id-11 div.sk-estimator:hover label.sk-toggleable__label-arrow:before {color: black;}#sk-container-id-11 div.sk-toggleable__content {max-height: 0;max-width: 0;overflow: hidden;text-align: left;background-color: #f0f8ff;}#sk-container-id-11 div.sk-toggleable__content pre {margin: 0.2em;color: black;border-radius: 0.25em;background-color: #f0f8ff;}#sk-container-id-11 input.sk-toggleable__control:checked~div.sk-toggleable__content {max-height: 200px;max-width: 100%;overflow: auto;}#sk-container-id-11 input.sk-toggleable__control:checked~label.sk-toggleable__label-arrow:before {content: \"▾\";}#sk-container-id-11 div.sk-estimator input.sk-toggleable__control:checked~label.sk-toggleable__label {background-color: #d4ebff;}#sk-container-id-11 div.sk-label input.sk-toggleable__control:checked~label.sk-toggleable__label {background-color: #d4ebff;}#sk-container-id-11 input.sk-hidden--visually {border: 0;clip: rect(1px 1px 1px 1px);clip: rect(1px, 1px, 1px, 1px);height: 1px;margin: -1px;overflow: hidden;padding: 0;position: absolute;width: 1px;}#sk-container-id-11 div.sk-estimator {font-family: monospace;background-color: #f0f8ff;border: 1px dotted black;border-radius: 0.25em;box-sizing: border-box;margin-bottom: 0.5em;}#sk-container-id-11 div.sk-estimator:hover {background-color: #d4ebff;}#sk-container-id-11 div.sk-parallel-item::after {content: \"\";width: 100%;border-bottom: 1px solid gray;flex-grow: 1;}#sk-container-id-11 div.sk-label:hover label.sk-toggleable__label {background-color: #d4ebff;}#sk-container-id-11 div.sk-serial::before {content: \"\";position: absolute;border-left: 1px solid gray;box-sizing: border-box;top: 0;bottom: 0;left: 50%;z-index: 0;}#sk-container-id-11 div.sk-serial {display: flex;flex-direction: column;align-items: center;background-color: white;padding-right: 0.2em;padding-left: 0.2em;position: relative;}#sk-container-id-11 div.sk-item {position: relative;z-index: 1;}#sk-container-id-11 div.sk-parallel {display: flex;align-items: stretch;justify-content: center;background-color: white;position: relative;}#sk-container-id-11 div.sk-item::before, #sk-container-id-11 div.sk-parallel-item::before {content: \"\";position: absolute;border-left: 1px solid gray;box-sizing: border-box;top: 0;bottom: 0;left: 50%;z-index: -1;}#sk-container-id-11 div.sk-parallel-item {display: flex;flex-direction: column;z-index: 1;position: relative;background-color: white;}#sk-container-id-11 div.sk-parallel-item:first-child::after {align-self: flex-end;width: 50%;}#sk-container-id-11 div.sk-parallel-item:last-child::after {align-self: flex-start;width: 50%;}#sk-container-id-11 div.sk-parallel-item:only-child::after {width: 0;}#sk-container-id-11 div.sk-dashed-wrapped {border: 1px dashed gray;margin: 0 0.4em 0.5em 0.4em;box-sizing: border-box;padding-bottom: 0.4em;background-color: white;}#sk-container-id-11 div.sk-label label {font-family: monospace;font-weight: bold;display: inline-block;line-height: 1.2em;}#sk-container-id-11 div.sk-label-container {text-align: center;}#sk-container-id-11 div.sk-container {/* jupyter's `normalize.less` sets `[hidden] { display: none; }` but bootstrap.min.css set `[hidden] { display: none !important; }` so we also need the `!important` here to be able to override the default hidden behavior on the sphinx rendered scikit-learn.org. See: https://github.com/scikit-learn/scikit-learn/issues/21755 */display: inline-block !important;position: relative;}#sk-container-id-11 div.sk-text-repr-fallback {display: none;}</style><div id=\"sk-container-id-11\" class=\"sk-top-container\"><div class=\"sk-text-repr-fallback\"><pre>Pipeline(steps=[(&#x27;tfidf&#x27;,\n",
       "                 TfidfVectorizer(max_df=0.8, max_features=4000,\n",
       "                                 ngram_range=(1, 2), stop_words=&#x27;english&#x27;)),\n",
       "                (&#x27;et&#x27;,\n",
       "                 ExtraTreesClassifier(max_depth=10, min_samples_split=4,\n",
       "                                      n_estimators=150, random_state=42))])</pre><b>In a Jupyter environment, please rerun this cell to show the HTML representation or trust the notebook. <br />On GitHub, the HTML representation is unable to render, please try loading this page with nbviewer.org.</b></div><div class=\"sk-container\" hidden><div class=\"sk-item sk-dashed-wrapped\"><div class=\"sk-label-container\"><div class=\"sk-label sk-toggleable\"><input class=\"sk-toggleable__control sk-hidden--visually\" id=\"sk-estimator-id-32\" type=\"checkbox\" ><label for=\"sk-estimator-id-32\" class=\"sk-toggleable__label sk-toggleable__label-arrow\">Pipeline</label><div class=\"sk-toggleable__content\"><pre>Pipeline(steps=[(&#x27;tfidf&#x27;,\n",
       "                 TfidfVectorizer(max_df=0.8, max_features=4000,\n",
       "                                 ngram_range=(1, 2), stop_words=&#x27;english&#x27;)),\n",
       "                (&#x27;et&#x27;,\n",
       "                 ExtraTreesClassifier(max_depth=10, min_samples_split=4,\n",
       "                                      n_estimators=150, random_state=42))])</pre></div></div></div><div class=\"sk-serial\"><div class=\"sk-item\"><div class=\"sk-estimator sk-toggleable\"><input class=\"sk-toggleable__control sk-hidden--visually\" id=\"sk-estimator-id-33\" type=\"checkbox\" ><label for=\"sk-estimator-id-33\" class=\"sk-toggleable__label sk-toggleable__label-arrow\">TfidfVectorizer</label><div class=\"sk-toggleable__content\"><pre>TfidfVectorizer(max_df=0.8, max_features=4000, ngram_range=(1, 2),\n",
       "                stop_words=&#x27;english&#x27;)</pre></div></div></div><div class=\"sk-item\"><div class=\"sk-estimator sk-toggleable\"><input class=\"sk-toggleable__control sk-hidden--visually\" id=\"sk-estimator-id-34\" type=\"checkbox\" ><label for=\"sk-estimator-id-34\" class=\"sk-toggleable__label sk-toggleable__label-arrow\">ExtraTreesClassifier</label><div class=\"sk-toggleable__content\"><pre>ExtraTreesClassifier(max_depth=10, min_samples_split=4, n_estimators=150,\n",
       "                     random_state=42)</pre></div></div></div></div></div></div></div>"
      ],
      "text/plain": [
       "Pipeline(steps=[('tfidf',\n",
       "                 TfidfVectorizer(max_df=0.8, max_features=4000,\n",
       "                                 ngram_range=(1, 2), stop_words='english')),\n",
       "                ('et',\n",
       "                 ExtraTreesClassifier(max_depth=10, min_samples_split=4,\n",
       "                                      n_estimators=150, random_state=42))])"
      ]
     },
     "execution_count": 126,
     "metadata": {},
     "output_type": "execute_result"
    }
   ],
   "source": [
    "gs.best_estimator_"
   ]
  },
  {
   "cell_type": "markdown",
   "metadata": {},
   "source": [
    "**Hot Take:**\n",
    "- Pretty comparable to other tree ensembles, not as good as Model 2/3\n",
    "- Reasonably fast fit\n",
    "- Not worth keeping"
   ]
  },
  {
   "cell_type": "markdown",
   "metadata": {},
   "source": [
    "**Model 10: TFIDF + AdaBoost**"
   ]
  },
  {
   "cell_type": "code",
   "execution_count": 127,
   "metadata": {},
   "outputs": [
    {
     "name": "stdout",
     "output_type": "stream",
     "text": [
      "fit time: 7.388280153274536\n",
      "training set accuracy: 0.9004815409309791\n",
      "test set accuracy: 0.8952858575727182\n",
      "recall: 0.8321285140562249\n",
      "precision: 0.9522058823529411\n",
      "f1 score: 0.8881268752678955\n"
     ]
    },
    {
     "data": {
      "image/png": "[encoded data removed]",
      "text/plain": [
       "<Figure size 432x288 with 2 Axes>"
      ]
     },
     "metadata": {
      "needs_background": "light"
     },
     "output_type": "display_data"
    }
   ],
   "source": [
    "pipe = Pipeline(steps = [('tfidf', TfidfVectorizer(max_df=0.8, max_features=4000, ngram_range=(1, 2),\n",
    "                stop_words='english')), ('ada', AdaBoostClassifier(random_state = 42))])\n",
    "\n",
    "pipe_params = {\n",
    "    'ada__n_estimators': [50, 100],\n",
    "    'ada__learning_rate': [1, 5, 10]\n",
    "}\n",
    "\n",
    "gs = GridSearchCV(estimator = pipe, param_grid = pipe_params, n_jobs = -1)\n",
    "gs.fit(X_train, y_train)\n",
    "df_stats = pd.concat([df_stats, evaluation(gs.best_estimator_, 'TfidfVectorizer + AdaBoost', X_train, y_train, X_test, y_test)])"
   ]
  },
  {
   "cell_type": "code",
   "execution_count": 128,
   "metadata": {},
   "outputs": [
    {
     "data": {
      "text/html": [
       "<style>#sk-container-id-12 {color: black;background-color: white;}#sk-container-id-12 pre{padding: 0;}#sk-container-id-12 div.sk-toggleable {background-color: white;}#sk-container-id-12 label.sk-toggleable__label {cursor: pointer;display: block;width: 100%;margin-bottom: 0;padding: 0.3em;box-sizing: border-box;text-align: center;}#sk-container-id-12 label.sk-toggleable__label-arrow:before {content: \"▸\";float: left;margin-right: 0.25em;color: #696969;}#sk-container-id-12 label.sk-toggleable__label-arrow:hover:before {color: black;}#sk-container-id-12 div.sk-estimator:hover label.sk-toggleable__label-arrow:before {color: black;}#sk-container-id-12 div.sk-toggleable__content {max-height: 0;max-width: 0;overflow: hidden;text-align: left;background-color: #f0f8ff;}#sk-container-id-12 div.sk-toggleable__content pre {margin: 0.2em;color: black;border-radius: 0.25em;background-color: #f0f8ff;}#sk-container-id-12 input.sk-toggleable__control:checked~div.sk-toggleable__content {max-height: 200px;max-width: 100%;overflow: auto;}#sk-container-id-12 input.sk-toggleable__control:checked~label.sk-toggleable__label-arrow:before {content: \"▾\";}#sk-container-id-12 div.sk-estimator input.sk-toggleable__control:checked~label.sk-toggleable__label {background-color: #d4ebff;}#sk-container-id-12 div.sk-label input.sk-toggleable__control:checked~label.sk-toggleable__label {background-color: #d4ebff;}#sk-container-id-12 input.sk-hidden--visually {border: 0;clip: rect(1px 1px 1px 1px);clip: rect(1px, 1px, 1px, 1px);height: 1px;margin: -1px;overflow: hidden;padding: 0;position: absolute;width: 1px;}#sk-container-id-12 div.sk-estimator {font-family: monospace;background-color: #f0f8ff;border: 1px dotted black;border-radius: 0.25em;box-sizing: border-box;margin-bottom: 0.5em;}#sk-container-id-12 div.sk-estimator:hover {background-color: #d4ebff;}#sk-container-id-12 div.sk-parallel-item::after {content: \"\";width: 100%;border-bottom: 1px solid gray;flex-grow: 1;}#sk-container-id-12 div.sk-label:hover label.sk-toggleable__label {background-color: #d4ebff;}#sk-container-id-12 div.sk-serial::before {content: \"\";position: absolute;border-left: 1px solid gray;box-sizing: border-box;top: 0;bottom: 0;left: 50%;z-index: 0;}#sk-container-id-12 div.sk-serial {display: flex;flex-direction: column;align-items: center;background-color: white;padding-right: 0.2em;padding-left: 0.2em;position: relative;}#sk-container-id-12 div.sk-item {position: relative;z-index: 1;}#sk-container-id-12 div.sk-parallel {display: flex;align-items: stretch;justify-content: center;background-color: white;position: relative;}#sk-container-id-12 div.sk-item::before, #sk-container-id-12 div.sk-parallel-item::before {content: \"\";position: absolute;border-left: 1px solid gray;box-sizing: border-box;top: 0;bottom: 0;left: 50%;z-index: -1;}#sk-container-id-12 div.sk-parallel-item {display: flex;flex-direction: column;z-index: 1;position: relative;background-color: white;}#sk-container-id-12 div.sk-parallel-item:first-child::after {align-self: flex-end;width: 50%;}#sk-container-id-12 div.sk-parallel-item:last-child::after {align-self: flex-start;width: 50%;}#sk-container-id-12 div.sk-parallel-item:only-child::after {width: 0;}#sk-container-id-12 div.sk-dashed-wrapped {border: 1px dashed gray;margin: 0 0.4em 0.5em 0.4em;box-sizing: border-box;padding-bottom: 0.4em;background-color: white;}#sk-container-id-12 div.sk-label label {font-family: monospace;font-weight: bold;display: inline-block;line-height: 1.2em;}#sk-container-id-12 div.sk-label-container {text-align: center;}#sk-container-id-12 div.sk-container {/* jupyter's `normalize.less` sets `[hidden] { display: none; }` but bootstrap.min.css set `[hidden] { display: none !important; }` so we also need the `!important` here to be able to override the default hidden behavior on the sphinx rendered scikit-learn.org. See: https://github.com/scikit-learn/scikit-learn/issues/21755 */display: inline-block !important;position: relative;}#sk-container-id-12 div.sk-text-repr-fallback {display: none;}</style><div id=\"sk-container-id-12\" class=\"sk-top-container\"><div class=\"sk-text-repr-fallback\"><pre>Pipeline(steps=[(&#x27;tfidf&#x27;,\n",
       "                 TfidfVectorizer(max_df=0.8, max_features=4000,\n",
       "                                 ngram_range=(1, 2), stop_words=&#x27;english&#x27;)),\n",
       "                (&#x27;ada&#x27;,\n",
       "                 AdaBoostClassifier(learning_rate=1, n_estimators=100,\n",
       "                                    random_state=42))])</pre><b>In a Jupyter environment, please rerun this cell to show the HTML representation or trust the notebook. <br />On GitHub, the HTML representation is unable to render, please try loading this page with nbviewer.org.</b></div><div class=\"sk-container\" hidden><div class=\"sk-item sk-dashed-wrapped\"><div class=\"sk-label-container\"><div class=\"sk-label sk-toggleable\"><input class=\"sk-toggleable__control sk-hidden--visually\" id=\"sk-estimator-id-35\" type=\"checkbox\" ><label for=\"sk-estimator-id-35\" class=\"sk-toggleable__label sk-toggleable__label-arrow\">Pipeline</label><div class=\"sk-toggleable__content\"><pre>Pipeline(steps=[(&#x27;tfidf&#x27;,\n",
       "                 TfidfVectorizer(max_df=0.8, max_features=4000,\n",
       "                                 ngram_range=(1, 2), stop_words=&#x27;english&#x27;)),\n",
       "                (&#x27;ada&#x27;,\n",
       "                 AdaBoostClassifier(learning_rate=1, n_estimators=100,\n",
       "                                    random_state=42))])</pre></div></div></div><div class=\"sk-serial\"><div class=\"sk-item\"><div class=\"sk-estimator sk-toggleable\"><input class=\"sk-toggleable__control sk-hidden--visually\" id=\"sk-estimator-id-36\" type=\"checkbox\" ><label for=\"sk-estimator-id-36\" class=\"sk-toggleable__label sk-toggleable__label-arrow\">TfidfVectorizer</label><div class=\"sk-toggleable__content\"><pre>TfidfVectorizer(max_df=0.8, max_features=4000, ngram_range=(1, 2),\n",
       "                stop_words=&#x27;english&#x27;)</pre></div></div></div><div class=\"sk-item\"><div class=\"sk-estimator sk-toggleable\"><input class=\"sk-toggleable__control sk-hidden--visually\" id=\"sk-estimator-id-37\" type=\"checkbox\" ><label for=\"sk-estimator-id-37\" class=\"sk-toggleable__label sk-toggleable__label-arrow\">AdaBoostClassifier</label><div class=\"sk-toggleable__content\"><pre>AdaBoostClassifier(learning_rate=1, n_estimators=100, random_state=42)</pre></div></div></div></div></div></div></div>"
      ],
      "text/plain": [
       "Pipeline(steps=[('tfidf',\n",
       "                 TfidfVectorizer(max_df=0.8, max_features=4000,\n",
       "                                 ngram_range=(1, 2), stop_words='english')),\n",
       "                ('ada',\n",
       "                 AdaBoostClassifier(learning_rate=1, n_estimators=100,\n",
       "                                    random_state=42))])"
      ]
     },
     "execution_count": 128,
     "metadata": {},
     "output_type": "execute_result"
    }
   ],
   "source": [
    "gs.best_estimator_"
   ]
  },
  {
   "cell_type": "markdown",
   "metadata": {},
   "source": [
    "**Hot Take:**\n",
    "- Comparable to tree ensembles, not as good as Model 2/3\n",
    "- Slow fit\n",
    "- Not worth keeping"
   ]
  },
  {
   "cell_type": "markdown",
   "metadata": {},
   "source": [
    "**Model 11: TFIDF + GradientBoost**"
   ]
  },
  {
   "cell_type": "code",
   "execution_count": 129,
   "metadata": {},
   "outputs": [
    {
     "name": "stdout",
     "output_type": "stream",
     "text": [
      "fit time: 2.4219231605529785\n",
      "training set accuracy: 0.933119315141787\n",
      "test set accuracy: 0.9245737211634905\n",
      "recall: 0.8835341365461847\n",
      "precision: 0.9623797025371829\n",
      "f1 score: 0.9212730318257957\n"
     ]
    },
    {
     "data": {
      "image/png": "[encoded data removed]",
      "text/plain": [
       "<Figure size 432x288 with 2 Axes>"
      ]
     },
     "metadata": {
      "needs_background": "light"
     },
     "output_type": "display_data"
    }
   ],
   "source": [
    "pipe = Pipeline(steps = [('tfidf', TfidfVectorizer(max_df=0.8, max_features=4000, ngram_range=(1, 2),\n",
    "                stop_words='english')), ('grad', GradientBoostingClassifier(random_state = 42))])\n",
    "\n",
    "pipe_params = {\n",
    "    'grad__n_estimators': [100, 150],\n",
    "    'grad__subsample': [0.7, 1.0],\n",
    "    'grad__learning_rate': [0.1, 1, 10],\n",
    "    'grad__max_features': ['sqrt', 'log2'],\n",
    "    'grad__max_depth': [3, 5, 10],\n",
    "    'grad__min_samples_split': [2, 4],\n",
    "    'grad__min_samples_leaf': [1, 2]\n",
    "}\n",
    "\n",
    "gs = GridSearchCV(estimator = pipe, param_grid = pipe_params, n_jobs = -1)\n",
    "gs.fit(X_train, y_train)\n",
    "df_stats = pd.concat([df_stats, evaluation(gs.best_estimator_, 'TfidfVectorizer + GradientBoost', X_train, y_train, X_test, y_test)])"
   ]
  },
  {
   "cell_type": "code",
   "execution_count": 130,
   "metadata": {},
   "outputs": [
    {
     "data": {
      "text/html": [
       "<style>#sk-container-id-13 {color: black;background-color: white;}#sk-container-id-13 pre{padding: 0;}#sk-container-id-13 div.sk-toggleable {background-color: white;}#sk-container-id-13 label.sk-toggleable__label {cursor: pointer;display: block;width: 100%;margin-bottom: 0;padding: 0.3em;box-sizing: border-box;text-align: center;}#sk-container-id-13 label.sk-toggleable__label-arrow:before {content: \"▸\";float: left;margin-right: 0.25em;color: #696969;}#sk-container-id-13 label.sk-toggleable__label-arrow:hover:before {color: black;}#sk-container-id-13 div.sk-estimator:hover label.sk-toggleable__label-arrow:before {color: black;}#sk-container-id-13 div.sk-toggleable__content {max-height: 0;max-width: 0;overflow: hidden;text-align: left;background-color: #f0f8ff;}#sk-container-id-13 div.sk-toggleable__content pre {margin: 0.2em;color: black;border-radius: 0.25em;background-color: #f0f8ff;}#sk-container-id-13 input.sk-toggleable__control:checked~div.sk-toggleable__content {max-height: 200px;max-width: 100%;overflow: auto;}#sk-container-id-13 input.sk-toggleable__control:checked~label.sk-toggleable__label-arrow:before {content: \"▾\";}#sk-container-id-13 div.sk-estimator input.sk-toggleable__control:checked~label.sk-toggleable__label {background-color: #d4ebff;}#sk-container-id-13 div.sk-label input.sk-toggleable__control:checked~label.sk-toggleable__label {background-color: #d4ebff;}#sk-container-id-13 input.sk-hidden--visually {border: 0;clip: rect(1px 1px 1px 1px);clip: rect(1px, 1px, 1px, 1px);height: 1px;margin: -1px;overflow: hidden;padding: 0;position: absolute;width: 1px;}#sk-container-id-13 div.sk-estimator {font-family: monospace;background-color: #f0f8ff;border: 1px dotted black;border-radius: 0.25em;box-sizing: border-box;margin-bottom: 0.5em;}#sk-container-id-13 div.sk-estimator:hover {background-color: #d4ebff;}#sk-container-id-13 div.sk-parallel-item::after {content: \"\";width: 100%;border-bottom: 1px solid gray;flex-grow: 1;}#sk-container-id-13 div.sk-label:hover label.sk-toggleable__label {background-color: #d4ebff;}#sk-container-id-13 div.sk-serial::before {content: \"\";position: absolute;border-left: 1px solid gray;box-sizing: border-box;top: 0;bottom: 0;left: 50%;z-index: 0;}#sk-container-id-13 div.sk-serial {display: flex;flex-direction: column;align-items: center;background-color: white;padding-right: 0.2em;padding-left: 0.2em;position: relative;}#sk-container-id-13 div.sk-item {position: relative;z-index: 1;}#sk-container-id-13 div.sk-parallel {display: flex;align-items: stretch;justify-content: center;background-color: white;position: relative;}#sk-container-id-13 div.sk-item::before, #sk-container-id-13 div.sk-parallel-item::before {content: \"\";position: absolute;border-left: 1px solid gray;box-sizing: border-box;top: 0;bottom: 0;left: 50%;z-index: -1;}#sk-container-id-13 div.sk-parallel-item {display: flex;flex-direction: column;z-index: 1;position: relative;background-color: white;}#sk-container-id-13 div.sk-parallel-item:first-child::after {align-self: flex-end;width: 50%;}#sk-container-id-13 div.sk-parallel-item:last-child::after {align-self: flex-start;width: 50%;}#sk-container-id-13 div.sk-parallel-item:only-child::after {width: 0;}#sk-container-id-13 div.sk-dashed-wrapped {border: 1px dashed gray;margin: 0 0.4em 0.5em 0.4em;box-sizing: border-box;padding-bottom: 0.4em;background-color: white;}#sk-container-id-13 div.sk-label label {font-family: monospace;font-weight: bold;display: inline-block;line-height: 1.2em;}#sk-container-id-13 div.sk-label-container {text-align: center;}#sk-container-id-13 div.sk-container {/* jupyter's `normalize.less` sets `[hidden] { display: none; }` but bootstrap.min.css set `[hidden] { display: none !important; }` so we also need the `!important` here to be able to override the default hidden behavior on the sphinx rendered scikit-learn.org. See: https://github.com/scikit-learn/scikit-learn/issues/21755 */display: inline-block !important;position: relative;}#sk-container-id-13 div.sk-text-repr-fallback {display: none;}</style><div id=\"sk-container-id-13\" class=\"sk-top-container\"><div class=\"sk-text-repr-fallback\"><pre>Pipeline(steps=[(&#x27;tfidf&#x27;,\n",
       "                 TfidfVectorizer(max_df=0.8, max_features=4000,\n",
       "                                 ngram_range=(1, 2), stop_words=&#x27;english&#x27;)),\n",
       "                (&#x27;grad&#x27;,\n",
       "                 GradientBoostingClassifier(max_depth=10, max_features=&#x27;log2&#x27;,\n",
       "                                            min_samples_leaf=2,\n",
       "                                            n_estimators=150, random_state=42,\n",
       "                                            subsample=0.7))])</pre><b>In a Jupyter environment, please rerun this cell to show the HTML representation or trust the notebook. <br />On GitHub, the HTML representation is unable to render, please try loading this page with nbviewer.org.</b></div><div class=\"sk-container\" hidden><div class=\"sk-item sk-dashed-wrapped\"><div class=\"sk-label-container\"><div class=\"sk-label sk-toggleable\"><input class=\"sk-toggleable__control sk-hidden--visually\" id=\"sk-estimator-id-38\" type=\"checkbox\" ><label for=\"sk-estimator-id-38\" class=\"sk-toggleable__label sk-toggleable__label-arrow\">Pipeline</label><div class=\"sk-toggleable__content\"><pre>Pipeline(steps=[(&#x27;tfidf&#x27;,\n",
       "                 TfidfVectorizer(max_df=0.8, max_features=4000,\n",
       "                                 ngram_range=(1, 2), stop_words=&#x27;english&#x27;)),\n",
       "                (&#x27;grad&#x27;,\n",
       "                 GradientBoostingClassifier(max_depth=10, max_features=&#x27;log2&#x27;,\n",
       "                                            min_samples_leaf=2,\n",
       "                                            n_estimators=150, random_state=42,\n",
       "                                            subsample=0.7))])</pre></div></div></div><div class=\"sk-serial\"><div class=\"sk-item\"><div class=\"sk-estimator sk-toggleable\"><input class=\"sk-toggleable__control sk-hidden--visually\" id=\"sk-estimator-id-39\" type=\"checkbox\" ><label for=\"sk-estimator-id-39\" class=\"sk-toggleable__label sk-toggleable__label-arrow\">TfidfVectorizer</label><div class=\"sk-toggleable__content\"><pre>TfidfVectorizer(max_df=0.8, max_features=4000, ngram_range=(1, 2),\n",
       "                stop_words=&#x27;english&#x27;)</pre></div></div></div><div class=\"sk-item\"><div class=\"sk-estimator sk-toggleable\"><input class=\"sk-toggleable__control sk-hidden--visually\" id=\"sk-estimator-id-40\" type=\"checkbox\" ><label for=\"sk-estimator-id-40\" class=\"sk-toggleable__label sk-toggleable__label-arrow\">GradientBoostingClassifier</label><div class=\"sk-toggleable__content\"><pre>GradientBoostingClassifier(max_depth=10, max_features=&#x27;log2&#x27;,\n",
       "                           min_samples_leaf=2, n_estimators=150,\n",
       "                           random_state=42, subsample=0.7)</pre></div></div></div></div></div></div></div>"
      ],
      "text/plain": [
       "Pipeline(steps=[('tfidf',\n",
       "                 TfidfVectorizer(max_df=0.8, max_features=4000,\n",
       "                                 ngram_range=(1, 2), stop_words='english')),\n",
       "                ('grad',\n",
       "                 GradientBoostingClassifier(max_depth=10, max_features='log2',\n",
       "                                            min_samples_leaf=2,\n",
       "                                            n_estimators=150, random_state=42,\n",
       "                                            subsample=0.7))])"
      ]
     },
     "execution_count": 130,
     "metadata": {},
     "output_type": "execute_result"
    }
   ],
   "source": [
    "gs.best_estimator_"
   ]
  },
  {
   "cell_type": "markdown",
   "metadata": {},
   "source": [
    "**Hot Take:**\n",
    "- Pretty decent, a bit better than AdaBoost, still not as good as Model 2/3\n",
    "- About 2x as slow to fit as Model 2/3\n",
    "- Worth keeping for stacking"
   ]
  },
  {
   "cell_type": "markdown",
   "metadata": {},
   "source": [
    "**Model 12: LogisticRegression/MultinomialNB/GradientBoost Stack**\n",
    "- This model and the 3 following it are various Stacking permutations of our 3 favorite models\n",
    "- Trying to see if aggregating 3 heterogeneous well-performing models leads to any meaningful performance gains"
   ]
  },
  {
   "cell_type": "code",
   "execution_count": 131,
   "metadata": {},
   "outputs": [
    {
     "name": "stdout",
     "output_type": "stream",
     "text": [
      "fit time: 15.63344120979309\n",
      "training set accuracy: 0.9527822364901016\n",
      "test set accuracy: 0.9376128385155467\n",
      "recall: 0.9269076305220884\n",
      "precision: 0.9470660648338121\n",
      "f1 score: 0.9368784250050742\n"
     ]
    },
    {
     "data": {
      "image/png": "[encoded data removed]",
      "text/plain": [
       "<Figure size 432x288 with 2 Axes>"
      ]
     },
     "metadata": {
      "needs_background": "light"
     },
     "output_type": "display_data"
    }
   ],
   "source": [
    "# Set up TFIDF vectorization first\n",
    "tfidf = TfidfVectorizer(max_df=0.8, max_features=4000, ngram_range=(1, 2), stop_words='english')\n",
    "X_vec_train = tfidf.fit_transform(X_train)\n",
    "X_vec_test = tfidf.transform(X_test)\n",
    "\n",
    "logreg = LogisticRegression(C=1, l1_ratio=0.1, max_iter=10000, penalty='elasticnet',\n",
    "                   solver='saga')\n",
    "mnb = MultinomialNB()\n",
    "grad = GradientBoostingClassifier(max_depth=10, max_features='log2',\n",
    "                           min_samples_leaf=2, n_estimators=150,\n",
    "                           random_state=42, subsample = 0.7)\n",
    "\n",
    "l1_estimators = [('logreg', logreg), ('mnb', mnb), ('grad', grad)]\n",
    "\n",
    "stack = StackingClassifier(l1_estimators)\n",
    "df_stats = pd.concat([df_stats, evaluation(stack, 'TfidfVectorizer + LogReg/MNB/Grad Stack', X_vec_train, y_train, X_vec_test, y_test)])"
   ]
  },
  {
   "cell_type": "markdown",
   "metadata": {},
   "source": [
    "**Hot Take:**\n",
    "- Not quite as good as Model 2/3, but close!\n",
    "- Slow to fit"
   ]
  },
  {
   "cell_type": "markdown",
   "metadata": {},
   "source": [
    "**Model 13: MultinomialNB/GradientBoost Stack**"
   ]
  },
  {
   "cell_type": "code",
   "execution_count": 132,
   "metadata": {},
   "outputs": [
    {
     "name": "stdout",
     "output_type": "stream",
     "text": [
      "fit time: 4.41567325592041\n",
      "training set accuracy: 0.9456928838951311\n",
      "test set accuracy: 0.9319959879638917\n",
      "recall: 0.9228915662650602\n",
      "precision: 0.939877300613497\n",
      "f1 score: 0.931306990881459\n"
     ]
    },
    {
     "data": {
      "image/png": "[encoded data removed]",
      "text/plain": [
       "<Figure size 432x288 with 2 Axes>"
      ]
     },
     "metadata": {
      "needs_background": "light"
     },
     "output_type": "display_data"
    }
   ],
   "source": [
    "tfidf = TfidfVectorizer(max_df = 0.8, max_features = 4000, stop_words = 'english')\n",
    "X_vec_train = tfidf.fit_transform(X_train)\n",
    "X_vec_test = tfidf.transform(X_test)\n",
    "\n",
    "mnb = MultinomialNB()\n",
    "grad = GradientBoostingClassifier(max_depth=10, max_features='log2',\n",
    "                           min_samples_leaf=2, n_estimators=150,\n",
    "                           random_state=42, subsample = 0.7)\n",
    "\n",
    "l1_estimators = [('mnb', mnb), ('grad', grad)]\n",
    "\n",
    "stack = StackingClassifier(l1_estimators)\n",
    "df_stats = pd.concat([df_stats, evaluation(stack, 'TfidfVectorizer + MNB/Grad stack', X_vec_train, y_train, X_vec_test, y_test)])"
   ]
  },
  {
   "cell_type": "markdown",
   "metadata": {},
   "source": [
    "**Hot Take:**\n",
    "- Not quite as good as our first stack\n",
    "- A lot faster than our first stack\n",
    "- Probably not worth keeping"
   ]
  },
  {
   "cell_type": "markdown",
   "metadata": {},
   "source": [
    "**Model 14: LogisticRegression/GradientBoost Stack**"
   ]
  },
  {
   "cell_type": "code",
   "execution_count": 133,
   "metadata": {},
   "outputs": [
    {
     "name": "stdout",
     "output_type": "stream",
     "text": [
      "fit time: 14.953498363494873\n",
      "training set accuracy: 0.9576645264847512\n",
      "test set accuracy: 0.9372116349047142\n",
      "recall: 0.9224899598393574\n",
      "precision: 0.9503516756309475\n",
      "f1 score: 0.9362135724475239\n"
     ]
    },
    {
     "data": {
      "image/png": "[encoded data removed]",
      "text/plain": [
       "<Figure size 432x288 with 2 Axes>"
      ]
     },
     "metadata": {
      "needs_background": "light"
     },
     "output_type": "display_data"
    }
   ],
   "source": [
    "tfidf = TfidfVectorizer(max_df = 0.8, max_features = 4000, stop_words = 'english')\n",
    "X_vec_train = tfidf.fit_transform(X_train)\n",
    "X_vec_test = tfidf.transform(X_test)\n",
    "\n",
    "logreg = LogisticRegression(C=1, l1_ratio=0.1, max_iter=10000, penalty='elasticnet',\n",
    "                   solver='saga')\n",
    "mnb = MultinomialNB()\n",
    "grad = GradientBoostingClassifier(max_depth=10, max_features='log2',\n",
    "                           min_samples_leaf=2, n_estimators=150,\n",
    "                           random_state=42, subsample = 0.7)\n",
    "\n",
    "l1_estimators = [('logreg', logreg), ('grad', grad)]\n",
    "\n",
    "stack = StackingClassifier(l1_estimators)\n",
    "df_stats = pd.concat([df_stats, evaluation(stack, 'TfidfVectorizer + Logreg/Grad stack', X_vec_train, y_train, X_vec_test, y_test)])"
   ]
  },
  {
   "cell_type": "markdown",
   "metadata": {},
   "source": [
    "**Hot Take:**\n",
    "- Pretty comparable to our first stack, still not quite as good as Model 2/3\n",
    "- Slow to fit\n",
    "- Probably not worth keeping"
   ]
  },
  {
   "cell_type": "markdown",
   "metadata": {},
   "source": [
    "**Model 15: LogisticRegression/MultinomialNB Stack**"
   ]
  },
  {
   "cell_type": "code",
   "execution_count": 134,
   "metadata": {},
   "outputs": [
    {
     "name": "stdout",
     "output_type": "stream",
     "text": [
      "fit time: 10.6922926902771\n",
      "training set accuracy: 0.9572632423756019\n",
      "test set accuracy: 0.9414242728184554\n",
      "recall: 0.9317269076305221\n",
      "precision: 0.95004095004095\n",
      "f1 score: 0.9407948094079481\n"
     ]
    },
    {
     "data": {
      "image/png": "[encoded data removed]",
      "text/plain": [
       "<Figure size 432x288 with 2 Axes>"
      ]
     },
     "metadata": {
      "needs_background": "light"
     },
     "output_type": "display_data"
    }
   ],
   "source": [
    "tfidf = TfidfVectorizer(max_df = 0.8, max_features = 4000, stop_words = 'english')\n",
    "X_vec_train = tfidf.fit_transform(X_train)\n",
    "X_vec_test = tfidf.transform(X_test)\n",
    "\n",
    "logreg = LogisticRegression(C=1, l1_ratio=0.1, max_iter=10000, penalty='elasticnet',\n",
    "                   solver='saga')\n",
    "mnb = MultinomialNB()\n",
    "\n",
    "l1_estimators = [('logreg', logreg), ('mnb', mnb)]\n",
    "\n",
    "stack = StackingClassifier(l1_estimators)\n",
    "df_stats = pd.concat([df_stats, evaluation(stack, 'TfidfVectorizer + Logreg/MNB stack', X_vec_train, y_train, X_vec_test, y_test)])"
   ]
  },
  {
   "cell_type": "markdown",
   "metadata": {},
   "source": [
    "**Hot Take:**\n",
    "- Probably our best stack\n",
    "- Slow to fit\n",
    "- Maybe worth keeping!"
   ]
  },
  {
   "cell_type": "code",
   "execution_count": 135,
   "metadata": {},
   "outputs": [
    {
     "data": {
      "text/html": [
       "<div>\n",
       "<style scoped>\n",
       "    .dataframe tbody tr th:only-of-type {\n",
       "        vertical-align: middle;\n",
       "    }\n",
       "\n",
       "    .dataframe tbody tr th {\n",
       "        vertical-align: top;\n",
       "    }\n",
       "\n",
       "    .dataframe thead th {\n",
       "        text-align: right;\n",
       "    }\n",
       "</style>\n",
       "<table border=\"1\" class=\"dataframe\">\n",
       "  <thead>\n",
       "    <tr style=\"text-align: right;\">\n",
       "      <th></th>\n",
       "      <th>model</th>\n",
       "      <th>fit_time</th>\n",
       "      <th>train_acc</th>\n",
       "      <th>test_acc</th>\n",
       "      <th>recall</th>\n",
       "      <th>precision</th>\n",
       "      <th>f1</th>\n",
       "    </tr>\n",
       "  </thead>\n",
       "  <tbody>\n",
       "    <tr>\n",
       "      <th>0</th>\n",
       "      <td>CountVectorizer + LogisticRegression</td>\n",
       "      <td>0.874005</td>\n",
       "      <td>0.975254</td>\n",
       "      <td>0.931795</td>\n",
       "      <td>0.912048</td>\n",
       "      <td>0.949415</td>\n",
       "      <td>0.930356</td>\n",
       "    </tr>\n",
       "    <tr>\n",
       "      <th>0</th>\n",
       "      <td>TfidfVectorizer + LogisticRegression</td>\n",
       "      <td>1.495226</td>\n",
       "      <td>0.956996</td>\n",
       "      <td>0.93681</td>\n",
       "      <td>0.917671</td>\n",
       "      <td>0.954071</td>\n",
       "      <td>0.935517</td>\n",
       "    </tr>\n",
       "    <tr>\n",
       "      <th>0</th>\n",
       "      <td>TfidfVectorizer + tuned LogisticRegression</td>\n",
       "      <td>4.055915</td>\n",
       "      <td>0.955257</td>\n",
       "      <td>0.938014</td>\n",
       "      <td>0.918474</td>\n",
       "      <td>0.955704</td>\n",
       "      <td>0.936719</td>\n",
       "    </tr>\n",
       "    <tr>\n",
       "      <th>0</th>\n",
       "      <td>TfidfVectorizer + KNN</td>\n",
       "      <td>1.464511</td>\n",
       "      <td>0.99485</td>\n",
       "      <td>0.603611</td>\n",
       "      <td>0.33012</td>\n",
       "      <td>0.727434</td>\n",
       "      <td>0.454144</td>\n",
       "    </tr>\n",
       "    <tr>\n",
       "      <th>0</th>\n",
       "      <td>TFIDF + MultinomialNB</td>\n",
       "      <td>1.296156</td>\n",
       "      <td>0.941413</td>\n",
       "      <td>0.927984</td>\n",
       "      <td>0.925703</td>\n",
       "      <td>0.92981</td>\n",
       "      <td>0.927752</td>\n",
       "    </tr>\n",
       "    <tr>\n",
       "      <th>0</th>\n",
       "      <td>TfidfVectorizer + DecisionTree</td>\n",
       "      <td>1.618756</td>\n",
       "      <td>0.812065</td>\n",
       "      <td>0.799398</td>\n",
       "      <td>0.609639</td>\n",
       "      <td>0.981889</td>\n",
       "      <td>0.75223</td>\n",
       "    </tr>\n",
       "    <tr>\n",
       "      <th>0</th>\n",
       "      <td>TfidfVectorizer + Bagging</td>\n",
       "      <td>28.872257</td>\n",
       "      <td>0.992376</td>\n",
       "      <td>0.906319</td>\n",
       "      <td>0.884739</td>\n",
       "      <td>0.924465</td>\n",
       "      <td>0.904166</td>\n",
       "    </tr>\n",
       "    <tr>\n",
       "      <th>0</th>\n",
       "      <td>TfidfVectorizer + Random Forest</td>\n",
       "      <td>2.628158</td>\n",
       "      <td>0.91446</td>\n",
       "      <td>0.90331</td>\n",
       "      <td>0.841365</td>\n",
       "      <td>0.960128</td>\n",
       "      <td>0.896832</td>\n",
       "    </tr>\n",
       "    <tr>\n",
       "      <th>0</th>\n",
       "      <td>TfidfVectorizer + ExtraTrees</td>\n",
       "      <td>1.858499</td>\n",
       "      <td>0.92175</td>\n",
       "      <td>0.911735</td>\n",
       "      <td>0.89759</td>\n",
       "      <td>0.923554</td>\n",
       "      <td>0.910387</td>\n",
       "    </tr>\n",
       "    <tr>\n",
       "      <th>0</th>\n",
       "      <td>TfidfVectorizer + AdaBoost</td>\n",
       "      <td>7.38828</td>\n",
       "      <td>0.900482</td>\n",
       "      <td>0.895286</td>\n",
       "      <td>0.832129</td>\n",
       "      <td>0.952206</td>\n",
       "      <td>0.888127</td>\n",
       "    </tr>\n",
       "    <tr>\n",
       "      <th>0</th>\n",
       "      <td>TfidfVectorizer + GradientBoost</td>\n",
       "      <td>2.421923</td>\n",
       "      <td>0.933119</td>\n",
       "      <td>0.924574</td>\n",
       "      <td>0.883534</td>\n",
       "      <td>0.96238</td>\n",
       "      <td>0.921273</td>\n",
       "    </tr>\n",
       "    <tr>\n",
       "      <th>0</th>\n",
       "      <td>TfidfVectorizer + LogReg/MNB/Grad Stack</td>\n",
       "      <td>15.633441</td>\n",
       "      <td>0.952782</td>\n",
       "      <td>0.937613</td>\n",
       "      <td>0.926908</td>\n",
       "      <td>0.947066</td>\n",
       "      <td>0.936878</td>\n",
       "    </tr>\n",
       "    <tr>\n",
       "      <th>0</th>\n",
       "      <td>TfidfVectorizer + MNB/Grad stack</td>\n",
       "      <td>4.415673</td>\n",
       "      <td>0.945693</td>\n",
       "      <td>0.931996</td>\n",
       "      <td>0.922892</td>\n",
       "      <td>0.939877</td>\n",
       "      <td>0.931307</td>\n",
       "    </tr>\n",
       "    <tr>\n",
       "      <th>0</th>\n",
       "      <td>TfidfVectorizer + Logreg/Grad stack</td>\n",
       "      <td>14.953498</td>\n",
       "      <td>0.957665</td>\n",
       "      <td>0.937212</td>\n",
       "      <td>0.92249</td>\n",
       "      <td>0.950352</td>\n",
       "      <td>0.936214</td>\n",
       "    </tr>\n",
       "    <tr>\n",
       "      <th>0</th>\n",
       "      <td>TfidfVectorizer + Logreg/MNB stack</td>\n",
       "      <td>10.692293</td>\n",
       "      <td>0.957263</td>\n",
       "      <td>0.941424</td>\n",
       "      <td>0.931727</td>\n",
       "      <td>0.950041</td>\n",
       "      <td>0.940795</td>\n",
       "    </tr>\n",
       "  </tbody>\n",
       "</table>\n",
       "</div>"
      ],
      "text/plain": [
       "                                        model   fit_time train_acc  test_acc  \\\n",
       "0        CountVectorizer + LogisticRegression   0.874005  0.975254  0.931795   \n",
       "0        TfidfVectorizer + LogisticRegression   1.495226  0.956996   0.93681   \n",
       "0  TfidfVectorizer + tuned LogisticRegression   4.055915  0.955257  0.938014   \n",
       "0                       TfidfVectorizer + KNN   1.464511   0.99485  0.603611   \n",
       "0                       TFIDF + MultinomialNB   1.296156  0.941413  0.927984   \n",
       "0              TfidfVectorizer + DecisionTree   1.618756  0.812065  0.799398   \n",
       "0                   TfidfVectorizer + Bagging  28.872257  0.992376  0.906319   \n",
       "0             TfidfVectorizer + Random Forest   2.628158   0.91446   0.90331   \n",
       "0                TfidfVectorizer + ExtraTrees   1.858499   0.92175  0.911735   \n",
       "0                  TfidfVectorizer + AdaBoost    7.38828  0.900482  0.895286   \n",
       "0             TfidfVectorizer + GradientBoost   2.421923  0.933119  0.924574   \n",
       "0     TfidfVectorizer + LogReg/MNB/Grad Stack  15.633441  0.952782  0.937613   \n",
       "0            TfidfVectorizer + MNB/Grad stack   4.415673  0.945693  0.931996   \n",
       "0         TfidfVectorizer + Logreg/Grad stack  14.953498  0.957665  0.937212   \n",
       "0          TfidfVectorizer + Logreg/MNB stack  10.692293  0.957263  0.941424   \n",
       "\n",
       "     recall precision        f1  \n",
       "0  0.912048  0.949415  0.930356  \n",
       "0  0.917671  0.954071  0.935517  \n",
       "0  0.918474  0.955704  0.936719  \n",
       "0   0.33012  0.727434  0.454144  \n",
       "0  0.925703   0.92981  0.927752  \n",
       "0  0.609639  0.981889   0.75223  \n",
       "0  0.884739  0.924465  0.904166  \n",
       "0  0.841365  0.960128  0.896832  \n",
       "0   0.89759  0.923554  0.910387  \n",
       "0  0.832129  0.952206  0.888127  \n",
       "0  0.883534   0.96238  0.921273  \n",
       "0  0.926908  0.947066  0.936878  \n",
       "0  0.922892  0.939877  0.931307  \n",
       "0   0.92249  0.950352  0.936214  \n",
       "0  0.931727  0.950041  0.940795  "
      ]
     },
     "execution_count": 135,
     "metadata": {},
     "output_type": "execute_result"
    }
   ],
   "source": [
    "# Let's see our compiled model stats\n",
    "\n",
    "df_stats"
   ]
  },
  {
   "cell_type": "code",
   "execution_count": 142,
   "metadata": {},
   "outputs": [
    {
     "data": {
      "text/html": [
       "<div>\n",
       "<style scoped>\n",
       "    .dataframe tbody tr th:only-of-type {\n",
       "        vertical-align: middle;\n",
       "    }\n",
       "\n",
       "    .dataframe tbody tr th {\n",
       "        vertical-align: top;\n",
       "    }\n",
       "\n",
       "    .dataframe thead th {\n",
       "        text-align: right;\n",
       "    }\n",
       "</style>\n",
       "<table border=\"1\" class=\"dataframe\">\n",
       "  <thead>\n",
       "    <tr style=\"text-align: right;\">\n",
       "      <th></th>\n",
       "      <th>model</th>\n",
       "      <th>fit_time</th>\n",
       "      <th>train_acc</th>\n",
       "      <th>test_acc</th>\n",
       "      <th>recall</th>\n",
       "      <th>precision</th>\n",
       "      <th>f1</th>\n",
       "    </tr>\n",
       "  </thead>\n",
       "  <tbody>\n",
       "    <tr>\n",
       "      <th>0</th>\n",
       "      <td>CountVectorizer + LogisticRegression</td>\n",
       "      <td>0.874005</td>\n",
       "      <td>0.975254</td>\n",
       "      <td>0.931795</td>\n",
       "      <td>0.912048</td>\n",
       "      <td>0.949415</td>\n",
       "      <td>0.930356</td>\n",
       "    </tr>\n",
       "    <tr>\n",
       "      <th>1</th>\n",
       "      <td>TfidfVectorizer + LogisticRegression</td>\n",
       "      <td>1.495226</td>\n",
       "      <td>0.956996</td>\n",
       "      <td>0.93681</td>\n",
       "      <td>0.917671</td>\n",
       "      <td>0.954071</td>\n",
       "      <td>0.935517</td>\n",
       "    </tr>\n",
       "    <tr>\n",
       "      <th>2</th>\n",
       "      <td>TfidfVectorizer + tuned LogisticRegression</td>\n",
       "      <td>4.055915</td>\n",
       "      <td>0.955257</td>\n",
       "      <td>0.938014</td>\n",
       "      <td>0.918474</td>\n",
       "      <td>0.955704</td>\n",
       "      <td>0.936719</td>\n",
       "    </tr>\n",
       "    <tr>\n",
       "      <th>4</th>\n",
       "      <td>TFIDF + MultinomialNB</td>\n",
       "      <td>1.296156</td>\n",
       "      <td>0.941413</td>\n",
       "      <td>0.927984</td>\n",
       "      <td>0.925703</td>\n",
       "      <td>0.92981</td>\n",
       "      <td>0.927752</td>\n",
       "    </tr>\n",
       "    <tr>\n",
       "      <th>6</th>\n",
       "      <td>TfidfVectorizer + Bagging</td>\n",
       "      <td>28.872257</td>\n",
       "      <td>0.992376</td>\n",
       "      <td>0.906319</td>\n",
       "      <td>0.884739</td>\n",
       "      <td>0.924465</td>\n",
       "      <td>0.904166</td>\n",
       "    </tr>\n",
       "    <tr>\n",
       "      <th>7</th>\n",
       "      <td>TfidfVectorizer + Random Forest</td>\n",
       "      <td>2.628158</td>\n",
       "      <td>0.91446</td>\n",
       "      <td>0.90331</td>\n",
       "      <td>0.841365</td>\n",
       "      <td>0.960128</td>\n",
       "      <td>0.896832</td>\n",
       "    </tr>\n",
       "    <tr>\n",
       "      <th>8</th>\n",
       "      <td>TfidfVectorizer + ExtraTrees</td>\n",
       "      <td>1.858499</td>\n",
       "      <td>0.92175</td>\n",
       "      <td>0.911735</td>\n",
       "      <td>0.89759</td>\n",
       "      <td>0.923554</td>\n",
       "      <td>0.910387</td>\n",
       "    </tr>\n",
       "    <tr>\n",
       "      <th>9</th>\n",
       "      <td>TfidfVectorizer + AdaBoost</td>\n",
       "      <td>7.38828</td>\n",
       "      <td>0.900482</td>\n",
       "      <td>0.895286</td>\n",
       "      <td>0.832129</td>\n",
       "      <td>0.952206</td>\n",
       "      <td>0.888127</td>\n",
       "    </tr>\n",
       "    <tr>\n",
       "      <th>10</th>\n",
       "      <td>TfidfVectorizer + GradientBoost</td>\n",
       "      <td>2.421923</td>\n",
       "      <td>0.933119</td>\n",
       "      <td>0.924574</td>\n",
       "      <td>0.883534</td>\n",
       "      <td>0.96238</td>\n",
       "      <td>0.921273</td>\n",
       "    </tr>\n",
       "    <tr>\n",
       "      <th>11</th>\n",
       "      <td>TfidfVectorizer + LogReg/MNB/Grad Stack</td>\n",
       "      <td>15.633441</td>\n",
       "      <td>0.952782</td>\n",
       "      <td>0.937613</td>\n",
       "      <td>0.926908</td>\n",
       "      <td>0.947066</td>\n",
       "      <td>0.936878</td>\n",
       "    </tr>\n",
       "    <tr>\n",
       "      <th>12</th>\n",
       "      <td>TfidfVectorizer + MNB/Grad stack</td>\n",
       "      <td>4.415673</td>\n",
       "      <td>0.945693</td>\n",
       "      <td>0.931996</td>\n",
       "      <td>0.922892</td>\n",
       "      <td>0.939877</td>\n",
       "      <td>0.931307</td>\n",
       "    </tr>\n",
       "    <tr>\n",
       "      <th>13</th>\n",
       "      <td>TfidfVectorizer + Logreg/Grad stack</td>\n",
       "      <td>14.953498</td>\n",
       "      <td>0.957665</td>\n",
       "      <td>0.937212</td>\n",
       "      <td>0.92249</td>\n",
       "      <td>0.950352</td>\n",
       "      <td>0.936214</td>\n",
       "    </tr>\n",
       "    <tr>\n",
       "      <th>14</th>\n",
       "      <td>TfidfVectorizer + Logreg/MNB stack</td>\n",
       "      <td>10.692293</td>\n",
       "      <td>0.957263</td>\n",
       "      <td>0.941424</td>\n",
       "      <td>0.931727</td>\n",
       "      <td>0.950041</td>\n",
       "      <td>0.940795</td>\n",
       "    </tr>\n",
       "  </tbody>\n",
       "</table>\n",
       "</div>"
      ],
      "text/plain": [
       "                                         model   fit_time train_acc  test_acc  \\\n",
       "0         CountVectorizer + LogisticRegression   0.874005  0.975254  0.931795   \n",
       "1         TfidfVectorizer + LogisticRegression   1.495226  0.956996   0.93681   \n",
       "2   TfidfVectorizer + tuned LogisticRegression   4.055915  0.955257  0.938014   \n",
       "4                        TFIDF + MultinomialNB   1.296156  0.941413  0.927984   \n",
       "6                    TfidfVectorizer + Bagging  28.872257  0.992376  0.906319   \n",
       "7              TfidfVectorizer + Random Forest   2.628158   0.91446   0.90331   \n",
       "8                 TfidfVectorizer + ExtraTrees   1.858499   0.92175  0.911735   \n",
       "9                   TfidfVectorizer + AdaBoost    7.38828  0.900482  0.895286   \n",
       "10             TfidfVectorizer + GradientBoost   2.421923  0.933119  0.924574   \n",
       "11     TfidfVectorizer + LogReg/MNB/Grad Stack  15.633441  0.952782  0.937613   \n",
       "12            TfidfVectorizer + MNB/Grad stack   4.415673  0.945693  0.931996   \n",
       "13         TfidfVectorizer + Logreg/Grad stack  14.953498  0.957665  0.937212   \n",
       "14          TfidfVectorizer + Logreg/MNB stack  10.692293  0.957263  0.941424   \n",
       "\n",
       "      recall precision        f1  \n",
       "0   0.912048  0.949415  0.930356  \n",
       "1   0.917671  0.954071  0.935517  \n",
       "2   0.918474  0.955704  0.936719  \n",
       "4   0.925703   0.92981  0.927752  \n",
       "6   0.884739  0.924465  0.904166  \n",
       "7   0.841365  0.960128  0.896832  \n",
       "8    0.89759  0.923554  0.910387  \n",
       "9   0.832129  0.952206  0.888127  \n",
       "10  0.883534   0.96238  0.921273  \n",
       "11  0.926908  0.947066  0.936878  \n",
       "12  0.922892  0.939877  0.931307  \n",
       "13   0.92249  0.950352  0.936214  \n",
       "14  0.931727  0.950041  0.940795  "
      ]
     },
     "execution_count": 142,
     "metadata": {},
     "output_type": "execute_result"
    }
   ],
   "source": [
    "# Apply our success rubric - nobody with < 80% test accuracy is eligible\n",
    "\n",
    "df_stats = df_stats[df_stats['test_acc'] >= 0.8]\n",
    "\n",
    "df_stats"
   ]
  },
  {
   "cell_type": "code",
   "execution_count": 143,
   "metadata": {},
   "outputs": [
    {
     "data": {
      "text/html": [
       "<div>\n",
       "<style scoped>\n",
       "    .dataframe tbody tr th:only-of-type {\n",
       "        vertical-align: middle;\n",
       "    }\n",
       "\n",
       "    .dataframe tbody tr th {\n",
       "        vertical-align: top;\n",
       "    }\n",
       "\n",
       "    .dataframe thead th {\n",
       "        text-align: right;\n",
       "    }\n",
       "</style>\n",
       "<table border=\"1\" class=\"dataframe\">\n",
       "  <thead>\n",
       "    <tr style=\"text-align: right;\">\n",
       "      <th></th>\n",
       "      <th>model</th>\n",
       "      <th>fit_time</th>\n",
       "      <th>train_acc</th>\n",
       "      <th>test_acc</th>\n",
       "      <th>recall</th>\n",
       "      <th>precision</th>\n",
       "      <th>f1</th>\n",
       "    </tr>\n",
       "  </thead>\n",
       "  <tbody>\n",
       "    <tr>\n",
       "      <th>0</th>\n",
       "      <td>CountVectorizer + LogisticRegression</td>\n",
       "      <td>0.874005</td>\n",
       "      <td>0.975254</td>\n",
       "      <td>0.931795</td>\n",
       "      <td>0.912048</td>\n",
       "      <td>0.949415</td>\n",
       "      <td>0.930356</td>\n",
       "    </tr>\n",
       "    <tr>\n",
       "      <th>1</th>\n",
       "      <td>TfidfVectorizer + LogisticRegression</td>\n",
       "      <td>1.495226</td>\n",
       "      <td>0.956996</td>\n",
       "      <td>0.93681</td>\n",
       "      <td>0.917671</td>\n",
       "      <td>0.954071</td>\n",
       "      <td>0.935517</td>\n",
       "    </tr>\n",
       "    <tr>\n",
       "      <th>2</th>\n",
       "      <td>TfidfVectorizer + tuned LogisticRegression</td>\n",
       "      <td>4.055915</td>\n",
       "      <td>0.955257</td>\n",
       "      <td>0.938014</td>\n",
       "      <td>0.918474</td>\n",
       "      <td>0.955704</td>\n",
       "      <td>0.936719</td>\n",
       "    </tr>\n",
       "    <tr>\n",
       "      <th>3</th>\n",
       "      <td>TFIDF + MultinomialNB</td>\n",
       "      <td>1.296156</td>\n",
       "      <td>0.941413</td>\n",
       "      <td>0.927984</td>\n",
       "      <td>0.925703</td>\n",
       "      <td>0.92981</td>\n",
       "      <td>0.927752</td>\n",
       "    </tr>\n",
       "    <tr>\n",
       "      <th>4</th>\n",
       "      <td>TfidfVectorizer + Bagging</td>\n",
       "      <td>28.872257</td>\n",
       "      <td>0.992376</td>\n",
       "      <td>0.906319</td>\n",
       "      <td>0.884739</td>\n",
       "      <td>0.924465</td>\n",
       "      <td>0.904166</td>\n",
       "    </tr>\n",
       "    <tr>\n",
       "      <th>5</th>\n",
       "      <td>TfidfVectorizer + Random Forest</td>\n",
       "      <td>2.628158</td>\n",
       "      <td>0.91446</td>\n",
       "      <td>0.90331</td>\n",
       "      <td>0.841365</td>\n",
       "      <td>0.960128</td>\n",
       "      <td>0.896832</td>\n",
       "    </tr>\n",
       "    <tr>\n",
       "      <th>6</th>\n",
       "      <td>TfidfVectorizer + ExtraTrees</td>\n",
       "      <td>1.858499</td>\n",
       "      <td>0.92175</td>\n",
       "      <td>0.911735</td>\n",
       "      <td>0.89759</td>\n",
       "      <td>0.923554</td>\n",
       "      <td>0.910387</td>\n",
       "    </tr>\n",
       "    <tr>\n",
       "      <th>7</th>\n",
       "      <td>TfidfVectorizer + AdaBoost</td>\n",
       "      <td>7.38828</td>\n",
       "      <td>0.900482</td>\n",
       "      <td>0.895286</td>\n",
       "      <td>0.832129</td>\n",
       "      <td>0.952206</td>\n",
       "      <td>0.888127</td>\n",
       "    </tr>\n",
       "    <tr>\n",
       "      <th>8</th>\n",
       "      <td>TfidfVectorizer + GradientBoost</td>\n",
       "      <td>2.421923</td>\n",
       "      <td>0.933119</td>\n",
       "      <td>0.924574</td>\n",
       "      <td>0.883534</td>\n",
       "      <td>0.96238</td>\n",
       "      <td>0.921273</td>\n",
       "    </tr>\n",
       "    <tr>\n",
       "      <th>9</th>\n",
       "      <td>TfidfVectorizer + LogReg/MNB/Grad Stack</td>\n",
       "      <td>15.633441</td>\n",
       "      <td>0.952782</td>\n",
       "      <td>0.937613</td>\n",
       "      <td>0.926908</td>\n",
       "      <td>0.947066</td>\n",
       "      <td>0.936878</td>\n",
       "    </tr>\n",
       "    <tr>\n",
       "      <th>10</th>\n",
       "      <td>TfidfVectorizer + MNB/Grad stack</td>\n",
       "      <td>4.415673</td>\n",
       "      <td>0.945693</td>\n",
       "      <td>0.931996</td>\n",
       "      <td>0.922892</td>\n",
       "      <td>0.939877</td>\n",
       "      <td>0.931307</td>\n",
       "    </tr>\n",
       "    <tr>\n",
       "      <th>11</th>\n",
       "      <td>TfidfVectorizer + Logreg/Grad stack</td>\n",
       "      <td>14.953498</td>\n",
       "      <td>0.957665</td>\n",
       "      <td>0.937212</td>\n",
       "      <td>0.92249</td>\n",
       "      <td>0.950352</td>\n",
       "      <td>0.936214</td>\n",
       "    </tr>\n",
       "    <tr>\n",
       "      <th>12</th>\n",
       "      <td>TfidfVectorizer + Logreg/MNB stack</td>\n",
       "      <td>10.692293</td>\n",
       "      <td>0.957263</td>\n",
       "      <td>0.941424</td>\n",
       "      <td>0.931727</td>\n",
       "      <td>0.950041</td>\n",
       "      <td>0.940795</td>\n",
       "    </tr>\n",
       "  </tbody>\n",
       "</table>\n",
       "</div>"
      ],
      "text/plain": [
       "                                         model   fit_time train_acc  test_acc  \\\n",
       "0         CountVectorizer + LogisticRegression   0.874005  0.975254  0.931795   \n",
       "1         TfidfVectorizer + LogisticRegression   1.495226  0.956996   0.93681   \n",
       "2   TfidfVectorizer + tuned LogisticRegression   4.055915  0.955257  0.938014   \n",
       "3                        TFIDF + MultinomialNB   1.296156  0.941413  0.927984   \n",
       "4                    TfidfVectorizer + Bagging  28.872257  0.992376  0.906319   \n",
       "5              TfidfVectorizer + Random Forest   2.628158   0.91446   0.90331   \n",
       "6                 TfidfVectorizer + ExtraTrees   1.858499   0.92175  0.911735   \n",
       "7                   TfidfVectorizer + AdaBoost    7.38828  0.900482  0.895286   \n",
       "8              TfidfVectorizer + GradientBoost   2.421923  0.933119  0.924574   \n",
       "9      TfidfVectorizer + LogReg/MNB/Grad Stack  15.633441  0.952782  0.937613   \n",
       "10            TfidfVectorizer + MNB/Grad stack   4.415673  0.945693  0.931996   \n",
       "11         TfidfVectorizer + Logreg/Grad stack  14.953498  0.957665  0.937212   \n",
       "12          TfidfVectorizer + Logreg/MNB stack  10.692293  0.957263  0.941424   \n",
       "\n",
       "      recall precision        f1  \n",
       "0   0.912048  0.949415  0.930356  \n",
       "1   0.917671  0.954071  0.935517  \n",
       "2   0.918474  0.955704  0.936719  \n",
       "3   0.925703   0.92981  0.927752  \n",
       "4   0.884739  0.924465  0.904166  \n",
       "5   0.841365  0.960128  0.896832  \n",
       "6    0.89759  0.923554  0.910387  \n",
       "7   0.832129  0.952206  0.888127  \n",
       "8   0.883534   0.96238  0.921273  \n",
       "9   0.926908  0.947066  0.936878  \n",
       "10  0.922892  0.939877  0.931307  \n",
       "11   0.92249  0.950352  0.936214  \n",
       "12  0.931727  0.950041  0.940795  "
      ]
     },
     "execution_count": 143,
     "metadata": {},
     "output_type": "execute_result"
    }
   ],
   "source": [
    "# Oops we need to reset the index to something reasonable\n",
    "\n",
    "df_stats.index = range(0, 13)\n",
    "df_stats\n",
    "\n",
    "# Looking better"
   ]
  },
  {
   "cell_type": "code",
   "execution_count": 144,
   "metadata": {},
   "outputs": [],
   "source": [
    "# Let's export!\n",
    "\n",
    "df_stats.to_csv(\"../data/model_stats.csv\", index = False)"
   ]
  },
  {
   "cell_type": "markdown",
   "metadata": {},
   "source": [
    "**FINAL NOTES**\n",
    "- The results of the retrieval are exported [here](../data/model_stats.csv).\n",
    "- The next FORMAL notebook in the series is [Results and Recommendations](./05_results.ipynb).\n",
    "- If you'd like to see a couple of experiments, check out [Experiments](./04a_experiments.ipynb)."
   ]
  }
 ],
 "metadata": {
  "kernelspec": {
   "display_name": "Python 3.9.12 ('base')",
   "language": "python",
   "name": "python3"
  },
  "language_info": {
   "codemirror_mode": {
    "name": "ipython",
    "version": 3
   },
   "file_extension": ".py",
   "mimetype": "text/x-python",
   "name": "python",
   "nbconvert_exporter": "python",
   "pygments_lexer": "ipython3",
   "version": "3.9.12"
  },
  "orig_nbformat": 4,
  "vscode": {
   "interpreter": {
    "hash": "5c5d815f4904d5c36e1cb6a23cb867a61c9881b6acdb1b6d63422ceae43ed5d6"
   }
  }
 },
 "nbformat": 4,
 "nbformat_minor": 2
}
