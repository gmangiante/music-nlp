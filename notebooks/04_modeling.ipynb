{
 "cells": [
  {
   "cell_type": "code",
   "execution_count": 3,
   "metadata": {},
   "outputs": [],
   "source": [
    "import pandas as pd\n",
    "from sklearn.model_selection import train_test_split, GridSearchCV\n",
    "from sklearn.pipeline import Pipeline\n",
    "from sklearn.linear_model import LogisticRegression\n",
    "from sklearn.neighbors import KNeighborsClassifier\n",
    "from sklearn.metrics import confusion_matrix, plot_confusion_matrix\n",
    "from sklearn.feature_extraction.text import CountVectorizer, TfidfVectorizer"
   ]
  },
  {
   "cell_type": "code",
   "execution_count": 4,
   "metadata": {},
   "outputs": [],
   "source": [
    "df = pd.read_csv('../data/eda_posts.csv')"
   ]
  },
  {
   "cell_type": "code",
   "execution_count": 5,
   "metadata": {},
   "outputs": [
    {
     "data": {
      "text/html": [
       "<div>\n",
       "<style scoped>\n",
       "    .dataframe tbody tr th:only-of-type {\n",
       "        vertical-align: middle;\n",
       "    }\n",
       "\n",
       "    .dataframe tbody tr th {\n",
       "        vertical-align: top;\n",
       "    }\n",
       "\n",
       "    .dataframe thead th {\n",
       "        text-align: right;\n",
       "    }\n",
       "</style>\n",
       "<table border=\"1\" class=\"dataframe\">\n",
       "  <thead>\n",
       "    <tr style=\"text-align: right;\">\n",
       "      <th></th>\n",
       "      <th>author</th>\n",
       "      <th>created_utc</th>\n",
       "      <th>id</th>\n",
       "      <th>num_comments</th>\n",
       "      <th>score</th>\n",
       "      <th>selftext</th>\n",
       "      <th>subreddit</th>\n",
       "      <th>title</th>\n",
       "      <th>period</th>\n",
       "      <th>all_text</th>\n",
       "      <th>all_text_len</th>\n",
       "      <th>all_text_word_len</th>\n",
       "    </tr>\n",
       "  </thead>\n",
       "  <tbody>\n",
       "    <tr>\n",
       "      <th>0</th>\n",
       "      <td>discord</td>\n",
       "      <td>1221835135</td>\n",
       "      <td>72cy3</td>\n",
       "      <td>16</td>\n",
       "      <td>5</td>\n",
       "      <td>NaN</td>\n",
       "      <td>jazz</td>\n",
       "      <td>Anyone know of any dark / evil sounding jazz?</td>\n",
       "      <td>1</td>\n",
       "      <td>Anyone know of any dark evil sounding jazz</td>\n",
       "      <td>42</td>\n",
       "      <td>8</td>\n",
       "    </tr>\n",
       "    <tr>\n",
       "      <th>1</th>\n",
       "      <td>smacfarl</td>\n",
       "      <td>1222039404</td>\n",
       "      <td>72p6u</td>\n",
       "      <td>5</td>\n",
       "      <td>0</td>\n",
       "      <td>NaN</td>\n",
       "      <td>jazz</td>\n",
       "      <td>In honor of Soil &amp;amp; Pimp showing us how it'...</td>\n",
       "      <td>1</td>\n",
       "      <td>In honor of Soil Pimp showing us how it's done...</td>\n",
       "      <td>114</td>\n",
       "      <td>21</td>\n",
       "    </tr>\n",
       "    <tr>\n",
       "      <th>2</th>\n",
       "      <td>[deleted]</td>\n",
       "      <td>1223963408</td>\n",
       "      <td>76zmj</td>\n",
       "      <td>2</td>\n",
       "      <td>2</td>\n",
       "      <td>NaN</td>\n",
       "      <td>jazz</td>\n",
       "      <td>anybody have that record of Charlie Christian ...</td>\n",
       "      <td>1</td>\n",
       "      <td>anybody have that record of Charlie Christian ...</td>\n",
       "      <td>145</td>\n",
       "      <td>26</td>\n",
       "    </tr>\n",
       "    <tr>\n",
       "      <th>3</th>\n",
       "      <td>smacfarl</td>\n",
       "      <td>1224683862</td>\n",
       "      <td>78nrr</td>\n",
       "      <td>4</td>\n",
       "      <td>5</td>\n",
       "      <td>NaN</td>\n",
       "      <td>jazz</td>\n",
       "      <td>New Topline Image for Jazz subreddit. Suggesti...</td>\n",
       "      <td>1</td>\n",
       "      <td>New Topline Image for Jazz subreddit Suggestio...</td>\n",
       "      <td>73</td>\n",
       "      <td>11</td>\n",
       "    </tr>\n",
       "    <tr>\n",
       "      <th>4</th>\n",
       "      <td>ChefEspeff</td>\n",
       "      <td>1235783273</td>\n",
       "      <td>80wtq</td>\n",
       "      <td>10</td>\n",
       "      <td>2</td>\n",
       "      <td>NaN</td>\n",
       "      <td>jazz</td>\n",
       "      <td>Teaching yourself Jazz Piano, is it possible?</td>\n",
       "      <td>1</td>\n",
       "      <td>Teaching yourself Jazz Piano is it possible</td>\n",
       "      <td>43</td>\n",
       "      <td>7</td>\n",
       "    </tr>\n",
       "  </tbody>\n",
       "</table>\n",
       "</div>"
      ],
      "text/plain": [
       "       author  created_utc     id  num_comments  score selftext subreddit  \\\n",
       "0     discord   1221835135  72cy3            16      5      NaN      jazz   \n",
       "1    smacfarl   1222039404  72p6u             5      0      NaN      jazz   \n",
       "2   [deleted]   1223963408  76zmj             2      2      NaN      jazz   \n",
       "3    smacfarl   1224683862  78nrr             4      5      NaN      jazz   \n",
       "4  ChefEspeff   1235783273  80wtq            10      2      NaN      jazz   \n",
       "\n",
       "                                               title  period  \\\n",
       "0     Anyone know of any dark / evil sounding jazz?        1   \n",
       "1  In honor of Soil &amp; Pimp showing us how it'...       1   \n",
       "2  anybody have that record of Charlie Christian ...       1   \n",
       "3  New Topline Image for Jazz subreddit. Suggesti...       1   \n",
       "4      Teaching yourself Jazz Piano, is it possible?       1   \n",
       "\n",
       "                                            all_text  all_text_len  \\\n",
       "0         Anyone know of any dark evil sounding jazz            42   \n",
       "1  In honor of Soil Pimp showing us how it's done...           114   \n",
       "2  anybody have that record of Charlie Christian ...           145   \n",
       "3  New Topline Image for Jazz subreddit Suggestio...            73   \n",
       "4        Teaching yourself Jazz Piano is it possible            43   \n",
       "\n",
       "   all_text_word_len  \n",
       "0                  8  \n",
       "1                 21  \n",
       "2                 26  \n",
       "3                 11  \n",
       "4                  7  "
      ]
     },
     "execution_count": 5,
     "metadata": {},
     "output_type": "execute_result"
    }
   ],
   "source": [
    "df.head()"
   ]
  },
  {
   "cell_type": "code",
   "execution_count": 6,
   "metadata": {},
   "outputs": [],
   "source": [
    "# let's encode our classes\n",
    "# https://benalexkeen.com/mapping-categorical-data-in-pandas/\n",
    "df['subreddit_code'] = df['subreddit'].astype('category').cat.codes"
   ]
  },
  {
   "cell_type": "code",
   "execution_count": 7,
   "metadata": {},
   "outputs": [
    {
     "data": {
      "text/html": [
       "<div>\n",
       "<style scoped>\n",
       "    .dataframe tbody tr th:only-of-type {\n",
       "        vertical-align: middle;\n",
       "    }\n",
       "\n",
       "    .dataframe tbody tr th {\n",
       "        vertical-align: top;\n",
       "    }\n",
       "\n",
       "    .dataframe thead th {\n",
       "        text-align: right;\n",
       "    }\n",
       "</style>\n",
       "<table border=\"1\" class=\"dataframe\">\n",
       "  <thead>\n",
       "    <tr style=\"text-align: right;\">\n",
       "      <th></th>\n",
       "      <th>author</th>\n",
       "      <th>created_utc</th>\n",
       "      <th>id</th>\n",
       "      <th>num_comments</th>\n",
       "      <th>score</th>\n",
       "      <th>selftext</th>\n",
       "      <th>subreddit</th>\n",
       "      <th>title</th>\n",
       "      <th>period</th>\n",
       "      <th>all_text</th>\n",
       "      <th>all_text_len</th>\n",
       "      <th>all_text_word_len</th>\n",
       "      <th>subreddit_code</th>\n",
       "    </tr>\n",
       "  </thead>\n",
       "  <tbody>\n",
       "    <tr>\n",
       "      <th>0</th>\n",
       "      <td>discord</td>\n",
       "      <td>1221835135</td>\n",
       "      <td>72cy3</td>\n",
       "      <td>16</td>\n",
       "      <td>5</td>\n",
       "      <td>NaN</td>\n",
       "      <td>jazz</td>\n",
       "      <td>Anyone know of any dark / evil sounding jazz?</td>\n",
       "      <td>1</td>\n",
       "      <td>Anyone know of any dark evil sounding jazz</td>\n",
       "      <td>42</td>\n",
       "      <td>8</td>\n",
       "      <td>1</td>\n",
       "    </tr>\n",
       "    <tr>\n",
       "      <th>1</th>\n",
       "      <td>smacfarl</td>\n",
       "      <td>1222039404</td>\n",
       "      <td>72p6u</td>\n",
       "      <td>5</td>\n",
       "      <td>0</td>\n",
       "      <td>NaN</td>\n",
       "      <td>jazz</td>\n",
       "      <td>In honor of Soil &amp;amp; Pimp showing us how it'...</td>\n",
       "      <td>1</td>\n",
       "      <td>In honor of Soil Pimp showing us how it's done...</td>\n",
       "      <td>114</td>\n",
       "      <td>21</td>\n",
       "      <td>1</td>\n",
       "    </tr>\n",
       "    <tr>\n",
       "      <th>2</th>\n",
       "      <td>[deleted]</td>\n",
       "      <td>1223963408</td>\n",
       "      <td>76zmj</td>\n",
       "      <td>2</td>\n",
       "      <td>2</td>\n",
       "      <td>NaN</td>\n",
       "      <td>jazz</td>\n",
       "      <td>anybody have that record of Charlie Christian ...</td>\n",
       "      <td>1</td>\n",
       "      <td>anybody have that record of Charlie Christian ...</td>\n",
       "      <td>145</td>\n",
       "      <td>26</td>\n",
       "      <td>1</td>\n",
       "    </tr>\n",
       "    <tr>\n",
       "      <th>3</th>\n",
       "      <td>smacfarl</td>\n",
       "      <td>1224683862</td>\n",
       "      <td>78nrr</td>\n",
       "      <td>4</td>\n",
       "      <td>5</td>\n",
       "      <td>NaN</td>\n",
       "      <td>jazz</td>\n",
       "      <td>New Topline Image for Jazz subreddit. Suggesti...</td>\n",
       "      <td>1</td>\n",
       "      <td>New Topline Image for Jazz subreddit Suggestio...</td>\n",
       "      <td>73</td>\n",
       "      <td>11</td>\n",
       "      <td>1</td>\n",
       "    </tr>\n",
       "    <tr>\n",
       "      <th>4</th>\n",
       "      <td>ChefEspeff</td>\n",
       "      <td>1235783273</td>\n",
       "      <td>80wtq</td>\n",
       "      <td>10</td>\n",
       "      <td>2</td>\n",
       "      <td>NaN</td>\n",
       "      <td>jazz</td>\n",
       "      <td>Teaching yourself Jazz Piano, is it possible?</td>\n",
       "      <td>1</td>\n",
       "      <td>Teaching yourself Jazz Piano is it possible</td>\n",
       "      <td>43</td>\n",
       "      <td>7</td>\n",
       "      <td>1</td>\n",
       "    </tr>\n",
       "  </tbody>\n",
       "</table>\n",
       "</div>"
      ],
      "text/plain": [
       "       author  created_utc     id  num_comments  score selftext subreddit  \\\n",
       "0     discord   1221835135  72cy3            16      5      NaN      jazz   \n",
       "1    smacfarl   1222039404  72p6u             5      0      NaN      jazz   \n",
       "2   [deleted]   1223963408  76zmj             2      2      NaN      jazz   \n",
       "3    smacfarl   1224683862  78nrr             4      5      NaN      jazz   \n",
       "4  ChefEspeff   1235783273  80wtq            10      2      NaN      jazz   \n",
       "\n",
       "                                               title  period  \\\n",
       "0     Anyone know of any dark / evil sounding jazz?        1   \n",
       "1  In honor of Soil &amp; Pimp showing us how it'...       1   \n",
       "2  anybody have that record of Charlie Christian ...       1   \n",
       "3  New Topline Image for Jazz subreddit. Suggesti...       1   \n",
       "4      Teaching yourself Jazz Piano, is it possible?       1   \n",
       "\n",
       "                                            all_text  all_text_len  \\\n",
       "0         Anyone know of any dark evil sounding jazz            42   \n",
       "1  In honor of Soil Pimp showing us how it's done...           114   \n",
       "2  anybody have that record of Charlie Christian ...           145   \n",
       "3  New Topline Image for Jazz subreddit Suggestio...            73   \n",
       "4        Teaching yourself Jazz Piano is it possible            43   \n",
       "\n",
       "   all_text_word_len  subreddit_code  \n",
       "0                  8               1  \n",
       "1                 21               1  \n",
       "2                 26               1  \n",
       "3                 11               1  \n",
       "4                  7               1  "
      ]
     },
     "execution_count": 7,
     "metadata": {},
     "output_type": "execute_result"
    }
   ],
   "source": [
    "df.head()"
   ]
  },
  {
   "cell_type": "code",
   "execution_count": 8,
   "metadata": {},
   "outputs": [],
   "source": [
    "X = df['all_text']\n",
    "y = df['subreddit_code']"
   ]
  },
  {
   "cell_type": "code",
   "execution_count": 9,
   "metadata": {},
   "outputs": [
    {
     "data": {
      "text/plain": [
       "((14954,), (4985,), (14954,), (4985,))"
      ]
     },
     "execution_count": 9,
     "metadata": {},
     "output_type": "execute_result"
    }
   ],
   "source": [
    "X_train, X_test, y_train, y_test = train_test_split(X, y, random_state = 42, stratify = y)\n",
    "X_train.shape, X_test.shape, y_train.shape, y_test.shape"
   ]
  },
  {
   "cell_type": "code",
   "execution_count": 10,
   "metadata": {},
   "outputs": [
    {
     "data": {
      "text/plain": [
       "0    0.500401\n",
       "1    0.499599\n",
       "Name: subreddit_code, dtype: float64"
      ]
     },
     "execution_count": 10,
     "metadata": {},
     "output_type": "execute_result"
    }
   ],
   "source": [
    "y_train.value_counts(normalize = True)"
   ]
  },
  {
   "cell_type": "code",
   "execution_count": 11,
   "metadata": {},
   "outputs": [
    {
     "data": {
      "text/plain": [
       "0    0.500502\n",
       "1    0.499498\n",
       "Name: subreddit_code, dtype: float64"
      ]
     },
     "execution_count": 11,
     "metadata": {},
     "output_type": "execute_result"
    }
   ],
   "source": [
    "y_test.value_counts(normalize = True)"
   ]
  },
  {
   "cell_type": "code",
   "execution_count": 12,
   "metadata": {},
   "outputs": [
    {
     "name": "stderr",
     "output_type": "stream",
     "text": [
      "c:\\Users\\Gabe\\anaconda3\\lib\\site-packages\\sklearn\\model_selection\\_validation.py:372: FitFailedWarning: \n",
      "360 fits failed out of a total of 720.\n",
      "The score on these train-test partitions for these parameters will be set to nan.\n",
      "If these failures are not expected, you can try to debug them by setting error_score='raise'.\n",
      "\n",
      "Below are more details about the failures:\n",
      "--------------------------------------------------------------------------------\n",
      "180 fits failed with the following error:\n",
      "Traceback (most recent call last):\n",
      "  File \"c:\\Users\\Gabe\\anaconda3\\lib\\site-packages\\sklearn\\model_selection\\_validation.py\", line 680, in _fit_and_score\n",
      "    estimator.fit(X_train, y_train, **fit_params)\n",
      "  File \"c:\\Users\\Gabe\\anaconda3\\lib\\site-packages\\sklearn\\pipeline.py\", line 394, in fit\n",
      "    self._final_estimator.fit(Xt, y, **fit_params_last_step)\n",
      "  File \"c:\\Users\\Gabe\\anaconda3\\lib\\site-packages\\sklearn\\linear_model\\_logistic.py\", line 1461, in fit\n",
      "    solver = _check_solver(self.solver, self.penalty, self.dual)\n",
      "  File \"c:\\Users\\Gabe\\anaconda3\\lib\\site-packages\\sklearn\\linear_model\\_logistic.py\", line 447, in _check_solver\n",
      "    raise ValueError(\n",
      "ValueError: Solver lbfgs supports only 'l2' or 'none' penalties, got l1 penalty.\n",
      "\n",
      "--------------------------------------------------------------------------------\n",
      "180 fits failed with the following error:\n",
      "Traceback (most recent call last):\n",
      "  File \"c:\\Users\\Gabe\\anaconda3\\lib\\site-packages\\sklearn\\model_selection\\_validation.py\", line 680, in _fit_and_score\n",
      "    estimator.fit(X_train, y_train, **fit_params)\n",
      "  File \"c:\\Users\\Gabe\\anaconda3\\lib\\site-packages\\sklearn\\pipeline.py\", line 394, in fit\n",
      "    self._final_estimator.fit(Xt, y, **fit_params_last_step)\n",
      "  File \"c:\\Users\\Gabe\\anaconda3\\lib\\site-packages\\sklearn\\linear_model\\_logistic.py\", line 1461, in fit\n",
      "    solver = _check_solver(self.solver, self.penalty, self.dual)\n",
      "  File \"c:\\Users\\Gabe\\anaconda3\\lib\\site-packages\\sklearn\\linear_model\\_logistic.py\", line 447, in _check_solver\n",
      "    raise ValueError(\n",
      "ValueError: Solver lbfgs supports only 'l2' or 'none' penalties, got elasticnet penalty.\n",
      "\n",
      "  warnings.warn(some_fits_failed_message, FitFailedWarning)\n",
      "c:\\Users\\Gabe\\anaconda3\\lib\\site-packages\\sklearn\\model_selection\\_search.py:969: UserWarning: One or more of the test scores are non-finite: [       nan 0.91340071        nan 0.8972851         nan 0.91761376\n",
      "        nan 0.89327233        nan 0.91413628        nan 0.8970847\n",
      "        nan 0.91741315        nan 0.89354           nan 0.91781413\n",
      "        nan 0.89788648        nan 0.92289636        nan 0.89768568\n",
      "        nan 0.91788107        nan 0.89708401        nan 0.92276267\n",
      "        nan 0.8979531         nan 0.92035556        nan 0.89828775\n",
      "        nan 0.92470211        nan 0.89862182        nan 0.92055614\n",
      "        nan 0.89781972        nan 0.92470209        nan 0.89788641\n",
      "        nan 0.91467137        nan 0.89347349        nan 0.91761376\n",
      "        nan 0.89327233        nan 0.91427021        nan 0.89374113\n",
      "        nan 0.91741315        nan 0.89354           nan 0.91868377\n",
      "        nan 0.897017          nan 0.92289636        nan 0.89768568\n",
      "        nan 0.91908508        nan 0.89721763        nan 0.92276267\n",
      "        nan 0.8979531         nan 0.92055641        nan 0.89842146\n",
      "        nan 0.92470211        nan 0.89862182        nan 0.92069012\n",
      "        nan 0.89909007        nan 0.92470209        nan 0.89788641\n",
      "        nan 0.91340071        nan 0.8972851         nan 0.91761376\n",
      "        nan 0.89327233        nan 0.91413628        nan 0.8970847\n",
      "        nan 0.91741315        nan 0.89354           nan 0.91781413\n",
      "        nan 0.89788648        nan 0.92289636        nan 0.89768568\n",
      "        nan 0.91788107        nan 0.89708401        nan 0.92276267\n",
      "        nan 0.8979531         nan 0.92035556        nan 0.89828775\n",
      "        nan 0.92470211        nan 0.89862182        nan 0.92055614\n",
      "        nan 0.89781972        nan 0.92470209        nan 0.89788641]\n",
      "  warnings.warn(\n",
      "c:\\Users\\Gabe\\anaconda3\\lib\\site-packages\\sklearn\\linear_model\\_logistic.py:814: ConvergenceWarning: lbfgs failed to converge (status=1):\n",
      "STOP: TOTAL NO. of ITERATIONS REACHED LIMIT.\n",
      "\n",
      "Increase the number of iterations (max_iter) or scale the data as shown in:\n",
      "    https://scikit-learn.org/stable/modules/preprocessing.html\n",
      "Please also refer to the documentation for alternative solver options:\n",
      "    https://scikit-learn.org/stable/modules/linear_model.html#logistic-regression\n",
      "  n_iter_i = _check_optimize_result(\n"
     ]
    },
    {
     "data": {
      "text/plain": [
       "Pipeline(steps=[('cvec',\n",
       "                 CountVectorizer(max_df=0.8, max_features=4000, min_df=2,\n",
       "                                 stop_words='english')),\n",
       "                ('logreg', LogisticRegression())])"
      ]
     },
     "execution_count": 12,
     "metadata": {},
     "output_type": "execute_result"
    }
   ],
   "source": [
    "pipe = Pipeline(steps = [('cvec', CountVectorizer()), ('logreg', LogisticRegression())])\n",
    "\n",
    "pipe_params = {\n",
    "    'cvec__stop_words': [None, 'english'],\n",
    "    'cvec__max_features': [2000, 3000, 4000],\n",
    "    'cvec__min_df': [2, 4],\n",
    "    'cvec__max_df': [0.8, 0.5, 1.0],\n",
    "    'logreg__penalty': ['l1', 'l2', 'elasticnet', 'none']\n",
    "}\n",
    "\n",
    "gs = GridSearchCV(estimator = pipe, param_grid = pipe_params, n_jobs = -1)\n",
    "gs.fit(X_train, y_train)\n",
    "gs.best_estimator_"
   ]
  },
  {
   "cell_type": "code",
   "execution_count": 13,
   "metadata": {},
   "outputs": [
    {
     "data": {
      "text/plain": [
       "(0.972850073558914, 0.9297893681043129)"
      ]
     },
     "execution_count": 13,
     "metadata": {},
     "output_type": "execute_result"
    }
   ],
   "source": [
    "gs.score(X_train, y_train), gs.score(X_test, y_test)"
   ]
  },
  {
   "cell_type": "code",
   "execution_count": 14,
   "metadata": {},
   "outputs": [
    {
     "name": "stderr",
     "output_type": "stream",
     "text": [
      "c:\\Users\\Gabe\\anaconda3\\lib\\site-packages\\sklearn\\utils\\deprecation.py:87: FutureWarning: Function plot_confusion_matrix is deprecated; Function `plot_confusion_matrix` is deprecated in 1.0 and will be removed in 1.2. Use one of the class methods: ConfusionMatrixDisplay.from_predictions or ConfusionMatrixDisplay.from_estimator.\n",
      "  warnings.warn(msg, category=FutureWarning)\n"
     ]
    },
    {
     "data": {
      "image/png": "[encoded data removed]",
      "text/plain": [
       "<Figure size 432x288 with 2 Axes>"
      ]
     },
     "metadata": {
      "needs_background": "light"
     },
     "output_type": "display_data"
    }
   ],
   "source": [
    "# Get predictions\n",
    "preds = gs.predict(X_test)\n",
    "# Save confusion matrix values\n",
    "tn, fp, fn, tp = confusion_matrix(y_test, preds).ravel()\n",
    "plot_confusion_matrix(gs, X_test, y_test, cmap='Blues', values_format='d');"
   ]
  },
  {
   "cell_type": "code",
   "execution_count": 15,
   "metadata": {},
   "outputs": [
    {
     "data": {
      "text/plain": [
       "0.9104417670682731"
      ]
     },
     "execution_count": 15,
     "metadata": {},
     "output_type": "execute_result"
    }
   ],
   "source": [
    "sensitivity = tp/(tp + fn)\n",
    "sensitivity"
   ]
  },
  {
   "cell_type": "code",
   "execution_count": 16,
   "metadata": {},
   "outputs": [
    {
     "data": {
      "text/plain": [
       "0.9490981963927856"
      ]
     },
     "execution_count": 16,
     "metadata": {},
     "output_type": "execute_result"
    }
   ],
   "source": [
    "specificity = tn/(tn + fp)\n",
    "specificity"
   ]
  },
  {
   "cell_type": "code",
   "execution_count": 17,
   "metadata": {},
   "outputs": [],
   "source": [
    "# ROC/AUC?\n",
    "\n",
    "# Then could try knn, naive bayes, bagging\n",
    "# Cvec vs. TFIDF\n",
    "\n",
    "# stem/lemma\n",
    "# all other algs\n",
    "# look thru nlp labs/lessons for suggestions\n",
    "# top words/bigrams/trigrams?"
   ]
  }
 ],
 "metadata": {
  "kernelspec": {
   "display_name": "Python 3.9.12 ('base')",
   "language": "python",
   "name": "python3"
  },
  "language_info": {
   "codemirror_mode": {
    "name": "ipython",
    "version": 3
   },
   "file_extension": ".py",
   "mimetype": "text/x-python",
   "name": "python",
   "nbconvert_exporter": "python",
   "pygments_lexer": "ipython3",
   "version": "3.9.12"
  },
  "orig_nbformat": 4,
  "vscode": {
   "interpreter": {
    "hash": "5c5d815f4904d5c36e1cb6a23cb867a61c9881b6acdb1b6d63422ceae43ed5d6"
   }
  }
 },
 "nbformat": 4,
 "nbformat_minor": 2
}
